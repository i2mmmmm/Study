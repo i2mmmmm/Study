{
  "nbformat": 4,
  "nbformat_minor": 0,
  "metadata": {
    "colab": {
      "provenance": [],
      "authorship_tag": "ABX9TyOajfqU4RPE8ipHDDY18FrQ",
      "include_colab_link": true
    },
    "kernelspec": {
      "name": "python3",
      "display_name": "Python 3"
    },
    "language_info": {
      "name": "python"
    }
  },
  "cells": [
    {
      "cell_type": "markdown",
      "metadata": {
        "id": "view-in-github",
        "colab_type": "text"
      },
      "source": [
        "<a href=\"https://colab.research.google.com/github/i2mmmmm/Study/blob/main/Python/basic/class.ipynb\" target=\"_parent\"><img src=\"https://colab.research.google.com/assets/colab-badge.svg\" alt=\"Open In Colab\"/></a>"
      ]
    },
    {
      "cell_type": "markdown",
      "source": [
        "## Class\n",
        "Classes provide a means of bundling data and functionality together  \n",
        "= **데이터**와 **기능**을 묶는 수단  \n",
        "= 개념의 설계도\n",
        "\n",
        "## instances\n",
        "클래스를 사용해 만든 것 (객체)\n",
        "\n",
        "## `__init__`\n",
        "새로운 인스턴스를 만들 때 실행되는 초기화 메서드  \n",
        "= class 의 시작\n",
        "\n",
        "## self\n",
        "인스턴스 자체를 가리키는 키워드\n",
        "\n",
        "## Magic method\n",
        "__ 로 시작해 __ 로 끝나는 매소드 = special method\n",
        "\n",
        "`__init__`(self, ...): 객체가 생성될 때 호출되는 생성자 메서드  \n",
        "`__del__`(self): 객체가 소멸될 때 호출되는 소멸자 메서드  \n",
        "`__repr__`(self): 객체의 공식적인 문자열 표현을 반환  \n",
        "`__str__`(self): 객체의 비공식적인 문자열 표현을 반환  \n",
        "`__len__`(self): 객체의 길이를 반환  \n",
        "`__getitem__`(self, key): 객체의 특정 항목에 접근할 때 호출  \n",
        "`__setitem__`(self, key, value): 객체의 특정 항목을 설정할 때 호출  \n",
        "`__delitem__`(self, key): 객체의 특정 항목을 삭제할 때 호출  \n",
        "`__iter__`(self): 객체가 이터레이터를 반환  \n",
        "`__next__`(self): 객체의 다음 항목을 반환  \n",
        "`__contains__`(self, item): 객체에 특정 항목이 포함되어 있는지 확인"
      ],
      "metadata": {
        "id": "PduBzUja-YE5"
      }
    },
    {
      "cell_type": "code",
      "execution_count": 47,
      "metadata": {
        "colab": {
          "base_uri": "https://localhost:8080/"
        },
        "id": "Ulk-nJsNoPWE",
        "outputId": "51f14e29-47f4-4009-e20c-edeca355d8b4"
      },
      "outputs": [
        {
          "output_type": "stream",
          "name": "stdout",
          "text": [
            "Buddy\n",
            "3\n",
            "Buddy is barking\n"
          ]
        }
      ],
      "source": [
        "class Dog:\n",
        "    def __init__(self, name, age):\n",
        "        self.name = name  # 인스턴스 변수 'name' 초기화\n",
        "        self.age = age    # 인스턴스 변수 'age' 초기화\n",
        "\n",
        "    def bark(self):\n",
        "        print(f\"{self.name} is barking\")\n",
        "\n",
        "# Dog 클래스를 사용하여 새로운 인스턴스를 생성\n",
        "my_dog = Dog(\"Buddy\", 3)\n",
        "\n",
        "# 인스턴스 변수에 접근\n",
        "print(my_dog.name)  # 출력: Buddy\n",
        "print(my_dog.age)   # 출력: 3\n",
        "\n",
        "# 인스턴스 메서드 호출\n",
        "my_dog.bark()       # 출력: Buddy is barking\n"
      ]
    },
    {
      "cell_type": "code",
      "source": [
        "print(my_dog.name)  # Buddy\n",
        "print(your_dog.name)  # Charlie\n",
        "print(her_dog.name)  # Daisy\n",
        "print(his_dog.name)  # Max\n",
        "\n",
        "my_dog.bark()  # Buddy is barking\n",
        "your_dog.bark()  # Charlie is barking\n",
        "her_dog.bark()  # Daisy is barking\n",
        "his_dog.bark()  # Max is barking"
      ],
      "metadata": {
        "colab": {
          "base_uri": "https://localhost:8080/"
        },
        "id": "uzM4bjZRwD1u",
        "outputId": "015f8e8e-f969-4b41-a6e8-5b833b20cf98"
      },
      "execution_count": 49,
      "outputs": [
        {
          "output_type": "stream",
          "name": "stdout",
          "text": [
            "Buddy\n",
            "Charlie\n",
            "Daisy\n",
            "Max\n",
            "Buddy is barking\n",
            "Charlie is barking\n",
            "Daisy is barking\n",
            "Max is barking\n"
          ]
        }
      ]
    },
    {
      "cell_type": "code",
      "source": [
        "class Dog:\n",
        "    def __init__(self, name, age):\n",
        "        self.name = name\n",
        "        self.age = age\n",
        "\n",
        "    def bark(self):\n",
        "        print(f\"{self.name} is barking\")\n",
        "\n",
        "    def __repr__(self):\n",
        "        return f\"Dog(name='{self.name}', age={self.age})\"\n",
        "\n",
        "    def __str__(self):\n",
        "        return f\"{self.name} is {self.age} years old.\"\n",
        ""
      ],
      "metadata": {
        "id": "1OsQXpK-wqcD"
      },
      "execution_count": 50,
      "outputs": []
    },
    {
      "cell_type": "code",
      "source": [
        "class Dog:\n",
        "    all_dogs = []  # 모든 인스턴스를 저장하는 클래스 변수\n",
        "\n",
        "    def __init__(self, name, age):\n",
        "        self.name = name\n",
        "        self.age = age\n",
        "        Dog.all_dogs.append(self)  # 새로운 인스턴스를 생성할 때마다 리스트에 추가\n",
        "\n",
        "    def bark(self):\n",
        "        print(f\"{self.name} is barking\")\n",
        "\n",
        "    def __repr__(self):\n",
        "        return f\"Dog(name='{self.name}', age={self.age})\"\n",
        "\n",
        "    def __str__(self):\n",
        "        return f\"{self.name} is {self.age} years old.\"\n",
        "\n",
        "    @classmethod\n",
        "    def show_all_dogs(cls):\n",
        "        for dog in cls.all_dogs:\n",
        "            print(dog)\n",
        "\n",
        "# 여러 개의 인스턴스를 생성\n",
        "my_dog = Dog(\"Buddy\", 3)\n",
        "your_dog = Dog(\"Charlie\", 2)\n",
        "her_dog = Dog(\"Daisy\", 5)\n",
        "his_dog = Dog(\"Max\", 4)\n",
        "\n",
        "# 모든 인스턴스 정보를 출력\n",
        "Dog.show_all_dogs()"
      ],
      "metadata": {
        "colab": {
          "base_uri": "https://localhost:8080/"
        },
        "id": "-W4fEH4Yw-7b",
        "outputId": "96121abe-0864-4c57-e98e-02f2a7eba42b"
      },
      "execution_count": 56,
      "outputs": [
        {
          "output_type": "stream",
          "name": "stdout",
          "text": [
            "Buddy is 3 years old.\n",
            "Charlie is 2 years old.\n",
            "Daisy is 5 years old.\n",
            "Max is 4 years old.\n"
          ]
        }
      ]
    }
  ]
}