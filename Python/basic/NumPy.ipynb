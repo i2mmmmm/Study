{
  "nbformat": 4,
  "nbformat_minor": 0,
  "metadata": {
    "colab": {
      "provenance": [],
      "authorship_tag": "ABX9TyMXJcWTACJfrtgdpef9WPWx",
      "include_colab_link": true
    },
    "kernelspec": {
      "name": "python3",
      "display_name": "Python 3"
    },
    "language_info": {
      "name": "python"
    }
  },
  "cells": [
    {
      "cell_type": "markdown",
      "metadata": {
        "id": "view-in-github",
        "colab_type": "text"
      },
      "source": [
        "<a href=\"https://colab.research.google.com/github/i2mmmmm/Study/blob/main/Python/basic/NumPy.ipynb\" target=\"_parent\"><img src=\"https://colab.research.google.com/assets/colab-badge.svg\" alt=\"Open In Colab\"/></a>"
      ]
    },
    {
      "cell_type": "code",
      "source": [],
      "metadata": {
        "id": "pvtEfWQoDkmM"
      },
      "execution_count": null,
      "outputs": []
    },
    {
      "cell_type": "markdown",
      "source": [
        "## 1. 벡터화 연산(Vectorized Operations)  \n",
        "NumPy는 벡터화 연산을 지원.  \n",
        "벡터화 연산은 반복문 없이 전체 배열에 대해 수치 연산을 수행하는 방식으로, 일반적인 파이썬 루프보다 훨씬 빠르게 동작한다.  \n",
        "이는 NumPy가 내부적으로 C로 구현되어 있어, 저수준 최적화를 통해 연산 속도를 극대화하기 때문이다."
      ],
      "metadata": {
        "id": "c8J4Ho1MDqD8"
      }
    },
    {
      "cell_type": "code",
      "source": [
        "import time\n",
        "\n",
        "# 일반 파이썬 리스트\n",
        "arr = list(range(1000000))\n",
        "\n",
        "start_time = time.time()\n",
        "arr = [x * 2 for x in arr]\n",
        "end_time = time.time()\n",
        "\n",
        "print(\"일반 파이썬 리스트 시간:\", end_time - start_time)"
      ],
      "metadata": {
        "colab": {
          "base_uri": "https://localhost:8080/"
        },
        "id": "JklEcDMfD8Dr",
        "outputId": "274b76bc-d914-420a-e3aa-adab567befed"
      },
      "execution_count": null,
      "outputs": [
        {
          "output_type": "stream",
          "name": "stdout",
          "text": [
            "일반 파이썬 리스트 시간: 0.16766047477722168\n"
          ]
        }
      ]
    },
    {
      "cell_type": "code",
      "source": [
        "import numpy as np\n",
        "\n",
        "# NumPy 배열\n",
        "arr = np.arange(1000000)\n",
        "\n",
        "start_time = time.time()\n",
        "arr = arr * 2\n",
        "end_time = time.time()\n",
        "\n",
        "print(\"NumPy 배열 시간:\", end_time - start_time)"
      ],
      "metadata": {
        "colab": {
          "base_uri": "https://localhost:8080/"
        },
        "id": "LbcJVDKQD-ra",
        "outputId": "430d6564-4f54-4659-e3ee-87003f4ec9b4"
      },
      "execution_count": null,
      "outputs": [
        {
          "output_type": "stream",
          "name": "stdout",
          "text": [
            "NumPy 배열 시간: 0.011507749557495117\n"
          ]
        }
      ]
    },
    {
      "cell_type": "markdown",
      "source": [
        "## 2. 효율적인 메모리 사용\n",
        "NumPy는 배열을 위한 고정된 타입의 메모리 블록을 사용.  \n",
        "이는 파이썬의 리스트와 달리 메모리 사용이 훨씬 효율적이며, 메모리 캐시 친화적이다.\n",
        "\n",
        "## 3. 다양한 기능과 최적화\n",
        "NumPy는 수많은 내장 함수와 최적화된 루틴을 제공하여 복잡한 수치 연산을 쉽게 수행할 수 있게 해준다.  \n",
        "이는 시간 복잡도를 줄이고 코드의 간결성과 가독성을 높이는 데 큰 도움이 된다.\n"
      ],
      "metadata": {
        "id": "KQOkwV7vEFss"
      }
    },
    {
      "cell_type": "code",
      "source": [
        "# 일반 파이썬 리스트\n",
        "a = list(range(1000000))\n",
        "b = list(range(1000000))\n",
        "\n",
        "start_time = time.time()\n",
        "c = [a[i] + b[i] for i in range(len(a))]\n",
        "end_time = time.time()\n",
        "\n",
        "print(\"일반 파이썬 리스트 시간:\", end_time - start_time)"
      ],
      "metadata": {
        "colab": {
          "base_uri": "https://localhost:8080/"
        },
        "id": "8R-VX8Y6EDo1",
        "outputId": "f949fd46-d04a-4acf-cfff-e19fc1f3dc52"
      },
      "execution_count": null,
      "outputs": [
        {
          "output_type": "stream",
          "name": "stdout",
          "text": [
            "일반 파이썬 리스트 시간: 0.17985749244689941\n"
          ]
        }
      ]
    },
    {
      "cell_type": "code",
      "source": [
        "# NumPy 배열\n",
        "a = np.arange(1000000)\n",
        "b = np.arange(1000000)\n",
        "\n",
        "start_time = time.time()\n",
        "c = a + b\n",
        "end_time = time.time()\n",
        "\n",
        "print(\"NumPy 배열 시간:\", end_time - start_time)"
      ],
      "metadata": {
        "colab": {
          "base_uri": "https://localhost:8080/"
        },
        "id": "XfenZ9YyEKmY",
        "outputId": "d1281e97-cbb4-4455-e20c-7dcc45308507"
      },
      "execution_count": null,
      "outputs": [
        {
          "output_type": "stream",
          "name": "stdout",
          "text": [
            "NumPy 배열 시간: 0.005232334136962891\n"
          ]
        }
      ]
    },
    {
      "cell_type": "markdown",
      "source": [
        "시간으로 확인할 수 있듯이 NumPy는 특히 대규모 데이터 처리 및 수치 연산에 있어 매우 효율적이다.  \n",
        "벡터화 연산, 효율적인 메모리 사용, 최적화된 내장 함수 등을 통해 시간 복잡도와 성능을 크게 개선할 수 있다.  \n",
        "따라서 수치 연산이 많이 필요한 작업에서는 NumPy를 사용하는 것이 좋다."
      ],
      "metadata": {
        "id": "e7_hwD4JEeHy"
      }
    },
    {
      "cell_type": "markdown",
      "source": [
        "### 예제 1. 배열 생성"
      ],
      "metadata": {
        "id": "AU9lrD3kgTeH"
      }
    },
    {
      "cell_type": "code",
      "source": [
        "import numpy as np\n",
        "\n",
        "a = np.array([1, 2, 3])\n",
        "b = np.array([[1, 2, 3], [4, 5, 6]])"
      ],
      "metadata": {
        "id": "CZ4l6UIngZLd"
      },
      "execution_count": 16,
      "outputs": []
    },
    {
      "cell_type": "code",
      "source": [
        "zeros = np.zeros((3, 3))    # 0으로 채워진\n",
        "ones = np.ones((3, 3))      # 1로 채워진\n",
        "full = np.full((3, 3), 7)   # 7로 채워진"
      ],
      "metadata": {
        "id": "JohIVBchggaG"
      },
      "execution_count": 2,
      "outputs": []
    },
    {
      "cell_type": "code",
      "source": [
        "print(full)"
      ],
      "metadata": {
        "id": "pDYQOixfgh0y",
        "outputId": "a01eed91-affa-4da4-b822-d4ec964ef3df",
        "colab": {
          "base_uri": "https://localhost:8080/"
        }
      },
      "execution_count": 5,
      "outputs": [
        {
          "output_type": "stream",
          "name": "stdout",
          "text": [
            "[[7 7 7]\n",
            " [7 7 7]\n",
            " [7 7 7]]\n"
          ]
        }
      ]
    },
    {
      "cell_type": "code",
      "source": [
        "arange = np.arange(0, 10, 2)  # [0, 2, 4, 6, 8]   # 연속된 값이나 특정 간격으로 배열\n",
        "linspace = np.linspace(0, 1, 5)  # [0. , 0.25, 0.5 , 0.75, 1. ]"
      ],
      "metadata": {
        "id": "vvX5mv3Xgl8_"
      },
      "execution_count": 7,
      "outputs": []
    },
    {
      "cell_type": "code",
      "source": [
        "random_array = np.random.rand(3, 3)             # 랜덤으로\n",
        "random_int = np.random.randint(0, 10, (3, 3))   # 랜덤 (정수)\n",
        "random_number = np.random.randn(3, 3)           # 표준 정규 분포를 따르는 난수를 생성"
      ],
      "metadata": {
        "id": "EdSXIg6DhAH_"
      },
      "execution_count": 12,
      "outputs": []
    },
    {
      "cell_type": "code",
      "source": [
        "random_number"
      ],
      "metadata": {
        "id": "pfC34EoAhFJd",
        "outputId": "2e04a112-b64c-4337-9eb1-76afb8702430",
        "colab": {
          "base_uri": "https://localhost:8080/"
        }
      },
      "execution_count": 13,
      "outputs": [
        {
          "output_type": "execute_result",
          "data": {
            "text/plain": [
              "array([[ 1.38402969,  1.16363986, -0.49604596],\n",
              "       [-0.62804106, -1.54623833,  0.37452914],\n",
              "       [ 1.63245402, -0.1950604 ,  0.84079053]])"
            ]
          },
          "metadata": {},
          "execution_count": 13
        }
      ]
    },
    {
      "cell_type": "markdown",
      "source": [
        "### 예제 2. 배열 조작"
      ],
      "metadata": {
        "id": "WDtAosYAhlKI"
      }
    },
    {
      "cell_type": "code",
      "source": [
        "# 배열 모양 변경\n",
        "\n",
        "reshaped = np.reshape(b, (3, 2))  #array([[1, 2],\n",
        "                                  #       [3, 4],\n",
        "                                  #       [5, 6]])\n",
        "flattened = b.flatten()           # array([1, 2, 3, 4, 5, 6])"
      ],
      "metadata": {
        "id": "lROen7G1hfgD"
      },
      "execution_count": 14,
      "outputs": []
    },
    {
      "cell_type": "code",
      "source": [
        "# 슬라이싱, 인덱싱\n",
        "\n",
        "sub_array = b[0, 1]  # 2\n",
        "row = b[0, :]  # [1, 2, 3]\n",
        "column = b[:, 1]  # [2, 5]"
      ],
      "metadata": {
        "id": "U6Ox1iVQiTRL"
      },
      "execution_count": 22,
      "outputs": []
    },
    {
      "cell_type": "code",
      "source": [
        "# 배열 결합 / 분할\n",
        "\n",
        "# a = array([1, 2, 3])\n",
        "vstacked = np.vstack((a, a))  # array([[1, 2, 3],\n",
        "                              #        [1, 2, 3]])\n",
        "hstacked = np.hstack((a, a))  # array([1, 2, 3, 1, 2, 3])\n",
        "split = np.split(a, 3)        # [array([1]), array([2]), array([3])]"
      ],
      "metadata": {
        "id": "fXyWNjD-ijUO"
      },
      "execution_count": 23,
      "outputs": []
    },
    {
      "cell_type": "markdown",
      "source": [
        "### 예제 3. 배열 연산"
      ],
      "metadata": {
        "id": "4GX6_rQ3i8uA"
      }
    },
    {
      "cell_type": "code",
      "source": [
        "c = a + 1               # [2, 3, 4]\n",
        "d = b * 2               # [[2, 4, 6], [8, 10, 12]]\n",
        "e = np.add(a, a)        # [2, 4, 6]\n",
        "f = np.multiply(b, 2)   # [[2, 4, 6], [8, 10, 12]]"
      ],
      "metadata": {
        "id": "8em-ie3uiruW"
      },
      "execution_count": 32,
      "outputs": []
    },
    {
      "cell_type": "code",
      "source": [
        "dot_product = np.dot(a, a)  # 14 (1*1 + 2*2 + 3*3)\n",
        "matrix_multiplication = np.matmul(b, b.T)   # array([[14, 32],\n",
        "                                            #        [32, 77]])"
      ],
      "metadata": {
        "id": "rgvnSVI4jF_5"
      },
      "execution_count": 33,
      "outputs": []
    },
    {
      "cell_type": "code",
      "source": [
        "broadcast = a + np.array([1, 2, 3])  # [2, 4, 6]"
      ],
      "metadata": {
        "id": "87bZklYdjIGL"
      },
      "execution_count": 36,
      "outputs": []
    },
    {
      "cell_type": "code",
      "source": [
        "mean = np.mean(a)   # 2.0\n",
        "sum = np.sum(a)     # 6\n",
        "std = np.std(a)     # 0.816496580927726"
      ],
      "metadata": {
        "id": "Lm4lyOxRjSYO"
      },
      "execution_count": 37,
      "outputs": []
    },
    {
      "cell_type": "code",
      "source": [
        "max_val = np.max(a)  # 3\n",
        "min_val = np.min(a)  # 1\n",
        "argmax = np.argmax(a)  # 2\n",
        "argmin = np.argmin(a)  # 0"
      ],
      "metadata": {
        "id": "5qke5uOcjeeQ"
      },
      "execution_count": 38,
      "outputs": []
    },
    {
      "cell_type": "markdown",
      "source": [
        "### 예제 4. 함수"
      ],
      "metadata": {
        "id": "8rzCC2V7jiFI"
      }
    },
    {
      "cell_type": "code",
      "source": [
        "# 배열 복사\n",
        "\n",
        "copied_array = np.copy(a)\n",
        "print(copied_array)"
      ],
      "metadata": {
        "id": "DQzVYxl6jkOa",
        "outputId": "6b122b54-49eb-45b0-9ea4-80f8f8e8a20b",
        "colab": {
          "base_uri": "https://localhost:8080/"
        }
      },
      "execution_count": 40,
      "outputs": [
        {
          "output_type": "stream",
          "name": "stdout",
          "text": [
            "[1 2 3]\n"
          ]
        }
      ]
    },
    {
      "cell_type": "code",
      "source": [
        "condition = a > 1\n",
        "filtered_array = a[condition]  # [2, 3]"
      ],
      "metadata": {
        "id": "QBGm4hLmjtDr"
      },
      "execution_count": 41,
      "outputs": []
    },
    {
      "cell_type": "code",
      "source": [
        "unique_vals = np.unique(a)  # [1, 2, 3]"
      ],
      "metadata": {
        "id": "-zfMieqcjvwE"
      },
      "execution_count": 42,
      "outputs": []
    }
  ]
}