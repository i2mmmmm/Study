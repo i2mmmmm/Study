{
  "nbformat": 4,
  "nbformat_minor": 0,
  "metadata": {
    "colab": {
      "provenance": [],
      "authorship_tag": "ABX9TyP7yW9wecg26hQPy8yPSou4",
      "include_colab_link": true
    },
    "kernelspec": {
      "name": "python3",
      "display_name": "Python 3"
    },
    "language_info": {
      "name": "python"
    }
  },
  "cells": [
    {
      "cell_type": "markdown",
      "metadata": {
        "id": "view-in-github",
        "colab_type": "text"
      },
      "source": [
        "<a href=\"https://colab.research.google.com/github/i2mmmmm/Study/blob/main/Python/basic/NumPy.ipynb\" target=\"_parent\"><img src=\"https://colab.research.google.com/assets/colab-badge.svg\" alt=\"Open In Colab\"/></a>"
      ]
    },
    {
      "cell_type": "code",
      "source": [],
      "metadata": {
        "id": "pvtEfWQoDkmM"
      },
      "execution_count": null,
      "outputs": []
    },
    {
      "cell_type": "markdown",
      "source": [
        "## 1. 벡터화 연산(Vectorized Operations)  \n",
        "NumPy는 벡터화 연산을 지원.  \n",
        "벡터화 연산은 반복문 없이 전체 배열에 대해 수치 연산을 수행하는 방식으로, 일반적인 파이썬 루프보다 훨씬 빠르게 동작한다.  \n",
        "이는 NumPy가 내부적으로 C로 구현되어 있어, 저수준 최적화를 통해 연산 속도를 극대화하기 때문이다."
      ],
      "metadata": {
        "id": "c8J4Ho1MDqD8"
      }
    },
    {
      "cell_type": "code",
      "source": [
        "import time\n",
        "\n",
        "# 일반 파이썬 리스트\n",
        "arr = list(range(1000000))\n",
        "\n",
        "start_time = time.time()\n",
        "arr = [x * 2 for x in arr]\n",
        "end_time = time.time()\n",
        "\n",
        "print(\"일반 파이썬 리스트 시간:\", end_time - start_time)"
      ],
      "metadata": {
        "colab": {
          "base_uri": "https://localhost:8080/"
        },
        "id": "JklEcDMfD8Dr",
        "outputId": "274b76bc-d914-420a-e3aa-adab567befed"
      },
      "execution_count": 1,
      "outputs": [
        {
          "output_type": "stream",
          "name": "stdout",
          "text": [
            "일반 파이썬 리스트 시간: 0.16766047477722168\n"
          ]
        }
      ]
    },
    {
      "cell_type": "code",
      "source": [
        "import numpy as np\n",
        "\n",
        "# NumPy 배열\n",
        "arr = np.arange(1000000)\n",
        "\n",
        "start_time = time.time()\n",
        "arr = arr * 2\n",
        "end_time = time.time()\n",
        "\n",
        "print(\"NumPy 배열 시간:\", end_time - start_time)"
      ],
      "metadata": {
        "colab": {
          "base_uri": "https://localhost:8080/"
        },
        "id": "LbcJVDKQD-ra",
        "outputId": "430d6564-4f54-4659-e3ee-87003f4ec9b4"
      },
      "execution_count": 2,
      "outputs": [
        {
          "output_type": "stream",
          "name": "stdout",
          "text": [
            "NumPy 배열 시간: 0.011507749557495117\n"
          ]
        }
      ]
    },
    {
      "cell_type": "markdown",
      "source": [
        "## 2. 효율적인 메모리 사용\n",
        "NumPy는 배열을 위한 고정된 타입의 메모리 블록을 사용.  \n",
        "이는 파이썬의 리스트와 달리 메모리 사용이 훨씬 효율적이며, 메모리 캐시 친화적이다.\n",
        "\n",
        "## 3. 다양한 기능과 최적화\n",
        "NumPy는 수많은 내장 함수와 최적화된 루틴을 제공하여 복잡한 수치 연산을 쉽게 수행할 수 있게 해준다.  \n",
        "이는 시간 복잡도를 줄이고 코드의 간결성과 가독성을 높이는 데 큰 도움이 된다.\n"
      ],
      "metadata": {
        "id": "KQOkwV7vEFss"
      }
    },
    {
      "cell_type": "code",
      "source": [
        "# 일반 파이썬 리스트\n",
        "a = list(range(1000000))\n",
        "b = list(range(1000000))\n",
        "\n",
        "start_time = time.time()\n",
        "c = [a[i] + b[i] for i in range(len(a))]\n",
        "end_time = time.time()\n",
        "\n",
        "print(\"일반 파이썬 리스트 시간:\", end_time - start_time)"
      ],
      "metadata": {
        "colab": {
          "base_uri": "https://localhost:8080/"
        },
        "id": "8R-VX8Y6EDo1",
        "outputId": "f949fd46-d04a-4acf-cfff-e19fc1f3dc52"
      },
      "execution_count": 3,
      "outputs": [
        {
          "output_type": "stream",
          "name": "stdout",
          "text": [
            "일반 파이썬 리스트 시간: 0.17985749244689941\n"
          ]
        }
      ]
    },
    {
      "cell_type": "code",
      "source": [
        "# NumPy 배열\n",
        "a = np.arange(1000000)\n",
        "b = np.arange(1000000)\n",
        "\n",
        "start_time = time.time()\n",
        "c = a + b\n",
        "end_time = time.time()\n",
        "\n",
        "print(\"NumPy 배열 시간:\", end_time - start_time)"
      ],
      "metadata": {
        "colab": {
          "base_uri": "https://localhost:8080/"
        },
        "id": "XfenZ9YyEKmY",
        "outputId": "d1281e97-cbb4-4455-e20c-7dcc45308507"
      },
      "execution_count": 4,
      "outputs": [
        {
          "output_type": "stream",
          "name": "stdout",
          "text": [
            "NumPy 배열 시간: 0.005232334136962891\n"
          ]
        }
      ]
    },
    {
      "cell_type": "markdown",
      "source": [
        "시간으로 확인할 수 있듯이 NumPy는 특히 대규모 데이터 처리 및 수치 연산에 있어 매우 효율적이다.  \n",
        "벡터화 연산, 효율적인 메모리 사용, 최적화된 내장 함수 등을 통해 시간 복잡도와 성능을 크게 개선할 수 있다.  \n",
        "따라서 수치 연산이 많이 필요한 작업에서는 NumPy를 사용하는 것이 좋다."
      ],
      "metadata": {
        "id": "e7_hwD4JEeHy"
      }
    }
  ]
}