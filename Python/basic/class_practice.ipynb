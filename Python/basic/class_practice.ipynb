{
  "nbformat": 4,
  "nbformat_minor": 0,
  "metadata": {
    "colab": {
      "provenance": [],
      "authorship_tag": "ABX9TyO30BK6qGvnKZhCHiio3vyx",
      "include_colab_link": true
    },
    "kernelspec": {
      "name": "python3",
      "display_name": "Python 3"
    },
    "language_info": {
      "name": "python"
    }
  },
  "cells": [
    {
      "cell_type": "markdown",
      "metadata": {
        "id": "view-in-github",
        "colab_type": "text"
      },
      "source": [
        "<a href=\"https://colab.research.google.com/github/i2mmmmm/Study/blob/main/Python/basic/class_practice.ipynb\" target=\"_parent\"><img src=\"https://colab.research.google.com/assets/colab-badge.svg\" alt=\"Open In Colab\"/></a>"
      ]
    },
    {
      "cell_type": "code",
      "source": [
        "class test:\n",
        "  def __init__(self, name, clsnum, stdnum, score):\n",
        "    self.name = name\n",
        "    self.clsnum = clsnum\n",
        "    self.stdnum = stdnum\n",
        "    self.korean = score[0]\n",
        "    self.math = score[1]\n",
        "    self.english = score[2]\n",
        "  def aver(self):\n",
        "    print(f\"1학년 {self.clsnum}반의 {self.stdnum} 번 {self.name} 평균은 {int((self.korean+self.math+self.english)/3)}점\")\n",
        "  def bu(self):\n",
        "    scores = {\n",
        "        '국어' : self.korean,\n",
        "        '수학' : self.math,\n",
        "        '영어' : self.english\n",
        "    }\n",
        "    min_sub = min(scores, key = scores.get)\n",
        "    min_sco = min(self.korean,self.math,self.english)\n",
        "    print(f\"1학년 {self.clsnum}반의 {self.stdnum} 번 {self.name} 학생이 부족한 부분은 {min_sco}점을 받은 {min_sub}\")\n",
        "\n",
        "\n",
        "  def grade(self):\n",
        "    avg = (self.korean+self.math+self.english)/3\n",
        "    if avg >= 90:\n",
        "      grd = '수'\n",
        "    elif avg >= 80:\n",
        "      grd = '우'\n",
        "    elif avg >= 70:\n",
        "      grd = '미'\n",
        "    elif avg >= 60:\n",
        "      grd = '양'\n",
        "    elif avg >= 50:\n",
        "      grd = '가'\n",
        "    else:\n",
        "      grd = '재시험'\n",
        "    if grd == '재시험':\n",
        "      print(f\"1학년 {self.clsnum}반의 {self.stdnum} 번 {self.name} 학생은 재시험\")\n",
        "    else:\n",
        "      print(f\"1학년 {self.clsnum}반의 {self.stdnum} 번 {self.name} 학생 등급은 {grd}\")\n",
        "\n"
      ],
      "metadata": {
        "id": "EXruHQWZeXLN"
      },
      "execution_count": 76,
      "outputs": []
    },
    {
      "cell_type": "code",
      "source": [
        "s1 = test('김땡땡',5,13,[30,50,70])\n",
        "s2 = test('홍길동',2,1,[12,23,50])\n",
        "s3 = test('박똘똘',3,5,[90,80,100])\n",
        "s4 = test('이뿡뿡',1,22,[55,100,80])"
      ],
      "metadata": {
        "id": "kOK9Hazlf3mQ"
      },
      "execution_count": 81,
      "outputs": []
    },
    {
      "cell_type": "code",
      "source": [
        "s1.aver()\n",
        "s2.aver()\n",
        "s3.aver()\n",
        "s4.aver()"
      ],
      "metadata": {
        "colab": {
          "base_uri": "https://localhost:8080/"
        },
        "id": "glN34j6kgbWu",
        "outputId": "20a01e14-74f5-457b-96c0-716f4dc4b2c2"
      },
      "execution_count": 82,
      "outputs": [
        {
          "output_type": "stream",
          "name": "stdout",
          "text": [
            "1학년 5반의 13 번 김땡땡 평균은 50점\n",
            "1학년 2반의 1 번 홍길동 평균은 28점\n",
            "1학년 3반의 5 번 박똘똘 평균은 90점\n",
            "1학년 1반의 22 번 이뿡뿡 평균은 78점\n"
          ]
        }
      ]
    },
    {
      "cell_type": "code",
      "source": [
        "for i in range(1,5):\n",
        "  eval(f\"s{i}.bu()\")"
      ],
      "metadata": {
        "colab": {
          "base_uri": "https://localhost:8080/"
        },
        "id": "1VEs3wcagmfm",
        "outputId": "899d92c4-ec7e-4253-adec-7079b1cfde75"
      },
      "execution_count": 83,
      "outputs": [
        {
          "output_type": "stream",
          "name": "stdout",
          "text": [
            "1학년 5반의 13 번 김땡땡 학생이 부족한 부분은 30점을 받은 국어\n",
            "1학년 2반의 1 번 홍길동 학생이 부족한 부분은 12점을 받은 국어\n",
            "1학년 3반의 5 번 박똘똘 학생이 부족한 부분은 80점을 받은 수학\n",
            "1학년 1반의 22 번 이뿡뿡 학생이 부족한 부분은 55점을 받은 국어\n"
          ]
        }
      ]
    },
    {
      "cell_type": "code",
      "source": [
        "for i in range(1,5):\n",
        "  eval(f\"s{i}.grade()\")"
      ],
      "metadata": {
        "colab": {
          "base_uri": "https://localhost:8080/"
        },
        "id": "QUfFT0grqgIO",
        "outputId": "febd50be-cadf-4a70-bcaf-3d829f2420fb"
      },
      "execution_count": 84,
      "outputs": [
        {
          "output_type": "stream",
          "name": "stdout",
          "text": [
            "1학년 5반의 13 번 김땡땡 학생 등급은 가\n",
            "1학년 2반의 1 번 홍길동 학생은 재시험\n",
            "1학년 3반의 5 번 박똘똘 학생 등급은 수\n",
            "1학년 1반의 22 번 이뿡뿡 학생 등급은 미\n"
          ]
        }
      ]
    }
  ]
}