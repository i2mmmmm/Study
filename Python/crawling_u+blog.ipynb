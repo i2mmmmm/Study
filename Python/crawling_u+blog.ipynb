{
  "nbformat": 4,
  "nbformat_minor": 0,
  "metadata": {
    "colab": {
      "provenance": [],
      "authorship_tag": "ABX9TyOM0BKx3jmInHsfpxFQAi7j",
      "include_colab_link": true
    },
    "kernelspec": {
      "name": "python3",
      "display_name": "Python 3"
    },
    "language_info": {
      "name": "python"
    }
  },
  "cells": [
    {
      "cell_type": "markdown",
      "metadata": {
        "id": "view-in-github",
        "colab_type": "text"
      },
      "source": [
        "<a href=\"https://colab.research.google.com/github/i2mmmmm/Study/blob/main/Python/crawling_u%2Bblog.ipynb\" target=\"_parent\"><img src=\"https://colab.research.google.com/assets/colab-badge.svg\" alt=\"Open In Colab\"/></a>"
      ]
    },
    {
      "cell_type": "code",
      "execution_count": 17,
      "metadata": {
        "colab": {
          "base_uri": "https://localhost:8080/"
        },
        "id": "RoVvrJhD3UGv",
        "outputId": "f439a3b9-4ea2-4d32-978b-caea76f3f741"
      },
      "outputs": [
        {
          "output_type": "stream",
          "name": "stdout",
          "text": [
            "['/3567', '/3546', '/3544', '/3542', '/3541', '/3539', '/3533', '/3516']\n"
          ]
        }
      ],
      "source": [
        "import requests\n",
        "from bs4 import BeautifulSoup\n",
        "import pandas as pd\n",
        "import re\n",
        "\n",
        "# 카테고리 페이지 URL\n",
        "category_url = 'https://blog.uplus.co.kr/category/%EB%A6%AC%EC%96%BC%EB%A6%AC%EB%B7%B0/U%E2%81%BA%205G?page=8'\n",
        "\n",
        "# 페이지 요청\n",
        "response = requests.get(category_url)\n",
        "soup = BeautifulSoup(response.text, 'html.parser')\n",
        "\n",
        "# 각 게시물의 링크 추출\n",
        "links = []\n",
        "for post_item in soup.find_all('div', class_='post-item'):\n",
        "    link = post_item.find('a')['href']  # 링크 추출\n",
        "    links.append(link)\n",
        "\n",
        "print(links)\n"
      ]
    },
    {
      "cell_type": "code",
      "source": [
        "import requests\n",
        "from bs4 import BeautifulSoup\n",
        "\n",
        "# 기본 카테고리 URL\n",
        "base_url = 'https://blog.uplus.co.kr/category/%EB%A6%AC%EC%96%BC%EB%A6%AC%EB%B7%B0/U%E2%81%BA%205G'\n",
        "\n",
        "# 결과를 저장할 리스트\n",
        "all_links = []\n",
        "\n",
        "# 페이지 번호를 1부터 시작하여 원하는 페이지까지 반복\n",
        "for page_num in range(1, 9):  # 예시로 1페이지부터 8페이지까지 크롤링\n",
        "    # 페이지 번호를 URL에 추가\n",
        "    page_url = f'{base_url}?page={page_num}'\n",
        "\n",
        "    # 페이지 요청\n",
        "    response = requests.get(page_url)\n",
        "    soup = BeautifulSoup(response.text, 'html.parser')\n",
        "\n",
        "    # 각 게시물의 링크 추출\n",
        "    links = []\n",
        "    for post_item in soup.find_all('div', class_='post-item'):\n",
        "        link = post_item.find('a')['href']  # 링크 추출\n",
        "        links.append(link)\n",
        "    all_links.extend(links)\n",
        "\n",
        "print(all_links)\n"
      ],
      "metadata": {
        "colab": {
          "base_uri": "https://localhost:8080/"
        },
        "id": "k6GfE7BSBhRZ",
        "outputId": "2f3e542f-4053-47d4-aff6-b6b286efdf0b"
      },
      "execution_count": 22,
      "outputs": [
        {
          "output_type": "stream",
          "name": "stdout",
          "text": [
            "['/4532', '/4326', '/4298', '/4268', '/4251', '/4242', '/4226', '/4044', '/3971', '/3953', '/3947', '/3945', '/3930', '/3915', '/3914', '/3897', '/3885', '/3877', '/3871', '/3848', '/3831', '/3807', '/3795', '/3782', '/3779', '/3764', '/3750', '/3742', '/3730', '/3723', '/3716', '/3717', '/3713', '/3706', '/3705', '/3702', '/3695', '/3690', '/3684', '/3680', '/3679', '/3678', '/3673', '/3666', '/3665', '/3659', '/3654', '/3650', '/3641', '/3634', '/3622', '/3607', '/3583', '/3579', '/3574', '/3568', '/3567', '/3546', '/3544', '/3542', '/3541', '/3539', '/3533', '/3516']\n"
          ]
        }
      ]
    },
    {
      "cell_type": "code",
      "source": [
        "all_links"
      ],
      "metadata": {
        "colab": {
          "base_uri": "https://localhost:8080/"
        },
        "id": "v5HDQZGGBkVB",
        "outputId": "9e45b10c-ce2b-4106-b441-571605d957c3"
      },
      "execution_count": 20,
      "outputs": [
        {
          "output_type": "execute_result",
          "data": {
            "text/plain": [
              "[]"
            ]
          },
          "metadata": {},
          "execution_count": 20
        }
      ]
    },
    {
      "cell_type": "code",
      "source": [
        "# 기본 블로그 URL\n",
        "base_url = 'https://blog.uplus.co.kr'\n",
        "\n",
        "\n",
        "# 결과를 저장할 리스트\n",
        "data = []\n",
        "\n",
        "# 각 게시물에서 필요한 정보 추출\n",
        "for link in all_links:\n",
        "    # 게시물의 전체 URL 생성\n",
        "    full_url = base_url + link\n",
        "\n",
        "    # 요청 보내기\n",
        "    response = requests.get(full_url)\n",
        "    soup = BeautifulSoup(response.text, 'html.parser')\n",
        "\n",
        "    # 1. 카테고리 추출\n",
        "    category = soup.find('div', class_='category')\n",
        "    category = category.get_text(strip=True) if category else None\n",
        "    # '/'로 나누어서 두 개의 카테고리로 분리\n",
        "    category1, category2 = category.split('/') if category else (None, None)\n",
        "\n",
        "    # 2. 제목 추출\n",
        "    hgroup = soup.find('div', class_='hgroup')\n",
        "    if hgroup:\n",
        "        title_tag = hgroup.find('h1')\n",
        "        title = title_tag.get_text(strip=True) if title_tag else None\n",
        "    else:\n",
        "        title = None\n",
        "\n",
        "    # 3. 날짜 추출\n",
        "    date_tag = soup.find('span', class_='date')\n",
        "    date = date_tag.get_text(strip=True) if date_tag else None\n",
        "    # 정규 표현식 사용\n",
        "    if date:\n",
        "        date_match = re.match(r'(\\d{4}\\.\\s*\\d{1,2}\\.\\s*\\d{1,2})', date)\n",
        "        date = date_match.group(1) if date_match else None\n",
        "\n",
        "\n",
        "    # 4. 본문 내용 추출\n",
        "    body = soup.find('div', class_='tt_article_useless_p_margin contents_style')\n",
        "    body = body.get_text(strip=True) if body else None\n",
        "\n",
        "    # 추출한 데이터 리스트에 추가\n",
        "    data.append({\n",
        "        'category1': category1,\n",
        "        'category2': category2,\n",
        "        'title': title,\n",
        "        'date': date,\n",
        "        'body': body\n",
        "    })\n",
        "\n",
        "# 데이터프레임 생성\n",
        "df = pd.DataFrame(data)\n",
        "\n",
        "# 결과 출력\n",
        "print(df)\n"
      ],
      "metadata": {
        "colab": {
          "base_uri": "https://localhost:8080/"
        },
        "id": "dkPpKQ0y9H6w",
        "outputId": "de32eaa2-1085-4d96-f8b2-122d7486826c"
      },
      "execution_count": 23,
      "outputs": [
        {
          "output_type": "stream",
          "name": "stdout",
          "text": [
            "   category1 category2                                              title  \\\n",
            "0       리얼리뷰     U⁺ 5G                    우리 회사 홍보를 위한 새로운 광고 솔루션, V 비즈링!   \n",
            "1       리얼리뷰     U⁺ 5G  스마트팩토리도 앞서가는 유.스.팩 6탄 [5G/LTE 전용망으로 품질, 보안, 경제...   \n",
            "2       리얼리뷰     U⁺ 5G  스마트팩토리도 앞서가는 유.스.팩 5탄 [물류를 더 안전하고 효율적으로 관리하는 유...   \n",
            "3       리얼리뷰     U⁺ 5G  스마트팩토리도 앞서가는 유.스.팩 4탄 [생산 효율성을 향상시키는 유플러스 스마트팩...   \n",
            "4       리얼리뷰     U⁺ 5G  스마트팩토리도 앞서가는 유.스.팩 3탄 [악취와 미세먼지 배출 민원에 대응하는 유플...   \n",
            "..       ...       ...                                                ...   \n",
            "59      리얼리뷰     U⁺ 5G            데이터 과금 Zero! U+게임에서 리니지와 메이플M 마음껏 즐기세요!   \n",
            "60      리얼리뷰     U⁺ 5G                         우리집 안방을 VIP석으로! U+VR 앱 사용기   \n",
            "61      리얼리뷰     U⁺ 5G                        내 눈 앞에 @셀럽_소환 U+AR 인싸 앱 사용기   \n",
            "62      리얼리뷰     U⁺ 5G                      5G가 덕질을 구한다! U+아이돌Live 앱 활용하기   \n",
            "63      리얼리뷰     U⁺ 5G                  세계 최초 도심 속 자율주행, 그 비결은 5G의 초저지연성?   \n",
            "\n",
            "            date                                               body  \n",
            "0   2022. 11. 25  “새롭고 쉬운 우리 회사 홍보 방법 어디 없을까?”저렴한 광고비와 통화 대기 시간을...  \n",
            "1    2022. 3. 25  유플러스 스마트팩토리의 핵심, 5G/LTE전용망유플러스 스마트팩토리는AI와 빅데이터...  \n",
            "2    2022. 2. 21  무거운 자재와 제품을 취급하는 공장과 물류 창고의 필수 장비 지게차공장과 물류 창고...  \n",
            "3    2022. 1. 25  전기 설비 화재의45%는 배전반에서 발생…실시간 진단 및 사고 예방에 필수적인 배전...  \n",
            "4   2021. 12. 27  A시 산업단지의 비료제조업체L사는 매년 공장 인근 주민들로부터 악취 민원을 받습니다...  \n",
            "..           ...                                                ...  \n",
            "59   2019. 5. 27  리니지, 메이플스토리, 크레이지아케이드 등 한 시대를 풍미했던 PC 온라인 게임! ...  \n",
            "60   2019. 5. 24  최근 다양한VR체험존이 생겨나고,체험할 기회 역시 늘어나고 있는데요. VR체험존을 ...  \n",
            "61   2019. 5. 22  당신의 스타가 눈 앞에 나타난다면?혹은 당신의 아이돌과 함께 춤을 출 수 있다면?이...  \n",
            "62   2019. 5. 16  당신의 최애 아이돌,이젠 눈앞에서 보는 것처럼 생생하게 덕질하세요!당신의 덕질을 새...  \n",
            "63   2019. 4. 22  서울 도심 속 자율주행차의 정체는?지난3월11일,복잡한 서울\\n도심 도로 위에 자율...  \n",
            "\n",
            "[64 rows x 5 columns]\n"
          ]
        }
      ]
    },
    {
      "cell_type": "code",
      "source": [
        "# DataFrame을 CSV로 저장\n",
        "df.to_csv('blog_data.csv', index=False, encoding='utf-8-sig')"
      ],
      "metadata": {
        "id": "jC80Gk3-9jYs"
      },
      "execution_count": 24,
      "outputs": []
    }
  ]
}