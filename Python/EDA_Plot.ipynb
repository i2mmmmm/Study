{
  "nbformat": 4,
  "nbformat_minor": 0,
  "metadata": {
    "colab": {
      "provenance": [],
      "authorship_tag": "ABX9TyOlyuDCjQL1mKHsbgNv6N4F",
      "include_colab_link": true
    },
    "kernelspec": {
      "name": "python3",
      "display_name": "Python 3"
    },
    "language_info": {
      "name": "python"
    }
  },
  "cells": [
    {
      "cell_type": "markdown",
      "metadata": {
        "id": "view-in-github",
        "colab_type": "text"
      },
      "source": [
        "<a href=\"https://colab.research.google.com/github/i2mmmmm/Study/blob/main/Python/EDA_Plot.ipynb\" target=\"_parent\"><img src=\"https://colab.research.google.com/assets/colab-badge.svg\" alt=\"Open In Colab\"/></a>"
      ]
    },
    {
      "cell_type": "code",
      "execution_count": null,
      "metadata": {
        "id": "ha6jPhBRIYey"
      },
      "outputs": [],
      "source": [
        "import pandas as pd\n",
        "import matplotlib.pyplot as plt\n",
        "import seaborn as sns\n",
        "\n",
        "# 1. 히스토그램 (Histogram)\n",
        "# 연속형 변수의 분포를 확인할 때 사용\n",
        "plt.figure(figsize=(8, 6))\n",
        "sns.histplot(df['total_bill'], kde=True)\n",
        "plt.title('Histogram of Total Bill')\n",
        "plt.xlabel('Total Bill')\n",
        "plt.ylabel('Frequency')\n",
        "plt.show()\n",
        "\n",
        "# 2. 박스 플롯 (Box Plot)\n",
        "# 변수의 분포와 이상치를 확인할 때 사용\n",
        "plt.figure(figsize=(8, 6))\n",
        "sns.boxplot(x='day', y='total_bill', data=df)\n",
        "plt.title('Box Plot of Total Bill by Day')\n",
        "plt.xlabel('Day')\n",
        "plt.ylabel('Total Bill')\n",
        "plt.show()\n",
        "\n",
        "# 3. 산점도 (Scatter Plot)\n",
        "# 연속형 변수들 간의 상관관계를 확인할 때 사용\n",
        "plt.figure(figsize=(8, 6))\n",
        "sns.scatterplot(x='total_bill', y='tip', data=df)\n",
        "plt.title('Scatter Plot of Total Bill vs Tip')\n",
        "plt.xlabel('Total Bill')\n",
        "plt.ylabel('Tip')\n",
        "plt.show()\n",
        "\n",
        "# 4. 페어플롯 (Pair Plot)\n",
        "# 데이터 프레임의 여러 변수들 간의 관계를 확인할 때 사용\n",
        "sns.pairplot(df)\n",
        "plt.suptitle('Pair Plot of Tips Dataset', y=1.02)\n",
        "plt.show()\n",
        "\n",
        "# 5. 히트맵 (Heatmap)\n",
        "# 상관관계 행렬을 시각화할 때 사용\n",
        "plt.figure(figsize=(10, 8))\n",
        "sns.heatmap(df.corr(), annot=True, cmap='coolwarm')\n",
        "plt.title('Heatmap of Correlation Matrix')\n",
        "plt.show()\n",
        "\n",
        "# 6. 바 차트 (Bar Chart)\n",
        "# 범주형 변수의 빈도수를 확인할 때 사용\n",
        "plt.figure(figsize=(8, 6))\n",
        "sns.countplot(x='day', data=df)\n",
        "plt.title('Bar Chart of Days')\n",
        "plt.xlabel('Day')\n",
        "plt.ylabel('Count')\n",
        "plt.show()\n",
        "\n",
        "# 7. 파이 차트 (Pie Chart)\n",
        "# 범주형 데이터의 비율을 확인할 때 사용\n",
        "plt.figure(figsize=(8, 8))\n",
        "df['day'].value_counts().plot.pie(autopct='%1.1f%%')\n",
        "plt.title('Pie Chart of Days')\n",
        "plt.ylabel('')\n",
        "plt.show()\n",
        "\n",
        "# 8. 선 그래프 (Line Plot)\n",
        "# 시계열 데이터를 분석할 때 사용\n",
        "plt.figure(figsize=(8, 6))\n",
        "sns.lineplot(x='size', y='total_bill', data=df)\n",
        "plt.title('Line Plot of Total Bill by Size')\n",
        "plt.xlabel('Size')\n",
        "plt.ylabel('Total Bill')\n",
        "plt.show()\n",
        "\n",
        "# 9. 카운트 플롯 (Count Plot)\n",
        "# 범주형 변수의 빈도수를 쉽게 확인할 때 사용\n",
        "plt.figure(figsize=(8, 6))\n",
        "sns.countplot(x='size', data=df)\n",
        "plt.title('Count Plot of Sizes')\n",
        "plt.xlabel('Size')\n",
        "plt.ylabel('Count')\n",
        "plt.show()\n",
        "\n",
        "# 10. 조인트 플롯 (Joint Plot)\n",
        "# 두 변수 간의 관계와 각 변수의 분포를 동시에 확인할 때 사용\n",
        "sns.jointplot(x='total_bill', y='tip', data=df, kind='scatter')\n",
        "plt.suptitle('Joint Plot of Total Bill vs Tip', y=1.02)\n",
        "plt.xlabel('Total Bill')\n",
        "plt.ylabel('Tip')\n",
        "plt.show()"
      ]
    }
  ]
}