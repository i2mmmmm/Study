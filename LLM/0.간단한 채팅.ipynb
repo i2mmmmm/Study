{
  "nbformat": 4,
  "nbformat_minor": 0,
  "metadata": {
    "colab": {
      "provenance": [],
      "gpuType": "T4",
      "authorship_tag": "ABX9TyPH0+OsnKRRvrq/pzXMc8+B",
      "include_colab_link": true
    },
    "kernelspec": {
      "name": "python3",
      "display_name": "Python 3"
    },
    "language_info": {
      "name": "python"
    },
    "accelerator": "GPU"
  },
  "cells": [
    {
      "cell_type": "markdown",
      "metadata": {
        "id": "view-in-github",
        "colab_type": "text"
      },
      "source": [
        "<a href=\"https://colab.research.google.com/github/i2mmmmm/Study/blob/main/LLM/0.%EA%B0%84%EB%8B%A8%ED%95%9C%20%EC%B1%84%ED%8C%85.ipynb\" target=\"_parent\"><img src=\"https://colab.research.google.com/assets/colab-badge.svg\" alt=\"Open In Colab\"/></a>"
      ]
    },
    {
      "cell_type": "code",
      "source": [
        "# 간단한 채팅 봇 예제\n",
        "\n",
        "# 사용자 입력에 따라 적절한 응답을 반환하는 함수\n",
        "def get_response(user_input):\n",
        "    responses = {\n",
        "        \"안녕\": \"안녕!\",\n",
        "        \"배고파\": \"나도ㅠㅠ\",\n",
        "        \"우울해\": \"밖에 걸어보는 건 어때?\",\n",
        "        \"뭐해\": \"그냥 있었어\",\n",
        "        \"잘있어\": \"잘가\",\n",
        "        # 여기에 사용자 입력과 대응하는 응답을 추가\n",
        "    }\n",
        "\n",
        "    # 응답 없으면 디폴트 응답 반환\n",
        "    return responses.get(user_input, \"내가 이해하기는 조금 어렵다ㅠㅠ\")\n",
        "\n",
        "# 채팅 함수\n",
        "def chat():\n",
        "    print(\"채팅을 시작합니다. 종료하려면 '잘있어'를 입력하세요.\")\n",
        "    while True:\n",
        "        user_input = input(\"사용자: \")  # 사용자 입력\n",
        "        if user_input == \"잘있어\":\n",
        "            print(\"챗봇: 잘가고 언제든 또 와!\")\n",
        "            print(\"채팅이 종료되었습니다.\")\n",
        "            break\n",
        "        response = get_response(user_input)\n",
        "        print(\"챗봇:\", response)  # 응답 출력\n",
        "\n",
        "# 채팅 함수 호출\n",
        "if __name__ == \"__main__\":\n",
        "    chat()"
      ],
      "metadata": {
        "id": "DhH-TGn2cHm2",
        "outputId": "6407005e-1fd7-4439-8d85-18d8796a6aa0",
        "colab": {
          "base_uri": "https://localhost:8080/"
        }
      },
      "execution_count": null,
      "outputs": [
        {
          "output_type": "stream",
          "name": "stdout",
          "text": [
            "채팅을 시작합니다. 종료하려면 '잘있어'를 입력하세요.\n",
            "사용자: 안녕\n",
            "챗봇: 안녕!\n",
            "사용자: 배고파\n",
            "챗봇: 나도ㅠㅠ\n",
            "사용자: 뭐해\n",
            "챗봇: 그냥 있었어\n",
            "사용자: 잘있어\n",
            "챗봇: 잘가고 언제든 또 와!\n",
            "채팅이 종료되었습니다.\n"
          ]
        }
      ]
    },
    {
      "cell_type": "code",
      "source": [
        "pip install nltk"
      ],
      "metadata": {
        "id": "y55DFML3981R",
        "outputId": "8fff8635-f2b8-4053-c409-661283a5a487",
        "colab": {
          "base_uri": "https://localhost:8080/"
        }
      },
      "execution_count": 1,
      "outputs": [
        {
          "output_type": "stream",
          "name": "stdout",
          "text": [
            "Requirement already satisfied: nltk in /usr/local/lib/python3.10/dist-packages (3.8.1)\n",
            "Requirement already satisfied: click in /usr/local/lib/python3.10/dist-packages (from nltk) (8.1.7)\n",
            "Requirement already satisfied: joblib in /usr/local/lib/python3.10/dist-packages (from nltk) (1.3.2)\n",
            "Requirement already satisfied: regex>=2021.8.3 in /usr/local/lib/python3.10/dist-packages (from nltk) (2023.12.25)\n",
            "Requirement already satisfied: tqdm in /usr/local/lib/python3.10/dist-packages (from nltk) (4.66.1)\n"
          ]
        }
      ]
    },
    {
      "cell_type": "code",
      "source": [
        "import nltk\n",
        "from nltk.tokenize import word_tokenize\n",
        "\n",
        "# NLTK의 단어 토크나이저를 초기화합니다.\n",
        "nltk.download('punkt')\n",
        "\n",
        "# 사용자 입력에 따라 적절한 응답을 반환하는 함수\n",
        "def get_response(user_input):\n",
        "    # 사용자 입력을 토큰화합니다.\n",
        "    tokens = word_tokenize(user_input)\n",
        "\n",
        "    # 사용자 입력에 따라 적절한 응답을 반환합니다.\n",
        "    if \"안녕\" in tokens:\n",
        "        return \"안녕!\"\n",
        "    elif \"배고파\" in tokens:\n",
        "        return \"나도ㅠㅠ\"\n",
        "    elif \"날씨\" in tokens and \"어때\" in tokens:\n",
        "        return \"나가서 좀 걷고 싶은 날씨네\"\n",
        "    else:\n",
        "        return \"내가 이해하기는 조금 어렵다ㅠㅠ\"\n",
        "\n",
        "# 채팅 함수\n",
        "def chat():\n",
        "    print(\"채팅을 시작합니다. 종료하려면 '잘있어'를 입력하세요.\")\n",
        "    while True:\n",
        "        user_input = input(\"사용자: \")  # 사용자 입력을 받습니다.\n",
        "        if user_input == \"잘있어\":\n",
        "            print(\"잘가고 언제든 또 와!\")\n",
        "            break\n",
        "        response = get_response(user_input)  # 응답을 얻습니다.\n",
        "        print(\"챗봇:\", response)  # 응답을 출력합니다.\n",
        "\n",
        "# 채팅 함수 호출\n",
        "if __name__ == \"__main__\":\n",
        "    chat()"
      ],
      "metadata": {
        "id": "TEXl044K9_44",
        "outputId": "31356cdf-6e88-4488-f087-c76144ead81e",
        "colab": {
          "base_uri": "https://localhost:8080/"
        }
      },
      "execution_count": 3,
      "outputs": [
        {
          "output_type": "stream",
          "name": "stderr",
          "text": [
            "[nltk_data] Downloading package punkt to /root/nltk_data...\n",
            "[nltk_data]   Package punkt is already up-to-date!\n"
          ]
        },
        {
          "output_type": "stream",
          "name": "stdout",
          "text": [
            "채팅을 시작합니다. 종료하려면 '잘있어'를 입력하세요.\n",
            "사용자: 안녕\n",
            "챗봇: 안녕!\n",
            "사용자: 뭐해\n",
            "챗봇: 내가 이해하기는 조금 어렵다ㅠㅠ\n",
            "사용자: 날씨 어때 ??\n",
            "챗봇: 나가서 좀 걷고 싶은 날씨네\n",
            "사용자: 날씨는 어때\n",
            "챗봇: 내가 이해하기는 조금 어렵다ㅠㅠ\n",
            "사용자: 잘있어\n",
            "잘가고 언제든 또 와!\n"
          ]
        }
      ]
    },
    {
      "cell_type": "code",
      "source": [
        "!pip install konlpy"
      ],
      "metadata": {
        "id": "7nWmu7Ji_izm",
        "outputId": "03155c3c-6c04-4b09-ffe2-914bce0fc9db",
        "colab": {
          "base_uri": "https://localhost:8080/"
        }
      },
      "execution_count": 5,
      "outputs": [
        {
          "output_type": "stream",
          "name": "stdout",
          "text": [
            "Collecting konlpy\n",
            "  Downloading konlpy-0.6.0-py2.py3-none-any.whl (19.4 MB)\n",
            "\u001b[2K     \u001b[90m━━━━━━━━━━━━━━━━━━━━━━━━━━━━━━━━━━━━━━━━\u001b[0m \u001b[32m19.4/19.4 MB\u001b[0m \u001b[31m72.2 MB/s\u001b[0m eta \u001b[36m0:00:00\u001b[0m\n",
            "\u001b[?25hCollecting JPype1>=0.7.0 (from konlpy)\n",
            "  Downloading JPype1-1.5.0-cp310-cp310-manylinux_2_17_x86_64.manylinux2014_x86_64.whl (488 kB)\n",
            "\u001b[2K     \u001b[90m━━━━━━━━━━━━━━━━━━━━━━━━━━━━━━━━━━━━━━━━\u001b[0m \u001b[32m488.6/488.6 kB\u001b[0m \u001b[31m40.0 MB/s\u001b[0m eta \u001b[36m0:00:00\u001b[0m\n",
            "\u001b[?25hRequirement already satisfied: lxml>=4.1.0 in /usr/local/lib/python3.10/dist-packages (from konlpy) (4.9.4)\n",
            "Requirement already satisfied: numpy>=1.6 in /usr/local/lib/python3.10/dist-packages (from konlpy) (1.23.5)\n",
            "Requirement already satisfied: packaging in /usr/local/lib/python3.10/dist-packages (from JPype1>=0.7.0->konlpy) (23.2)\n",
            "Installing collected packages: JPype1, konlpy\n",
            "Successfully installed JPype1-1.5.0 konlpy-0.6.0\n"
          ]
        }
      ]
    },
    {
      "cell_type": "code",
      "source": [
        "from konlpy.tag import Okt\n",
        "\n",
        "\n",
        "def get_response(user_input):\n",
        "    okt = Okt()\n",
        "    tokens = okt.pos(user_input)  # 문장을 형태소 단위로 분석\n",
        "\n",
        "    if \"안녕\" in tokens:\n",
        "        return \"안녕!\"\n",
        "    elif \"배고파\" in tokens:\n",
        "        return \"나도ㅠㅠ\"\n",
        "    elif \"날씨\" in tokens and \"어때\" in tokens:\n",
        "        return \"나가서 좀 걷고 싶은 날씨네\"\n",
        "    else:\n",
        "        return \"내가 이해하기는 조금 어렵다ㅠㅠ\"\n",
        "\n",
        "\n",
        "# 채팅 함수\n",
        "def chat():\n",
        "    print(\"채팅을 시작합니다. 종료하려면 '잘있어'를 입력하세요.\")\n",
        "    while True:\n",
        "        user_input = input(\"사용자: \")  # 사용자 입력을 받습니다.\n",
        "        if user_input == \"잘있어\":\n",
        "            print(\"잘가고 언제든 또 와!\")\n",
        "            break\n",
        "        response = get_response(user_input)  # 응답을 얻습니다.\n",
        "        print(\"챗봇:\", response)  # 응답을 출력합니다.\n",
        "\n",
        "# 채팅 함수 호출\n",
        "if __name__ == \"__main__\":\n",
        "    chat()"
      ],
      "metadata": {
        "id": "Yqv2XMw0AcJr"
      },
      "execution_count": null,
      "outputs": []
    }
  ]
}