{
  "nbformat": 4,
  "nbformat_minor": 0,
  "metadata": {
    "colab": {
      "provenance": [],
      "gpuType": "T4",
      "authorship_tag": "ABX9TyPT0XKb0yIZ6kLHroUmxswl",
      "include_colab_link": true
    },
    "kernelspec": {
      "name": "python3",
      "display_name": "Python 3"
    },
    "language_info": {
      "name": "python"
    },
    "accelerator": "GPU"
  },
  "cells": [
    {
      "cell_type": "markdown",
      "metadata": {
        "id": "view-in-github",
        "colab_type": "text"
      },
      "source": [
        "<a href=\"https://colab.research.google.com/github/i2mmmmm/Study/blob/main/LLM/0.%EA%B0%84%EB%8B%A8%ED%95%9C%20%EC%B1%84%ED%8C%85.ipynb\" target=\"_parent\"><img src=\"https://colab.research.google.com/assets/colab-badge.svg\" alt=\"Open In Colab\"/></a>"
      ]
    },
    {
      "cell_type": "code",
      "source": [
        "# 간단한 채팅 봇 예제\n",
        "\n",
        "# 사용자 입력에 따라 적절한 응답을 반환하는 함수\n",
        "def get_response(user_input):\n",
        "    responses = {\n",
        "        \"안녕\": \"안녕!\",\n",
        "        \"배고파\": \"나도ㅠㅠ\",\n",
        "        \"우울해\": \"밖에 걸어보는 건 어때?\",\n",
        "        \"뭐해\": \"그냥 있었어\",\n",
        "        \"잘있어\": \"잘가\",\n",
        "        # 여기에 사용자 입력과 대응하는 응답을 추가\n",
        "    }\n",
        "\n",
        "    # 응답 없으면 디폴트 응답 반환\n",
        "    return responses.get(user_input, \"내가 이해하기는 조금 어렵다ㅠㅠ\")\n",
        "\n",
        "# 채팅 함수\n",
        "def chat():\n",
        "    print(\"채팅을 시작합니다. 종료하려면 '잘있어'를 입력하세요.\")\n",
        "    while True:\n",
        "        user_input = input(\"사용자: \")  # 사용자 입력\n",
        "        if user_input == \"잘있어\":\n",
        "            print(\"챗봇: 잘가고 언제든 또 와!\")\n",
        "            print(\"채팅이 종료되었습니다.\")\n",
        "            break\n",
        "        response = get_response(user_input)\n",
        "        print(\"챗봇:\", response)  # 응답 출력\n",
        "\n",
        "# 채팅 함수 호출\n",
        "if __name__ == \"__main__\":\n",
        "    chat()"
      ],
      "metadata": {
        "id": "DhH-TGn2cHm2",
        "outputId": "6407005e-1fd7-4439-8d85-18d8796a6aa0",
        "colab": {
          "base_uri": "https://localhost:8080/"
        }
      },
      "execution_count": 3,
      "outputs": [
        {
          "output_type": "stream",
          "name": "stdout",
          "text": [
            "채팅을 시작합니다. 종료하려면 '잘있어'를 입력하세요.\n",
            "사용자: 안녕\n",
            "챗봇: 안녕!\n",
            "사용자: 배고파\n",
            "챗봇: 나도ㅠㅠ\n",
            "사용자: 뭐해\n",
            "챗봇: 그냥 있었어\n",
            "사용자: 잘있어\n",
            "챗봇: 잘가고 언제든 또 와!\n",
            "채팅이 종료되었습니다.\n"
          ]
        }
      ]
    }
  ]
}