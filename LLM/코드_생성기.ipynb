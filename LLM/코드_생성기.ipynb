{
  "cells": [
    {
      "cell_type": "markdown",
      "id": "d62e12d9",
      "metadata": {
        "id": "d62e12d9"
      },
      "source": [
        "## 코드 작성\n",
        "\n",
        "Python 코드를 작성하는 방법에 대한 예시입니다."
      ]
    },
    {
      "cell_type": "markdown",
      "id": "3669d319",
      "metadata": {
        "id": "3669d319"
      },
      "source": [
        "API KEY 를 설정합니다."
      ]
    },
    {
      "cell_type": "code",
      "execution_count": null,
      "id": "57ff10ac",
      "metadata": {
        "id": "57ff10ac",
        "outputId": "3aef5322-8bbf-48bb-acbd-4880cff969ec"
      },
      "outputs": [
        {
          "data": {
            "text/plain": [
              "True"
            ]
          },
          "execution_count": 2,
          "metadata": {},
          "output_type": "execute_result"
        }
      ],
      "source": [
        "from dotenv import load_dotenv\n",
        "\n",
        "load_dotenv()"
      ]
    },
    {
      "cell_type": "markdown",
      "id": "d24b8c32",
      "metadata": {
        "id": "d24b8c32"
      },
      "source": [
        "## Text -> Python"
      ]
    },
    {
      "cell_type": "markdown",
      "id": "bcc9c562",
      "metadata": {
        "id": "bcc9c562"
      },
      "source": [
        "이 코드는 `langchain` 라이브러리를 사용하여 챗봇 모델과 관련된 기능을 가져오고 있습니다.\n",
        "\n",
        "`ChatOpenAI` 클래스는 OpenAI의 챗봇 모델을 사용하기 위한 인터페이스를 제공합니다.\n",
        "\n",
        "`ChatPromptTemplate` 클래스는 챗봇에게 전달할 프롬프트를 생성하는 템플릿을 정의합니다.\n",
        "\n",
        "`StrOutputParser` 클래스는 챗봇의 출력을 문자열로 파싱하는 역할을 합니다.\n",
        "\n",
        "마지막으로 `PythonREPL` 클래스는 Python 코드를 실행하고 결과를 반환하는 기능을 제공하는 유틸리티입니다."
      ]
    },
    {
      "cell_type": "code",
      "execution_count": null,
      "id": "adcb6adb",
      "metadata": {
        "id": "adcb6adb"
      },
      "outputs": [],
      "source": [
        "from langchain_openai import ChatOpenAI\n",
        "from langchain.prompts import (\n",
        "    ChatPromptTemplate,\n",
        ")\n",
        "from langchain_core.output_parsers import StrOutputParser\n",
        "from langchain_experimental.utilities import PythonREPL"
      ]
    },
    {
      "cell_type": "markdown",
      "id": "a87f48ab",
      "metadata": {
        "id": "a87f48ab"
      },
      "source": [
        "이 코드는 `ChatPromptTemplate` 클래스와 `ChatOpenAI` 클래스를 사용하여 사용자의 입력을 처리하고 대화형 AI 모델을 생성합니다.\n",
        "\n",
        "`ChatPromptTemplate.from_messages` 메소드는 시스템과 사용자의 메시지를 받아 프롬프트 템플릿을 형성하며, `ChatOpenAI` 클래스는 OpenAI의 챗봇 모델을 사용하여 대화를 생성하는 데 사용됩니다."
      ]
    },
    {
      "cell_type": "code",
      "execution_count": null,
      "id": "a6788bf6",
      "metadata": {
        "id": "a6788bf6"
      },
      "outputs": [],
      "source": [
        "# ChatPromptTemplate 클래스에서 메시지를 기반으로 프롬프트 템플릿을 생성합니다.\n",
        "template = \"\"\"Write some python code to solve the user's problem.\n",
        "\n",
        "Return only python code in Markdown format, e.g.:\n",
        "\n",
        "```python\n",
        "....\n",
        "```\"\"\"\n",
        "\n",
        "# 이 클래스는 시스템 메시지와 인간의 메시지를 입력으로 받아 템플릿을 형성합니다.\n",
        "prompt = ChatPromptTemplate.from_messages([(\"system\", template), (\"human\", \"{input}\")])\n",
        "\n",
        "# ChatOpenAI 클래스의 인스턴스를 생성합니다.\n",
        "model = ChatOpenAI(model=\"gpt-4-1106-preview\", temperature=0.1)"
      ]
    },
    {
      "cell_type": "code",
      "execution_count": null,
      "id": "06d36b5c",
      "metadata": {
        "id": "06d36b5c",
        "outputId": "51044ae9-1fef-43bf-9c08-1e7d437a2f4e"
      },
      "outputs": [
        {
          "name": "stdout",
          "output_type": "stream",
          "text": [
            "System: Write some python code to solve the user's problem. \n",
            "\n",
            "Return only python code in Markdown format, e.g.:\n",
            "\n",
            "```python\n",
            "....\n",
            "```\n",
            "Human: hello, world 를 출력해줘\n"
          ]
        }
      ],
      "source": [
        "print(prompt.format(input=\"hello, world 를 출력해줘\"))"
      ]
    },
    {
      "cell_type": "markdown",
      "id": "67a029ed",
      "metadata": {
        "id": "67a029ed"
      },
      "source": [
        "`_sanitize_output` 함수는 문자열을 입력받아, Markdown 형식의 코드 블록에서 실제 Python 코드 부분만을 추출하여 반환합니다. 이 함수는 Markdown 문자열 중 '```python'으로 시작하여 '```'으로 끝나는 부분을 찾아 해당 부분의 코드만을 분리해내는 역할을 합니다."
      ]
    },
    {
      "cell_type": "code",
      "execution_count": null,
      "id": "9eb28ae4",
      "metadata": {
        "id": "9eb28ae4"
      },
      "outputs": [],
      "source": [
        "def _sanitize_output(text: str):\n",
        "    # 입력된 텍스트에서 파이썬 코드 블록을 추출합니다.\n",
        "    _, after = text.split(\"```python\")\n",
        "    # 추출된 코드 블록에서 코드 부분만 반환합니다.\n",
        "    return after.split(\"```\")[0]"
      ]
    },
    {
      "cell_type": "markdown",
      "id": "799f368c",
      "metadata": {
        "id": "799f368c"
      },
      "source": [
        "변수 `chain`은 여러 처리 단계를 연결하는 파이프라인을 정의합니다. 이 파이프라인은 사용자의 입력(`prompt`)을 받아 모델(`model`)을 통해 처리하고, 문자열 출력 파서(`StrOutputParser()`)를 거쳐 출력을 정제하는 함수(`_sanitize_output`)를 적용한 후, 파이썬 REPL(`PythonREPL`)의 `run` 메서드를 실행합니다. 이 과정은 데이터나 명령어가 여러 처리 단계를 순차적으로 거치며 최종 결과를 도출하는 흐름을 나타냅니다."
      ]
    },
    {
      "cell_type": "code",
      "execution_count": null,
      "id": "298fc3ec",
      "metadata": {
        "id": "298fc3ec"
      },
      "outputs": [],
      "source": [
        "class CustomStrOutputParser(StrOutputParser):\n",
        "    def parse(self, output: str):\n",
        "        # 입력된 텍스트에서 파이썬 코드 블록을 추출합니다.\n",
        "        print(output)\n",
        "        return super().parse(output)"
      ]
    },
    {
      "cell_type": "code",
      "execution_count": null,
      "id": "d76a211d",
      "metadata": {
        "id": "d76a211d"
      },
      "outputs": [],
      "source": [
        "# prompt에서 입력을 받아서 model을 통해 처리한 후 StrOutputParser()를 거쳐서\n",
        "# _sanitize_output 함수를 적용하고, 최종적으로 PythonREPL의 run 메서드를 실행하는 처리 과정을 나타내는 파이프라인입니다.\n",
        "code_chain = (\n",
        "    prompt | model | CustomStrOutputParser() | _sanitize_output | PythonREPL().run\n",
        ")"
      ]
    },
    {
      "cell_type": "code",
      "execution_count": null,
      "id": "5e4b2a2c",
      "metadata": {
        "id": "5e4b2a2c",
        "outputId": "7120ea52-03c6-4ef0-a144-e108895a75b8"
      },
      "outputs": [
        {
          "name": "stderr",
          "output_type": "stream",
          "text": [
            "Python REPL can execute arbitrary code. Use with caution.\n"
          ]
        },
        {
          "name": "stdout",
          "output_type": "stream",
          "text": [
            "```python\n",
            "print(\"hello, world\")\n",
            "```\n"
          ]
        },
        {
          "data": {
            "text/plain": [
              "'hello, world\\n'"
            ]
          },
          "execution_count": 15,
          "metadata": {},
          "output_type": "execute_result"
        }
      ],
      "source": [
        "code_chain.invoke({\"input\": \"hello, world 를 출력해줘\"})"
      ]
    },
    {
      "cell_type": "markdown",
      "id": "725aabc1",
      "metadata": {
        "id": "725aabc1"
      },
      "source": [
        "이 함수는 `chain` 객체의 `invoke` 메서드를 사용하여 문자열 입력을 처리합니다. `invoke` 메서드는 딕셔너리 형태의 인자를 받으며, 여기서 `input` 키에 해당하는 값을 처리합니다."
      ]
    },
    {
      "cell_type": "code",
      "execution_count": null,
      "id": "f4033225",
      "metadata": {
        "id": "f4033225",
        "outputId": "9abbf981-a0b8-4a20-a9d2-86f59c54fcbf"
      },
      "outputs": [
        {
          "data": {
            "image/png": "[encoded data removed]",
            "text/plain": [
              "<Figure size 640x480 with 1 Axes>"
            ]
          },
          "metadata": {},
          "output_type": "display_data"
        },
        {
          "name": "stdout",
          "output_type": "stream",
          "text": [
            "Certainly! To draw a plot of the function y = x + 2, you can use the `matplotlib` library in Python. If you haven't installed `matplotlib` yet, you can install it using `pip install matplotlib`. Here's a simple Python script that plots the function:\n",
            "\n",
            "```python\n",
            "import matplotlib.pyplot as plt\n",
            "import numpy as np\n",
            "\n",
            "# Create a range of x values\n",
            "x = np.linspace(-10, 10, 200)\n",
            "\n",
            "# Calculate the corresponding y values\n",
            "y = x + 2\n",
            "\n",
            "# Plot the function\n",
            "plt.plot(x, y, label='y = x + 2')\n",
            "\n",
            "# Add a title and labels\n",
            "plt.title('Plot of y = x + 2')\n",
            "plt.xlabel('x')\n",
            "plt.ylabel('y')\n",
            "\n",
            "# Add a legend\n",
            "plt.legend()\n",
            "\n",
            "# Show the plot\n",
            "plt.grid(True)\n",
            "plt.axhline(0, color='black',linewidth=0.5)\n",
            "plt.axvline(0, color='black',linewidth=0.5)\n",
            "plt.show()\n",
            "```\n",
            "\n",
            "This code will generate a plot of the linear function y = x + 2 over the range of x from -10 to 10. The `np.linspace` function is used to create an array of x values, and the corresponding y values are calculated using the equation of the line. The plot is then displayed with axis labels, a title, and a grid for better readability.\n"
          ]
        },
        {
          "data": {
            "text/plain": [
              "''"
            ]
          },
          "execution_count": 16,
          "metadata": {},
          "output_type": "execute_result"
        }
      ],
      "source": [
        "# chain 객체의 invoke 메서드를 호출하여 입력된 문자열을 처리합니다.\n",
        "code_chain.invoke({\"input\": \"draw a plot of y = x + 2\"})"
      ]
    },
    {
      "cell_type": "code",
      "execution_count": null,
      "id": "c09a22e8",
      "metadata": {
        "id": "c09a22e8",
        "outputId": "f27ebad9-0b00-421c-b15e-303d450ace0c"
      },
      "outputs": [
        {
          "data": {
            "image/png": "[encoded data removed]",
            "text/plain": [
              "<Figure size 600x600 with 1 Axes>"
            ]
          },
          "metadata": {},
          "output_type": "display_data"
        },
        {
          "name": "stdout",
          "output_type": "stream",
          "text": [
            "To draw a plot of a circle with a radius of 5, you can use the `matplotlib` library in Python. If you haven't already installed `matplotlib`, you can do so using `pip install matplotlib`. Here's a simple example of how to draw a circle with a radius of 5 using `matplotlib`:\n",
            "\n",
            "```python\n",
            "import matplotlib.pyplot as plt\n",
            "import numpy as np\n",
            "\n",
            "# Define the circle radius\n",
            "radius = 5\n",
            "\n",
            "# Create an array of angles from 0 to 2*pi\n",
            "theta = np.linspace(0, 2 * np.pi, 100)\n",
            "\n",
            "# Parametric equations for the circle\n",
            "x = radius * np.cos(theta)\n",
            "y = radius * np.sin(theta)\n",
            "\n",
            "# Plot the circle\n",
            "plt.figure(figsize=(6, 6))\n",
            "plt.plot(x, y)\n",
            "\n",
            "# Set equal scaling so the circle isn't distorted\n",
            "plt.axis('equal')\n",
            "\n",
            "# Set the title of the plot\n",
            "plt.title('Circle with radius 5')\n",
            "\n",
            "# Show the plot\n",
            "plt.show()\n",
            "```\n",
            "\n",
            "This code will create and display a plot of a circle with a radius of 5 units. The `plt.axis('equal')` line ensures that the scaling on both axes is the same, so the circle isn't distorted.\n"
          ]
        },
        {
          "data": {
            "text/plain": [
              "''"
            ]
          },
          "execution_count": 17,
          "metadata": {},
          "output_type": "execute_result"
        }
      ],
      "source": [
        "# chain 객체의 invoke 메서드를 호출하여 입력된 문자열을 처리합니다.\n",
        "code_chain.invoke({\"input\": \"draw a plot of circle with radius 5\"})"
      ]
    },
    {
      "cell_type": "markdown",
      "id": "ddd1b049",
      "metadata": {
        "id": "ddd1b049"
      },
      "source": [
        "## Vision -> Code\n",
        "\n",
        "이미지 입력을 파이썬 코드로 변환 하는 방법입니다.\n",
        "\n",
        "여기서는 `GPT-4-vision-preview` 모델을 사용하여 이미지를 이해하고, 이해한 이미지를 바탕으로 파이썬 코드를 생성하여 실행합니다."
      ]
    },
    {
      "cell_type": "code",
      "execution_count": null,
      "id": "60cad00a",
      "metadata": {
        "id": "60cad00a"
      },
      "outputs": [],
      "source": [
        "import os\n",
        "import base64\n",
        "from langchain_openai import ChatOpenAI\n",
        "from langchain_core.messages import HumanMessage, SystemMessage\n",
        "from langchain_core.runnables import (\n",
        "    RunnablePassthrough,\n",
        "    RunnableLambda,\n",
        "    RunnableParallel,\n",
        "    chain,\n",
        ")\n",
        "\n",
        "# Vision 모델을 사용하기 위한 ChatOpenAI 클래스의 인스턴스를 생성합니다.\n",
        "vision_model = ChatOpenAI(\n",
        "    model=\"gpt-4-vision-preview\", temperature=0.1, max_tokens=8196\n",
        ")\n",
        "\n",
        "# 이미지 파일을 base64로 인코딩하는 함수입니다.\n",
        "\n",
        "\n",
        "def encode_image(image_path):\n",
        "    with open(image_path, \"rb\") as image_file:\n",
        "        img = base64.b64encode(image_file.read()).decode(\"utf-8\")\n",
        "\n",
        "    return f\"data:image/jpeg;base64,{img}\"\n",
        "\n",
        "\n",
        "# 이미지 파일의 경로와 이미지 파일의 URL을 입력으로 받아서 처리하는 파이프라인입니다.\n",
        "@chain\n",
        "def vision_chain(inputs):\n",
        "    image_path, url = str(inputs[\"image_path\"]), bool(inputs[\"url\"])\n",
        "    vision_model = ChatOpenAI(model=\"gpt-4-vision-preview\", max_tokens=256)\n",
        "    if url:\n",
        "        image_url = image_path\n",
        "    else:\n",
        "        base64_image = encode_image(image_path)\n",
        "        image_url = f\"{base64_image}\"\n",
        "    system_message = SystemMessage(\n",
        "        content=[\n",
        "            \"\"\"Write some python code to solve the user's problem.\n",
        "\n",
        "            Return only python code in Markdown format, e.g.:\n",
        "\n",
        "            ```python\n",
        "            ....\n",
        "            ```\"\"\"\n",
        "        ]\n",
        "    )\n",
        "    vision_message = HumanMessage(\n",
        "        content=[\n",
        "            {\"type\": \"text\", \"text\": \"Can you write a python code to draw this plot?\"},\n",
        "            {\n",
        "                \"type\": \"image_url\",\n",
        "                \"image_url\": {\n",
        "                    \"url\": image_url,\n",
        "                    \"detail\": \"auto\",\n",
        "                },\n",
        "            },\n",
        "        ]\n",
        "    )\n",
        "    output = vision_model.invoke([system_message, vision_message])\n",
        "    return output.content"
      ]
    },
    {
      "cell_type": "markdown",
      "id": "a779c45b",
      "metadata": {
        "id": "a779c45b"
      },
      "source": [
        "이제 입력된 이미지 파일의 경로와 이미지 파일의 URL을 입력으로 받아서 처리하는 파이프라인을 실행합니다."
      ]
    },
    {
      "cell_type": "code",
      "execution_count": null,
      "id": "56a7c6aa",
      "metadata": {
        "id": "56a7c6aa"
      },
      "outputs": [],
      "source": [
        "final_chain = (\n",
        "    vision_chain | CustomStrOutputParser() | _sanitize_output | PythonREPL().run\n",
        ")"
      ]
    },
    {
      "cell_type": "code",
      "execution_count": null,
      "id": "c0edfb8a",
      "metadata": {
        "id": "c0edfb8a",
        "outputId": "d111a0e4-0cae-4bcc-d6aa-02667a4494ce"
      },
      "outputs": [
        {
          "data": {
            "image/png": "[encoded data removed]",
            "text/plain": [
              "<Figure size 640x480 with 1 Axes>"
            ]
          },
          "metadata": {},
          "output_type": "display_data"
        },
        {
          "name": "stdout",
          "output_type": "stream",
          "text": [
            "Certainly! You can use Python's matplotlib library to draw a circle plot as shown in the image. Here's a simple example code to create such a plot:\n",
            "\n",
            "```python\n",
            "import matplotlib.pyplot as plt\n",
            "import numpy as np\n",
            "\n",
            "# Create a figure and an axis\n",
            "fig, ax = plt.subplots()\n",
            "\n",
            "# Set an aspect ratio to 'equal' to make the circle look round\n",
            "ax.set_aspect('equal')\n",
            "\n",
            "# Define the radius of the circle\n",
            "radius = 5\n",
            "\n",
            "# Generate the circle using a parametric equation\n",
            "theta = np.linspace(0, 2*np.pi, 100)\n",
            "x = radius * np.cos(theta)\n",
            "y = radius * np.sin(theta)\n",
            "\n",
            "# Plot the circle\n",
            "ax.plot(x, y, color='cyan')\n",
            "\n",
            "# Set the limits of the plot to make it look like the provided image\n",
            "ax.set_xlim([-6, 6])\n",
            "ax.set_ylim([-6, 6])\n",
            "\n",
            "# Remove the axis\n",
            "ax.axis('off')\n",
            "\n",
            "# Display the plot\n",
            "plt.show()\n",
            "```\n",
            "\n",
            "This code will draw a circle with a radius of 5 and set the limits of the x and y axes to -6 to 6, respectively. The background is black, and the circle is shown in cyan with the axes turned off to match\n"
          ]
        },
        {
          "data": {
            "text/plain": [
              "''"
            ]
          },
          "execution_count": 20,
          "metadata": {},
          "output_type": "execute_result"
        }
      ],
      "source": [
        "# 이미지 경로를 입력으로 사용하여 final_chain 객체의 invoke 메서드를 호출합니다.\n",
        "image_path = \"output.png\"\n",
        "final_chain.invoke({\"image_path\": image_path, \"url\": False})"
      ]
    },
    {
      "cell_type": "markdown",
      "id": "acbfeb32",
      "metadata": {
        "id": "acbfeb32"
      },
      "source": [
        "이미지 URL을 입력으로 사용하여 final_chain 객체의 invoke 메서드를 호출합니다."
      ]
    },
    {
      "cell_type": "code",
      "execution_count": null,
      "id": "883f010d",
      "metadata": {
        "id": "883f010d",
        "outputId": "39c67586-8b87-4b8b-dd6d-679ce5de052d"
      },
      "outputs": [
        {
          "data": {
            "image/png": "[encoded data removed]",
            "text/plain": [
              "<Figure size 640x480 with 1 Axes>"
            ]
          },
          "metadata": {},
          "output_type": "display_data"
        },
        {
          "name": "stdout",
          "output_type": "stream",
          "text": [
            "To draw a pie chart similar to the one in the image, you can use the following Python code with the help of the `matplotlib` library. If you haven't installed the `matplotlib` library yet, you can install it using `pip install matplotlib`.\n",
            "\n",
            "```python\n",
            "import matplotlib.pyplot as plt\n",
            "\n",
            "# Data to plot\n",
            "labels = 'Frogs', 'Hogs', 'Dogs', 'Logs'\n",
            "sizes = [15, 30, 45, 10]\n",
            "colors = ['gold', 'yellowgreen', 'lightcoral', 'lightskyblue']\n",
            "explode = (0, 0.1, 0, 0)  # explode 1st slice (Hogs)\n",
            "\n",
            "# Plot\n",
            "plt.pie(sizes, explode=explode, labels=labels, colors=colors,\n",
            "autopct='%1.1f%%', shadow=True, startangle=140)\n",
            "\n",
            "plt.axis('equal')\n",
            "plt.show()\n",
            "```\n",
            "\n",
            "This code defines the labels and corresponding sizes for each section of the pie chart, colors, and a small 'explode' effect for the 'Hogs' slice to make it stand out. It then plots the pie chart, ensuring the aspect ratio is equal so that the pie chart is circular. Finally, it displays the plot\n"
          ]
        },
        {
          "data": {
            "text/plain": [
              "''"
            ]
          },
          "execution_count": 22,
          "metadata": {},
          "output_type": "execute_result"
        }
      ],
      "source": [
        "final_chain.invoke(\n",
        "    {\n",
        "        \"image_path\": \"https://matplotlib.org/stable/_images/sphx_glr_pie_features_001.png\",\n",
        "        \"url\": True,\n",
        "    }\n",
        ")"
      ]
    }
  ],
  "metadata": {
    "kernelspec": {
      "display_name": "py-test",
      "language": "python",
      "name": "python3"
    },
    "language_info": {
      "codemirror_mode": {
        "name": "ipython",
        "version": 3
      },
      "file_extension": ".py",
      "mimetype": "text/x-python",
      "name": "python",
      "nbconvert_exporter": "python",
      "pygments_lexer": "ipython3",
      "version": "3.10.13"
    },
    "colab": {
      "provenance": []
    }
  },
  "nbformat": 4,
  "nbformat_minor": 5
}