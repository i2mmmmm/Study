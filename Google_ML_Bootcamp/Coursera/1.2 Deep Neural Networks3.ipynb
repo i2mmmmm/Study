{
  "nbformat": 4,
  "nbformat_minor": 0,
  "metadata": {
    "colab": {
      "provenance": [],
      "authorship_tag": "ABX9TyNlhZ5uSd5QYRW36SGw2zdx",
      "include_colab_link": true
    },
    "kernelspec": {
      "name": "python3",
      "display_name": "Python 3"
    },
    "language_info": {
      "name": "python"
    }
  },
  "cells": [
    {
      "cell_type": "markdown",
      "metadata": {
        "id": "view-in-github",
        "colab_type": "text"
      },
      "source": [
        "<a href=\"https://colab.research.google.com/github/i2mmmmm/Study/blob/main/Google_ML_Bootcamp/Coursera/1.2%20Deep%20Neural%20Networks3.ipynb\" target=\"_parent\"><img src=\"https://colab.research.google.com/assets/colab-badge.svg\" alt=\"Open In Colab\"/></a>"
      ]
    },
    {
      "cell_type": "markdown",
      "source": [
        "딥러닝 - 빅데이터 처리 - 빠르고 효율적인 처리가 필요함 = **벡터화 (vectorization)**\n",
        "\n",
        "Z = W<sup>T</sup> X + b\n",
        "\n",
        "1) non-vectorization  \n",
        "```\n",
        "Z = 0  \n",
        "for i in range(n-x):  \n",
        "  Z += w[i] * x[i]  \n",
        "Z += b  \n",
        "```\n",
        "2) vetorization\n",
        "```\n",
        "Z = np.dot(w,x)+b\n",
        "```\n",
        "np.dot(w,x) = w<sup>T</sup>x  <= 훨씬 빠름"
      ],
      "metadata": {
        "id": "qhh2ANwUXvoM"
      }
    },
    {
      "cell_type": "code",
      "execution_count": 4,
      "metadata": {
        "colab": {
          "base_uri": "https://localhost:8080/"
        },
        "id": "g9oYMHtYW4Dc",
        "outputId": "84e4dde5-68c3-48aa-e981-344f554345f0"
      },
      "outputs": [
        {
          "output_type": "stream",
          "name": "stdout",
          "text": [
            "250039.6117285606\n",
            "Vectorized version:4.99415397644043ms\n",
            "250039.61172856428\n",
            "For loop:954.5340538024902ms\n"
          ]
        }
      ],
      "source": [
        "import numpy as np\n",
        "import time\n",
        "\n",
        "a = np.random.rand(1000000)\n",
        "b = np.random.rand(1000000)\n",
        "\n",
        "tic = time.time()\n",
        "c = np.dot(a,b)\n",
        "toc = time.time()\n",
        "\n",
        "print(c)\n",
        "print(\"Vectorized version:\" + str(1000*(toc-tic)) +\"ms\")\n",
        "\n",
        "c = 0\n",
        "\n",
        "tic = time.time()\n",
        "for i in range(1000000):\n",
        "\tc += a[i]*b[i]\n",
        "toc = time.time()\n",
        "\n",
        "print(c)\n",
        "print(\"For loop:\" + str(1000*(toc-tic)) +\"ms\")\n",
        "\n",
        "# 200 배 가량의 차이, 성능이 좋을 수록 차이도 커질 것."
      ]
    },
    {
      "cell_type": "markdown",
      "source": [
        "신경망을 프로그래밍하거나 회귀만 프로그래밍할 때는 가능한 for문을 피하는 것이 효율적이다\n",
        "\n",
        "ex)  u = Av  \n",
        "u = np.zeros(n,1)\n",
        "- non-vec\n",
        "```\n",
        "for i :\n",
        "   for j :\n",
        "      u[i] += A[i][j]*v[j]\n",
        "```\n",
        "\n",
        "- vec  \n",
        "``` u = np.dot(A,v)```\n",
        "\n",
        "numpy에는 많은 벡터함수가 존재"
      ],
      "metadata": {
        "id": "HnIxujVTY7Pi"
      }
    },
    {
      "cell_type": "code",
      "source": [
        "\n"
      ],
      "metadata": {
        "id": "ysONYZbLZTyR"
      },
      "execution_count": null,
      "outputs": []
    }
  ]
}