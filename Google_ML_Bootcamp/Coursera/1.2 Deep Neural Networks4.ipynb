{
  "nbformat": 4,
  "nbformat_minor": 0,
  "metadata": {
    "colab": {
      "provenance": [],
      "authorship_tag": "ABX9TyPHFeM67Muk4TfADkD/+8JA",
      "include_colab_link": true
    },
    "kernelspec": {
      "name": "python3",
      "display_name": "Python 3"
    },
    "language_info": {
      "name": "python"
    }
  },
  "cells": [
    {
      "cell_type": "markdown",
      "metadata": {
        "id": "view-in-github",
        "colab_type": "text"
      },
      "source": [
        "<a href=\"https://colab.research.google.com/github/i2mmmmm/Study/blob/main/Google_ML_Bootcamp/Coursera/1.2%20Deep%20Neural%20Networks4.ipynb\" target=\"_parent\"><img src=\"https://colab.research.google.com/assets/colab-badge.svg\" alt=\"Open In Colab\"/></a>"
      ]
    },
    {
      "cell_type": "markdown",
      "source": [
        "##Broadcasting example\n",
        "- [1,2,3,4] + 100 이렇게 쓰면 Python에서는 알아서 100을 [100,100,100,100]으로 **자동 확장**한다.\n",
        "\n",
        "- [1 2 3] + [100 200 300]　->　[1 2 3] + [100 200 300]  \n",
        "  [4 5 6]　　　　　　　　　　[4 5 6]　[100 200 300]\n",
        "\n",
        "- (m,n) + (1,n) 행렬 더할 때도 (1,n) 행렬을 m번 복사하여 **자동으로 (m,n)으로** 바꾼다.\n",
        "- 마찬가지로 (m,n) + (m,1) 행렬을 더할 때에도 (m,1) 행렬을 n번 복사하여 **자동으로 (m,n)으로** 바꾼다."
      ],
      "metadata": {
        "id": "8xoVfVrtlVnG"
      }
    },
    {
      "cell_type": "code",
      "execution_count": 3,
      "metadata": {
        "colab": {
          "base_uri": "https://localhost:8080/"
        },
        "id": "pH5w8PJigK_1",
        "outputId": "ea9ccf79-49bb-4be6-d6df-aa3105f21696"
      },
      "outputs": [
        {
          "output_type": "stream",
          "name": "stdout",
          "text": [
            "[[ 56.    0.    4.4  68. ]\n",
            " [  1.2 104.   52.    8. ]\n",
            " [  1.8 135.   99.    0.9]]\n"
          ]
        }
      ],
      "source": [
        "import numpy as np\n",
        "\n",
        "A = np.array([[56,0,4.4,68],\n",
        "             [1.2,104,52,8],\n",
        "             [1.8,135,99,0.9]])\n",
        "print(A)"
      ]
    },
    {
      "cell_type": "code",
      "source": [
        "cal = A.sum(axis=0)\n",
        "print(cal)"
      ],
      "metadata": {
        "colab": {
          "base_uri": "https://localhost:8080/"
        },
        "id": "-mgK9B5WhKRj",
        "outputId": "58a4ae4d-3c1a-4fc9-d6ad-82618501bd09"
      },
      "execution_count": 11,
      "outputs": [
        {
          "output_type": "stream",
          "name": "stdout",
          "text": [
            "[ 59.  239.  155.4  76.9]\n"
          ]
        }
      ]
    },
    {
      "cell_type": "code",
      "source": [
        "per = 100*A/cal\n",
        "print(per)"
      ],
      "metadata": {
        "colab": {
          "base_uri": "https://localhost:8080/"
        },
        "id": "JNac-6SOhhD8",
        "outputId": "7caf6a97-9faf-4997-d98d-d5aa9b8f9b68"
      },
      "execution_count": 14,
      "outputs": [
        {
          "output_type": "stream",
          "name": "stdout",
          "text": [
            "[[94.91525424  0.          2.83140283 88.42652796]\n",
            " [ 2.03389831 43.51464435 33.46203346 10.40312094]\n",
            " [ 3.05084746 56.48535565 63.70656371  1.17035111]]\n"
          ]
        }
      ]
    },
    {
      "cell_type": "markdown",
      "source": [
        "### 버그를 만들지 않는 팁!\n",
        "\n",
        "- **1순위 배열** (rank 1 arrays) 을 사용하지 않는 것.\n",
        "- a.shape = (5,) 이라면 a = a.**reshape**(5,1) 해서 rank-1 배열을 없애는 것이 좋다."
      ],
      "metadata": {
        "id": "LtmUUuX8ogmI"
      }
    },
    {
      "cell_type": "code",
      "source": [
        "a = np.random.randn(5) # <1순위 배열> 이라고 함\n",
        "print(a)              # 이것을 사용하지 않는 것을 추천\n",
        "# -> (5,1) or (1,5)로 만들어서 일관된 행동을 하게끔 해야함\n",
        "# -> a = a.reshape(5,1) 1순위 배열은 이렇게 변형하기"
      ],
      "metadata": {
        "colab": {
          "base_uri": "https://localhost:8080/"
        },
        "id": "97kCkppEmnEQ",
        "outputId": "62b47e40-53e8-4a79-c155-5228614bf59a"
      },
      "execution_count": 16,
      "outputs": [
        {
          "output_type": "stream",
          "name": "stdout",
          "text": [
            "[-0.67455937  0.02682557 -2.42564468 -0.67657165  2.15719521]\n"
          ]
        }
      ]
    },
    {
      "cell_type": "code",
      "source": [
        "print(a.shape)\n",
        "print(a.T)\n",
        "print((a.T).shape)"
      ],
      "metadata": {
        "colab": {
          "base_uri": "https://localhost:8080/"
        },
        "id": "sBQis3dDmrha",
        "outputId": "ea12d175-ed17-4d3c-eec0-73589936203f"
      },
      "execution_count": 21,
      "outputs": [
        {
          "output_type": "stream",
          "name": "stdout",
          "text": [
            "(5,)\n",
            "[-0.67455937  0.02682557 -2.42564468 -0.67657165  2.15719521]\n",
            "(5,)\n"
          ]
        }
      ]
    },
    {
      "cell_type": "code",
      "source": [
        "print(np.dot(a,a.T))\n",
        "print(np.dot(a.T,a))"
      ],
      "metadata": {
        "colab": {
          "base_uri": "https://localhost:8080/"
        },
        "id": "YJy_y0Tem_9_",
        "outputId": "7754f8bd-04a7-43e7-f993-4365f24da231"
      },
      "execution_count": 24,
      "outputs": [
        {
          "output_type": "stream",
          "name": "stdout",
          "text": [
            "11.450742408678103\n",
            "11.450742408678103\n"
          ]
        }
      ]
    },
    {
      "cell_type": "code",
      "source": [
        "b = np.random.randn(5,1)\n",
        "print(b)"
      ],
      "metadata": {
        "colab": {
          "base_uri": "https://localhost:8080/"
        },
        "id": "KJ3LodR5nLBB",
        "outputId": "238163f5-61f9-43f4-e7bc-6fcd4dfa61c3"
      },
      "execution_count": 22,
      "outputs": [
        {
          "output_type": "stream",
          "name": "stdout",
          "text": [
            "[[-0.48334621]\n",
            " [-1.35346001]\n",
            " [-1.6436072 ]\n",
            " [ 0.78370974]\n",
            " [ 1.23504239]]\n"
          ]
        }
      ]
    },
    {
      "cell_type": "code",
      "source": [
        "print(b.T)\n",
        "print(b.shape)\n",
        "print(b.T.shape)\n",
        "#a, b 차이점 [[ 대괄호 두 개 ]]"
      ],
      "metadata": {
        "colab": {
          "base_uri": "https://localhost:8080/"
        },
        "id": "Gu8-ylGcnQlb",
        "outputId": "5504221e-ea92-4d01-bfc4-50af4be55085"
      },
      "execution_count": 23,
      "outputs": [
        {
          "output_type": "stream",
          "name": "stdout",
          "text": [
            "[[-0.48334621 -1.35346001 -1.6436072   0.78370974  1.23504239]]\n",
            "(5, 1)\n",
            "(1, 5)\n"
          ]
        }
      ]
    },
    {
      "cell_type": "code",
      "source": [
        "print(np.dot(b,b.T))\n",
        "print(np.dot(b.T,b))"
      ],
      "metadata": {
        "colab": {
          "base_uri": "https://localhost:8080/"
        },
        "id": "2zUAiH4QngjZ",
        "outputId": "a26c80d8-63db-44db-d820-5e28a6e58974"
      },
      "execution_count": 25,
      "outputs": [
        {
          "output_type": "stream",
          "name": "stdout",
          "text": [
            "[[ 0.23362356  0.65418976  0.79443131 -0.37880313 -0.59695306]\n",
            " [ 0.65418976  1.83185399  2.22455662 -1.0607198  -1.67158049]\n",
            " [ 0.79443131  2.22455662  2.70144463 -1.28811098 -2.02992457]\n",
            " [-0.37880313 -1.0607198  -1.28811098  0.61420096  0.96791476]\n",
            " [-0.59695306 -1.67158049 -2.02992457  0.96791476  1.52532971]]\n",
            "[[6.90645286]]\n"
          ]
        }
      ]
    }
  ]
}