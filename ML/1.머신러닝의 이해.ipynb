{
  "nbformat": 4,
  "nbformat_minor": 0,
  "metadata": {
    "colab": {
      "provenance": [],
      "gpuType": "T4",
      "authorship_tag": "ABX9TyPMI9xlWq9V02SVA8Ax2hVE",
      "include_colab_link": true
    },
    "kernelspec": {
      "name": "python3",
      "display_name": "Python 3"
    },
    "language_info": {
      "name": "python"
    },
    "accelerator": "GPU"
  },
  "cells": [
    {
      "cell_type": "markdown",
      "metadata": {
        "id": "view-in-github",
        "colab_type": "text"
      },
      "source": [
        "<a href=\"https://colab.research.google.com/github/i2mmmmm/Study/blob/main/ML/1.%EB%A8%B8%EC%8B%A0%EB%9F%AC%EB%8B%9D%EC%9D%98%20%EC%9D%B4%ED%95%B4.ipynb\" target=\"_parent\"><img src=\"https://colab.research.google.com/assets/colab-badge.svg\" alt=\"Open In Colab\"/></a>"
      ]
    },
    {
      "cell_type": "markdown",
      "source": [
        "###1. 머신러닝 기초 개념:\n",
        "- 머신러의 정의 : 컴퓨터 시스템이 경험을 통해 학습하고, 작업을 수행하도록 하는 기술. 데이터로부터 패턴을 학습하고 이를 사용하여 문제를 해결하는 분야.\n",
        "- 지도 학습, 비지도 학습, 강화 학습:\n",
        " - 지도학습(Supervised Learning) : 훈련 데이터에 레이블이 포함되어 있어, 모델이 입력과 출력 간의 매핑을 학습. ex)분류(Classification), 회귀(Regression) 등.\n",
        " - 비지도학습(Unsupervised Learning) : 훈련 데이터에 레이블이 없으며, 모델은 입력 데이터의 구조나 패턴을 찾아내려고 함. ex)군집화(Clustering), 차원축소(Dimensionality Reduction) 등.\n",
        " - 강화학습(Reinforcement Learning): 에이전트가 환경과 상호작용하며, 어떤 작업을 수행하고 그 결과에 대한 보상 또는 벌점을 받아 학습.\n",
        "\n",
        "###2. 주요 용어 및 용어 해설:\n",
        "- 특징(Feature): 입력 데이터의 속성이나 변수를 의미. ex)스팸 여부 판단에서 사용되는 이메일의 단어들이 특징\n",
        "- 레이블(Label): 지도 학습에서 모델이 예측하려는 결과. ex)스팸 여부 판단에서 '스팸' 혹은 '정상' 이 라벨\n",
        "- 훈련데이터(Training Data): 모델이 학습하는 데에 사용되는 데이터 세트. 특징과 해당 레이블이 포함.\n",
        "- 테스트 데이터(Test Data): 모델이 학습한 후 성능을 평가하기 위해 사용되는 데이터 세트\n",
        "\n",
        "###3. 파이썬 기초:\n",
        "- jupyter Notebook : 대화형 환경, 코드 셀에 코드를 입력하고 실행할 수 있음.\n",
        "- 변수 및 데이터 타입 : ex)name = YourName 이라는 코드에서 name은 변수, YourName 은 문자열 데이터 타입.\n",
        "- 제어구조 : 조건문(if-else), 반복문(for,while) 을 사용하여 프로그램의 흐름 제어.\n",
        "\n",
        "주요 용어 및 용어 해설:\n",
        "- 특징 (Feature), 레이블 (Label), 훈련 데이터 (Training Data), 테스트 데이터 (Test Data) 등의 주요 용어 이해\n",
        "- 손실 함수 (Loss Function), 최적화 알고리즘 등 핵심 용어 소개\n",
        "\n",
        "파이썬 기초:\n",
        "- Jupyter Notebook을 사용한 간단한 파이썬 코드 실행\n",
        "- 변수, 데이터 타입, 제어 구조에 대한 기본 개념 익히기"
      ],
      "metadata": {
        "id": "OCgpgJUVMdn0"
      }
    },
    {
      "cell_type": "markdown",
      "source": [
        "##머신러닝과 딥러닝의 차이점\n",
        "###머신러닝(Machine Learning):\n",
        "- 개념 : 머신러닝은 데이터에서 학습하고 패턴을 발견하여 모델을 구축하는 기술\n",
        "- 특징 :\n",
        " - Feature engineering(특징공학)이 중요. 데이터로부터 특징을 추출하고, 이를 모델에 입력하여 학습.\n",
        " - 주로 얕은 학습(Shallow Learning)모델에 사용.\n",
        " - 사람이 수동으로 특징을 선택하거나 추출해야 하는 경우가 많음.\n",
        "- ex) 선형회귀, 결정트리, k-최근접 이웃, 서포트 벡터머신 등\n",
        "\n",
        "###딥러닝(Deep Learning)\n",
        "- 개념 : 딥러닝은 인공 신경망을 사용하여, 복잡한 문제를 해결하는 머신러닝의 한 분야.\n",
        "- 특징 :\n",
        " - 대규모 데이터 세트에서 자동으로 특징을 학습.\n",
        " - 다층 신경망(DNN)과 같은 심층 학습 알고리증을 사용.\n",
        " - 특히 신경망의 깊이가 깊어질수록 복잡한 패턴을 학습할 수 있음.\n",
        "- ex) 심층 신경망, CNN(컨볼루션 신경망), RNN(순환신경망), VAE(변이형오토인코더), GAN(생성적 적대 신경망) 등.\n",
        "\n",
        "###주요 차이점:\n",
        "- 머신러닝은 주로 사람이 정의한 특징을 사용하고, 딥러닝은 특징을 자동적으로 학습함. 딥러닝은 대규모의 데이터와 복잡한 모델을 사용하여 높은 성능을 얻을 수 있지만, 학습에 필요한 계산량이 많음.\n",
        "\n",
        "머신러닝이 다양한 분야에서 활용 중이지만, 딥러닝은 이미지,음성,텍스트 등에서 탁월한 성과를 내고 있으며, 특히 대규모 데이터와 복잡한 문제에 적합.\n",
        "\n",
        "* 머신러닝에서의 비지도 학습 : 군집화, 차원축소"
      ],
      "metadata": {
        "id": "GTwKbTbgQJ75"
      }
    },
    {
      "cell_type": "markdown",
      "source": [
        "###1. 변수 및 데이터 타입\n",
        "- 변수의 개념과 변수에 데이터를 할당하는 방법을 이해하기.\n",
        "- 자주 사용되는 데이터 타입인 정소, 부동소수점(float), 문자열(str)등 학습\n",
        "\n",
        "###2. 제어 구조:\n",
        "- 조건문(if-else), 반복문(for, while)을 통해 프로그램 흐름을 제어하는 방법 이해하기\n",
        "- 주어진 리스트의 요소들을 반복문으로 순회하거나, 조건문으로 특정 조건을 확인하는 예시 살펴보기\n",
        "\n",
        "###3. 자료구조\n",
        "- 리스트, 튜플, 딕셔너리, 세트 등 파이썬 기본 자료 구조 학습\n",
        "- 자료 구조를 효과적으로 활용하고 데이터를 저장하고 다루는 방법 익히기\n",
        "\n",
        "###4. 함수\n",
        "- 함수를 정의하고 호출하는 방법 배우기\n",
        "- 함수의 매개변수와 반환값을 사용하여 재사용 가능한 코드를 작성하는 방법 이해하기\n",
        "\n"
      ],
      "metadata": {
        "id": "75RxjxhTQ-TU"
      }
    },
    {
      "cell_type": "code",
      "source": [
        "# 리스트\n",
        "\n",
        "fruits = ['사과', '바나나', '딸기','포도']\n",
        "\n",
        "print(fruits)\n",
        "print('과일의 개수:',len(fruits))\n",
        "print('첫 번째 과일:',fruits[0])"
      ],
      "metadata": {
        "id": "yHQYsqnZRyQl",
        "outputId": "2017bb30-5953-4a03-fcd1-9bca2d5ce570",
        "colab": {
          "base_uri": "https://localhost:8080/"
        }
      },
      "execution_count": 1,
      "outputs": [
        {
          "output_type": "stream",
          "name": "stdout",
          "text": [
            "['사과', '바나나', '딸기', '포도']\n",
            "과일의 개수: 4\n",
            "첫 번째 과일: 사과\n"
          ]
        }
      ]
    },
    {
      "cell_type": "code",
      "source": [
        "for fruit in fruits:\n",
        "  print(fruit)"
      ],
      "metadata": {
        "id": "WmCi5taeSI8p",
        "outputId": "728c21e2-96ef-4120-806c-c99c0d66c691",
        "colab": {
          "base_uri": "https://localhost:8080/"
        }
      },
      "execution_count": 5,
      "outputs": [
        {
          "output_type": "stream",
          "name": "stdout",
          "text": [
            "사과\n",
            "바나나\n",
            "딸기\n",
            "포도\n"
          ]
        }
      ]
    },
    {
      "cell_type": "code",
      "source": [
        "numbers=[1,2,3,4,5,6,7,8,9,10]\n",
        "\n",
        "even_numbers=[]\n",
        "\n",
        "for num in numbers:\n",
        "  if num%2==0:\n",
        "    even_numbers.append(num)\n",
        "\n",
        "print(\"주어진 숫자 리스트:\", numbers)\n",
        "print(\"짝수 리스트: \",even_numbers)"
      ],
      "metadata": {
        "id": "1REyU20kSO0C",
        "outputId": "5e20e9f4-1499-465f-ca67-d8cf4516ec47",
        "colab": {
          "base_uri": "https://localhost:8080/"
        }
      },
      "execution_count": 6,
      "outputs": [
        {
          "output_type": "stream",
          "name": "stdout",
          "text": [
            "주어진 숫자 리스트: [1, 2, 3, 4, 5, 6, 7, 8, 9, 10]\n",
            "짝수 리스트:  [2, 4, 6, 8, 10]\n"
          ]
        }
      ]
    },
    {
      "cell_type": "code",
      "source": [
        "#조건문\n",
        "x = 10\n",
        "\n",
        "if x>0:\n",
        "  print('양수')\n",
        "elif x==0:\n",
        "  print('0')\n",
        "else:\n",
        "  print('음수')"
      ],
      "metadata": {
        "id": "O4wWk1GhSrVt",
        "outputId": "fd07b219-8118-4994-b531-56f0efa405db",
        "colab": {
          "base_uri": "https://localhost:8080/"
        }
      },
      "execution_count": 7,
      "outputs": [
        {
          "output_type": "stream",
          "name": "stdout",
          "text": [
            "양수\n"
          ]
        }
      ]
    },
    {
      "cell_type": "code",
      "source": [
        "def get_grade(score):\n",
        "  if score >= 90:\n",
        "    return \"A\"\n",
        "  elif 80<= score:\n",
        "    return \"B\"\n",
        "  elif 70<=score:\n",
        "    return \"C\"\n",
        "  elif 60<=score:\n",
        "    return \"D\"\n",
        "  else:\n",
        "    return \"F\"\n",
        "\n",
        "student_score = 75\n",
        "student_grade = get_grade(student_score)\n",
        "\n",
        "print(f\"학생의 성적 : {student_score}\")\n",
        "print(f\"학생의 학점 : {student_grade}\")"
      ],
      "metadata": {
        "id": "rHJpQxw1S6SU",
        "outputId": "da284be7-9a55-49ca-f994-1e59be831b24",
        "colab": {
          "base_uri": "https://localhost:8080/"
        }
      },
      "execution_count": 9,
      "outputs": [
        {
          "output_type": "stream",
          "name": "stdout",
          "text": [
            "학생의 성적 : 75\n",
            "학생의 학점 : C\n"
          ]
        }
      ]
    },
    {
      "cell_type": "code",
      "source": [
        "# 딕셔너리\n",
        "person = {\"이름\": \"홍길동\", \"나이\":25, \"직업\": \"학생\"}\n",
        "print(person)\n",
        "print(\"이름:\", person[\"이름\"])\n",
        "\n",
        "# 세트\n",
        "fruits_set = {\"사과\",\"바나나\",\"딸기\",\"사과\"}\n",
        "print(fruits_set)\n",
        "fruits_set.add(\"포도\")\n",
        "print(fruits_set)"
      ],
      "metadata": {
        "id": "6MiUdQJ_TkYH",
        "outputId": "cf7d20d3-75f5-4749-8155-66e91d944bfe",
        "colab": {
          "base_uri": "https://localhost:8080/"
        }
      },
      "execution_count": 12,
      "outputs": [
        {
          "output_type": "stream",
          "name": "stdout",
          "text": [
            "{'이름': '홍길동', '나이': 25, '직업': '학생'}\n",
            "이름: 홍길동\n",
            "{'바나나', '사과', '딸기'}\n",
            "{'바나나', '사과', '포도', '딸기'}\n"
          ]
        }
      ]
    },
    {
      "cell_type": "code",
      "source": [
        "# 예제\n",
        "books = {}\n",
        "\n",
        "def add_book(title, author):\n",
        "  books[title] = author\n",
        "  print(f\"{title} - 책제목으로 성공적으로 추가되었습니다.\")\n",
        "\n",
        "# 책 검색 함수 정의\n",
        "def search_book(title):\n",
        "  if title in books:\n",
        "    print(f\"{title}의 저자는 {books[title]}입니다.\")\n",
        "  else:\n",
        "    print(f\"{title} - 책을 찾을 수 없습니다.\")\n",
        "\n",
        "\n",
        "add_book(\"파이썬 초급\", \"홍길동\")\n",
        "add_book(\"머신러닝\", \"이순신\")\n",
        "\n",
        "search_book(\"파이썬 초급\")\n",
        "search_book(\"딥러닝\")"
      ],
      "metadata": {
        "id": "qaH6jewRUGQf",
        "outputId": "9d426432-063c-4102-a3c1-90e6869493ea",
        "colab": {
          "base_uri": "https://localhost:8080/"
        }
      },
      "execution_count": 14,
      "outputs": [
        {
          "output_type": "stream",
          "name": "stdout",
          "text": [
            "파이썬 초급 - 책제목으로 성공적으로 추가되었습니다.\n",
            "머신러닝 - 책제목으로 성공적으로 추가되었습니다.\n",
            "파이썬 초급의 저자는 홍길동입니다.\n",
            "딥러닝 - 책을 찾을 수 없습니다.\n"
          ]
        }
      ]
    }
  ]
}