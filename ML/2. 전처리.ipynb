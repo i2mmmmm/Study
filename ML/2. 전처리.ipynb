{
  "nbformat": 4,
  "nbformat_minor": 0,
  "metadata": {
    "colab": {
      "provenance": [],
      "gpuType": "T4",
      "authorship_tag": "ABX9TyMYypP5PCWuBYe6H55VEGKz",
      "include_colab_link": true
    },
    "kernelspec": {
      "name": "python3",
      "display_name": "Python 3"
    },
    "language_info": {
      "name": "python"
    },
    "accelerator": "GPU"
  },
  "cells": [
    {
      "cell_type": "markdown",
      "metadata": {
        "id": "view-in-github",
        "colab_type": "text"
      },
      "source": [
        "<a href=\"https://colab.research.google.com/github/i2mmmmm/Study/blob/main/ML/2.%20%EC%A0%84%EC%B2%98%EB%A6%AC.ipynb\" target=\"_parent\"><img src=\"https://colab.research.google.com/assets/colab-badge.svg\" alt=\"Open In Colab\"/></a>"
      ]
    },
    {
      "cell_type": "markdown",
      "source": [
        "## 데이터 전처리"
      ],
      "metadata": {
        "id": "OCgpgJUVMdn0"
      }
    },
    {
      "cell_type": "code",
      "source": [
        "# 1. 데이터 불러오기\n",
        "import pandas as pd\n",
        "\n",
        "# csv 파일 불러오기\n",
        "data = pd.read_csv('your_dataset.csv')\n",
        "\n",
        "# 데이터 시작 확인\n",
        "print(data.head())"
      ],
      "metadata": {
        "id": "IuepTLqddeHZ"
      },
      "execution_count": null,
      "outputs": []
    },
    {
      "cell_type": "code",
      "source": [
        "# 2. 데이터 결측치 처리\n",
        "\n",
        "# 결측치 확인\n",
        "print(data.isnull().sum())\n",
        "\n",
        "# 결측치 제거\n",
        "data = data.dropna()\n",
        "\n",
        "# 결측치 대체\n",
        "data = data.fillna(value)"
      ],
      "metadata": {
        "id": "Gi0MLYOKdhw2"
      },
      "execution_count": null,
      "outputs": []
    },
    {
      "cell_type": "code",
      "source": [
        "# 3. 이상치 처리\n",
        "\n",
        "# 이상치 확인\n",
        "Q1 = data['column_name'].quantile(0.25)\n",
        "Q3 = data['column_name'].quantile(0.75)\n",
        "IQR = Q3 - Q1\n",
        "data = data[(data['column_name'] >= Q1 - 1.5 * IQR) & (data['column_name'] <= Q3 + 1.5 * IQR)]"
      ],
      "metadata": {
        "id": "SdWwveyXdvzh"
      },
      "execution_count": null,
      "outputs": []
    }
  ]
}