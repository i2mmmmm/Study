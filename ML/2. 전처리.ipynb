{
  "nbformat": 4,
  "nbformat_minor": 0,
  "metadata": {
    "colab": {
      "provenance": [],
      "gpuType": "T4",
      "authorship_tag": "ABX9TyM+g0nxQF3URNyiBThkqxrc",
      "include_colab_link": true
    },
    "kernelspec": {
      "name": "python3",
      "display_name": "Python 3"
    },
    "language_info": {
      "name": "python"
    },
    "accelerator": "GPU"
  },
  "cells": [
    {
      "cell_type": "markdown",
      "metadata": {
        "id": "view-in-github",
        "colab_type": "text"
      },
      "source": [
        "<a href=\"https://colab.research.google.com/github/i2mmmmm/Study/blob/main/ML/2.%20%EC%A0%84%EC%B2%98%EB%A6%AC.ipynb\" target=\"_parent\"><img src=\"https://colab.research.google.com/assets/colab-badge.svg\" alt=\"Open In Colab\"/></a>"
      ]
    },
    {
      "cell_type": "markdown",
      "source": [
        "## 데이터 전처리"
      ],
      "metadata": {
        "id": "OCgpgJUVMdn0"
      }
    },
    {
      "cell_type": "code",
      "source": [
        "import pandas as pd\n",
        "\n",
        "# 예시 데이터 생성\n",
        "data = {\n",
        "    'Name': ['Alice', 'Bob', 'Charlie', 'David', 'Eva'],\n",
        "    'Age': [25, 30, None, 28, 35],\n",
        "    'Height': [160, 175, 180, None, 155],\n",
        "    'Weight': [55, 70, 80, 65, 50],\n",
        "    'Score': [75, 82, 90, 88, None]\n",
        "}\n",
        "\n",
        "# 데이터프레임 생성\n",
        "df = pd.DataFrame(data)\n",
        "\n",
        "# CSV 파일로 저장\n",
        "df.to_csv('example_data.csv', index=False)"
      ],
      "metadata": {
        "id": "f5cfU0DiSqwi"
      },
      "execution_count": 1,
      "outputs": []
    },
    {
      "cell_type": "markdown",
      "source": [
        "###1. 데이터 불러오기"
      ],
      "metadata": {
        "id": "C9w5clsQQDAT"
      }
    },
    {
      "cell_type": "code",
      "source": [
        "# csv 파일 불러오기\n",
        "data = pd.read_csv('example_data.csv')\n",
        "\n",
        "# 데이터 시작 확인\n",
        "print(data.head())"
      ],
      "metadata": {
        "id": "IuepTLqddeHZ",
        "outputId": "c57ed5bb-78cf-459b-ad4a-95a6279998f7",
        "colab": {
          "base_uri": "https://localhost:8080/"
        }
      },
      "execution_count": 7,
      "outputs": [
        {
          "output_type": "stream",
          "name": "stdout",
          "text": [
            "      Name   Age  Height  Weight  Score\n",
            "0    Alice  25.0   160.0      55   75.0\n",
            "1      Bob  30.0   175.0      70   82.0\n",
            "2  Charlie   NaN   180.0      80   90.0\n",
            "3    David  28.0     NaN      65   88.0\n",
            "4      Eva  35.0   155.0      50    NaN\n"
          ]
        }
      ]
    },
    {
      "cell_type": "markdown",
      "source": [
        "###2. 데이터 결측치 처리"
      ],
      "metadata": {
        "id": "3Yfojix1QJ0Q"
      }
    },
    {
      "cell_type": "code",
      "source": [
        "# 결측치 확인\n",
        "print(data.isnull().sum())\n",
        "\n",
        "# 결측치 제거\n",
        "# data = data.dropna()\n",
        "\n",
        "# 결측치 대체\n",
        "data = data.fillna(data.mean())\n",
        "\n",
        "print(data.head())"
      ],
      "metadata": {
        "id": "Gi0MLYOKdhw2",
        "outputId": "34d94b63-fc7d-4067-fc6e-797131615f00",
        "colab": {
          "base_uri": "https://localhost:8080/"
        }
      },
      "execution_count": 8,
      "outputs": [
        {
          "output_type": "stream",
          "name": "stdout",
          "text": [
            "Name      0\n",
            "Age       1\n",
            "Height    1\n",
            "Weight    0\n",
            "Score     1\n",
            "dtype: int64\n",
            "      Name   Age  Height  Weight  Score\n",
            "0    Alice  25.0   160.0      55  75.00\n",
            "1      Bob  30.0   175.0      70  82.00\n",
            "2  Charlie  29.5   180.0      80  90.00\n",
            "3    David  28.0   167.5      65  88.00\n",
            "4      Eva  35.0   155.0      50  83.75\n"
          ]
        },
        {
          "output_type": "stream",
          "name": "stderr",
          "text": [
            "<ipython-input-8-936fc280e4ff>:8: FutureWarning: The default value of numeric_only in DataFrame.mean is deprecated. In a future version, it will default to False. In addition, specifying 'numeric_only=None' is deprecated. Select only valid columns or specify the value of numeric_only to silence this warning.\n",
            "  data = data.fillna(data.mean())\n"
          ]
        }
      ]
    },
    {
      "cell_type": "markdown",
      "source": [
        "### 3. 이상치 처리"
      ],
      "metadata": {
        "id": "Wgt9dXMOQPR3"
      }
    },
    {
      "cell_type": "code",
      "source": [
        "# 이상치 확인\n",
        "import seaborn as sns\n",
        "import matplotlib.pyplot as plt\n",
        "\n",
        "sns.boxplot(x=data['Age'])\n",
        "plt.show\n",
        "\n",
        "Q1 = data['Age'].quantile(0.25)\n",
        "Q3 = data['Age'].quantile(0.75)\n",
        "IQR = Q3 - Q1\n",
        "data = data[(data['Age'] >= Q1 - 1.5 * IQR) & (data['Age'] <= Q3 + 1.5 * IQR)]"
      ],
      "metadata": {
        "id": "SdWwveyXdvzh",
        "outputId": "e0965f68-b447-44ac-ef9b-2fe342179470",
        "colab": {
          "base_uri": "https://localhost:8080/",
          "height": 449
        }
      },
      "execution_count": 12,
      "outputs": [
        {
          "output_type": "display_data",
          "data": {
            "text/plain": [
              "<Figure size 640x480 with 1 Axes>"
            ],
            "image/png": "[encoded data removed]"
          },
          "metadata": {}
        }
      ]
    },
    {
      "cell_type": "markdown",
      "source": [
        "### 4. 데이터 스케일링"
      ],
      "metadata": {
        "id": "o_knypoJQbEC"
      }
    },
    {
      "cell_type": "code",
      "source": [
        "from sklearn.preprocessing import StandardScaler\n",
        "\n",
        "# StandardScaler를 사용한 표준화\n",
        "scaler = StandardScaler()\n",
        "scaled_data = scaler.fit_transform(data.drop('Name',axis=1))"
      ],
      "metadata": {
        "id": "BGWmChhcO29c"
      },
      "execution_count": 14,
      "outputs": []
    },
    {
      "cell_type": "markdown",
      "source": [
        "### 5. 특성 엔지니어링"
      ],
      "metadata": {
        "id": "Z325BOeETzsU"
      }
    },
    {
      "cell_type": "code",
      "source": [
        "# 특성 엔지니어링 (키와 몸무게를 더한 새로운 열 생성)\n",
        "data = data.copy()\n",
        "data['Height_Weight_Sum'] = data['Height'] + data['Weight']"
      ],
      "metadata": {
        "id": "Xm-5HjJoToVs"
      },
      "execution_count": 20,
      "outputs": []
    },
    {
      "cell_type": "markdown",
      "source": [
        "### 6. 데이터 분할"
      ],
      "metadata": {
        "id": "tGKUIy8dUI4V"
      }
    },
    {
      "cell_type": "code",
      "source": [
        "from sklearn.model_selection import train_test_split\n",
        "\n",
        "X = data.drop(['Name', 'Score'], axis=1)\n",
        "y = data['Score']\n",
        "\n",
        "X_train, X_test, y_train, y_test = train_test_split(X, y, test_size=0.2, random_state=42)"
      ],
      "metadata": {
        "id": "X6V5e6pOUKvU"
      },
      "execution_count": 22,
      "outputs": []
    }
  ]
}