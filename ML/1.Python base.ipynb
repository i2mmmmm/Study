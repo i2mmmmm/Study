{
  "nbformat": 4,
  "nbformat_minor": 0,
  "metadata": {
    "colab": {
      "provenance": [],
      "gpuType": "T4",
      "authorship_tag": "ABX9TyNzv/U8n/1jtXk1efKA7iaZ",
      "include_colab_link": true
    },
    "kernelspec": {
      "name": "python3",
      "display_name": "Python 3"
    },
    "language_info": {
      "name": "python"
    },
    "accelerator": "GPU"
  },
  "cells": [
    {
      "cell_type": "markdown",
      "metadata": {
        "id": "view-in-github",
        "colab_type": "text"
      },
      "source": [
        "<a href=\"https://colab.research.google.com/github/i2mmmmm/Study/blob/main/ML/1.Python%20base.ipynb\" target=\"_parent\"><img src=\"https://colab.research.google.com/assets/colab-badge.svg\" alt=\"Open In Colab\"/></a>"
      ]
    },
    {
      "cell_type": "markdown",
      "source": [
        "### 파이썬 기초:\n",
        "- jupyter Notebook : 대화형 환경, 코드 셀에 코드를 입력하고 실행할 수 있음.\n",
        "- 변수 및 데이터 타입 : ex)name = YourName 이라는 코드에서 name은 변수, YourName 은 문자열 데이터 타입.\n",
        "- 제어구조 : 조건문(if-else), 반복문(for,while) 을 사용하여 프로그램의 흐름 제어.\n",
        "\n",
        "주요 용어 및 용어 해설:\n",
        "- 특징 (Feature), 레이블 (Label), 훈련 데이터 (Training Data), 테스트 데이터 (Test Data) 등의 주요 용어 이해\n",
        "- 손실 함수 (Loss Function), 최적화 알고리즘 등 핵심 용어 소개\n",
        "\n",
        "파이썬 기초:\n",
        "- Jupyter Notebook을 사용한 간단한 파이썬 코드 실행\n",
        "- 변수, 데이터 타입, 제어 구조에 대한 기본 개념 익히기"
      ],
      "metadata": {
        "id": "OCgpgJUVMdn0"
      }
    },
    {
      "cell_type": "markdown",
      "source": [
        "###1. 변수 및 데이터 타입\n",
        "- 변수의 개념과 변수에 데이터를 할당하는 방법을 이해하기.\n",
        "- 자주 사용되는 데이터 타입인 정소, 부동소수점(float), 문자열(str)등 학습\n",
        "\n",
        "###2. 제어 구조:\n",
        "- 조건문(if-else), 반복문(for, while)을 통해 프로그램 흐름을 제어하는 방법 이해하기\n",
        "- 주어진 리스트의 요소들을 반복문으로 순회하거나, 조건문으로 특정 조건을 확인하는 예시 살펴보기\n",
        "\n",
        "###3. 자료구조\n",
        "- 리스트, 튜플, 딕셔너리, 세트 등 파이썬 기본 자료 구조 학습\n",
        "- 자료 구조를 효과적으로 활용하고 데이터를 저장하고 다루는 방법 익히기\n",
        "\n",
        "###4. 함수\n",
        "- 함수를 정의하고 호출하는 방법 배우기\n",
        "- 함수의 매개변수와 반환값을 사용하여 재사용 가능한 코드를 작성하는 방법 이해하기\n",
        "\n"
      ],
      "metadata": {
        "id": "75RxjxhTQ-TU"
      }
    },
    {
      "cell_type": "code",
      "source": [
        "# 리스트\n",
        "\n",
        "fruits = ['사과', '바나나', '딸기','포도']\n",
        "\n",
        "print(fruits)\n",
        "print('과일의 개수:',len(fruits))\n",
        "print('첫 번째 과일:',fruits[0])"
      ],
      "metadata": {
        "id": "yHQYsqnZRyQl",
        "outputId": "2017bb30-5953-4a03-fcd1-9bca2d5ce570",
        "colab": {
          "base_uri": "https://localhost:8080/"
        }
      },
      "execution_count": null,
      "outputs": [
        {
          "output_type": "stream",
          "name": "stdout",
          "text": [
            "['사과', '바나나', '딸기', '포도']\n",
            "과일의 개수: 4\n",
            "첫 번째 과일: 사과\n"
          ]
        }
      ]
    },
    {
      "cell_type": "code",
      "source": [
        "for fruit in fruits:\n",
        "  print(fruit)"
      ],
      "metadata": {
        "id": "WmCi5taeSI8p",
        "outputId": "728c21e2-96ef-4120-806c-c99c0d66c691",
        "colab": {
          "base_uri": "https://localhost:8080/"
        }
      },
      "execution_count": null,
      "outputs": [
        {
          "output_type": "stream",
          "name": "stdout",
          "text": [
            "사과\n",
            "바나나\n",
            "딸기\n",
            "포도\n"
          ]
        }
      ]
    },
    {
      "cell_type": "code",
      "source": [
        "numbers=[1,2,3,4,5,6,7,8,9,10]\n",
        "\n",
        "even_numbers=[]\n",
        "\n",
        "for num in numbers:\n",
        "  if num%2==0:\n",
        "    even_numbers.append(num)\n",
        "\n",
        "print(\"주어진 숫자 리스트:\", numbers)\n",
        "print(\"짝수 리스트: \",even_numbers)"
      ],
      "metadata": {
        "id": "1REyU20kSO0C",
        "outputId": "5e20e9f4-1499-465f-ca67-d8cf4516ec47",
        "colab": {
          "base_uri": "https://localhost:8080/"
        }
      },
      "execution_count": null,
      "outputs": [
        {
          "output_type": "stream",
          "name": "stdout",
          "text": [
            "주어진 숫자 리스트: [1, 2, 3, 4, 5, 6, 7, 8, 9, 10]\n",
            "짝수 리스트:  [2, 4, 6, 8, 10]\n"
          ]
        }
      ]
    },
    {
      "cell_type": "code",
      "source": [
        "#조건문\n",
        "x = 10\n",
        "\n",
        "if x>0:\n",
        "  print('양수')\n",
        "elif x==0:\n",
        "  print('0')\n",
        "else:\n",
        "  print('음수')"
      ],
      "metadata": {
        "id": "O4wWk1GhSrVt",
        "outputId": "fd07b219-8118-4994-b531-56f0efa405db",
        "colab": {
          "base_uri": "https://localhost:8080/"
        }
      },
      "execution_count": null,
      "outputs": [
        {
          "output_type": "stream",
          "name": "stdout",
          "text": [
            "양수\n"
          ]
        }
      ]
    },
    {
      "cell_type": "code",
      "source": [
        "def get_grade(score):\n",
        "  if score >= 90:\n",
        "    return \"A\"\n",
        "  elif 80<= score:\n",
        "    return \"B\"\n",
        "  elif 70<=score:\n",
        "    return \"C\"\n",
        "  elif 60<=score:\n",
        "    return \"D\"\n",
        "  else:\n",
        "    return \"F\"\n",
        "\n",
        "student_score = 75\n",
        "student_grade = get_grade(student_score)\n",
        "\n",
        "print(f\"학생의 성적 : {student_score}\")\n",
        "print(f\"학생의 학점 : {student_grade}\")"
      ],
      "metadata": {
        "id": "rHJpQxw1S6SU",
        "outputId": "da284be7-9a55-49ca-f994-1e59be831b24",
        "colab": {
          "base_uri": "https://localhost:8080/"
        }
      },
      "execution_count": null,
      "outputs": [
        {
          "output_type": "stream",
          "name": "stdout",
          "text": [
            "학생의 성적 : 75\n",
            "학생의 학점 : C\n"
          ]
        }
      ]
    },
    {
      "cell_type": "code",
      "source": [
        "# 딕셔너리\n",
        "person = {\"이름\": \"홍길동\", \"나이\":25, \"직업\": \"학생\"}\n",
        "print(person)\n",
        "print(\"이름:\", person[\"이름\"])\n",
        "\n",
        "# 세트\n",
        "fruits_set = {\"사과\",\"바나나\",\"딸기\",\"사과\"}\n",
        "print(fruits_set)\n",
        "fruits_set.add(\"포도\")\n",
        "print(fruits_set)"
      ],
      "metadata": {
        "id": "6MiUdQJ_TkYH",
        "outputId": "cf7d20d3-75f5-4749-8155-66e91d944bfe",
        "colab": {
          "base_uri": "https://localhost:8080/"
        }
      },
      "execution_count": null,
      "outputs": [
        {
          "output_type": "stream",
          "name": "stdout",
          "text": [
            "{'이름': '홍길동', '나이': 25, '직업': '학생'}\n",
            "이름: 홍길동\n",
            "{'바나나', '사과', '딸기'}\n",
            "{'바나나', '사과', '포도', '딸기'}\n"
          ]
        }
      ]
    },
    {
      "cell_type": "code",
      "source": [
        "# 예제\n",
        "books = {}\n",
        "\n",
        "def add_book(title, author):\n",
        "  books[title] = author\n",
        "  print(f\"{title} - 책제목으로 성공적으로 추가되었습니다.\")\n",
        "\n",
        "# 책 검색 함수 정의\n",
        "def search_book(title):\n",
        "  if title in books:\n",
        "    print(f\"{title}의 저자는 {books[title]}입니다.\")\n",
        "  else:\n",
        "    print(f\"{title} - 책을 찾을 수 없습니다.\")\n",
        "\n",
        "\n",
        "add_book(\"파이썬 초급\", \"홍길동\")\n",
        "add_book(\"머신러닝\", \"이순신\")\n",
        "\n",
        "search_book(\"파이썬 초급\")\n",
        "search_book(\"딥러닝\")"
      ],
      "metadata": {
        "id": "qaH6jewRUGQf",
        "outputId": "9d426432-063c-4102-a3c1-90e6869493ea",
        "colab": {
          "base_uri": "https://localhost:8080/"
        }
      },
      "execution_count": null,
      "outputs": [
        {
          "output_type": "stream",
          "name": "stdout",
          "text": [
            "파이썬 초급 - 책제목으로 성공적으로 추가되었습니다.\n",
            "머신러닝 - 책제목으로 성공적으로 추가되었습니다.\n",
            "파이썬 초급의 저자는 홍길동입니다.\n",
            "딥러닝 - 책을 찾을 수 없습니다.\n"
          ]
        }
      ]
    },
    {
      "cell_type": "code",
      "source": [
        "# with open 에서 \"w\" :write mode/ \"r\" :read mode / \"a\" :append mode /\"b\" : binary mode\n",
        "\n",
        "# 파일 열기 쓰기\n",
        "with open(\"example.txt\",\"w\") as file:\n",
        "  file.write(\"Hello, this is a sample text.\\n\")\n",
        "  file.write(\"This is another line of text\")\n",
        "\n",
        "# 파일 열기 읽기\n",
        "with open(\"example.txt\", \"r\") as file:\n",
        "  content = file.read()\n",
        "  print(content)"
      ],
      "metadata": {
        "id": "I1s1ue-UXfj9",
        "outputId": "60c3e11e-fdc4-42e6-d44c-71718a6d92e6",
        "colab": {
          "base_uri": "https://localhost:8080/"
        }
      },
      "execution_count": null,
      "outputs": [
        {
          "output_type": "stream",
          "name": "stdout",
          "text": [
            "Hello, this is a sample text.\n",
            "This is another line of text\n"
          ]
        }
      ]
    },
    {
      "cell_type": "code",
      "source": [
        "# 로그 파일 열기\n",
        "with open(\"logfile.txt\", \"a\") as logfile:\n",
        "  try:\n",
        "    # 사용자로부터 로그 입력받기\n",
        "    log_entry = input(\"로그를 입력하세요 :\")\n",
        "\n",
        "    # 로그를 파일에 기록\n",
        "    logfile.write(log_entry+\"\\n\")\n",
        "    print(\"로그가 성공적으로 기록되었습니다.\")\n",
        "  except Exception as a:\n",
        "    print(f\"오류 발생: {e}\")"
      ],
      "metadata": {
        "id": "duHoeg7tYfsv",
        "outputId": "48521a7c-281b-4de4-d737-e07e8b9e92a0",
        "colab": {
          "base_uri": "https://localhost:8080/"
        }
      },
      "execution_count": null,
      "outputs": [
        {
          "output_type": "stream",
          "name": "stdout",
          "text": [
            "로그를 입력하세요 :abc\n",
            "로그가 성공적으로 기록되었습니다.\n"
          ]
        }
      ]
    },
    {
      "cell_type": "code",
      "source": [
        "#덧셈\n",
        "def add(x,y):\n",
        "  return x+y\n",
        "#뺄셈\n",
        "def subtract(x,y):\n",
        "  return x-y\n",
        "#곱셈\n",
        "def multiply(x,y):\n",
        "  return x*y\n",
        "#나눗셈\n",
        "def divide(x,y):\n",
        "  if y!=0:\n",
        "    return x/y\n",
        "  else:\n",
        "    return \"0으로 나눌 수 없습니다.\"\n",
        "\n",
        "def calculate (num1,cal,num2):\n",
        "  if cal == \"+\":\n",
        "    return add(num1,num2)\n",
        "  elif cal == \"-\":\n",
        "    return subtract(num1,num2)\n",
        "  elif cal == \"*\":\n",
        "    return multiply(num1,num2)\n",
        "  elif cal == \"/\":\n",
        "    return divide(num1,num2)\n",
        "  else:\n",
        "    return \"잘못된 기호를 입력했습니다.\"\n",
        "\n",
        "#사용자에게 숫자 입력 받기\n",
        "num1 = float(input(\"첫번째 숫자를 입력하세요\"))\n",
        "cal = input(\"연산기호를 입력하세요 (+,-,*,/)\")\n",
        "num2 = float(input(\"두번째 숫자를 입력하세요\"))\n",
        "\n",
        "print(f\"{num1}{cal}{num2} = {calculate(num1,cal,num2)}\")"
      ],
      "metadata": {
        "id": "T65oDTaNZA5X",
        "outputId": "78d7952c-7374-46f5-e5ce-605e3516f580",
        "colab": {
          "base_uri": "https://localhost:8080/"
        }
      },
      "execution_count": null,
      "outputs": [
        {
          "output_type": "stream",
          "name": "stdout",
          "text": [
            "첫번째 숫자를 입력하세요3\n",
            "연산기호를 입력하세요 (+,-,*,/)*\n",
            "두번째 숫자를 입력하세요5\n",
            "3.0*5.0 = 15.0\n"
          ]
        }
      ]
    },
    {
      "cell_type": "markdown",
      "source": [
        "### 클래스 (Class)\n",
        "클래스는 데이터와 그 데이터를 처리하는 메서드(함수)들을 포함하는 사용자 정의 데이터 형식, 객체를 생성하기 위한 템플릿 역할\n",
        "\n",
        "###객체 (Object)\n",
        "클래스의 인스턴스로 실제로 메모리에 할당된 것. 객체는 클래스에서 정의된 데이터와 메서드를 사용할 수 있음.\n",
        "\n",
        "###상속 (Inheritance)\n",
        "상속은 기존 클래스를 기반으로 새로운 클래스를 만드는 개념, 새로운 클래스는 기존 클래스의 특성과 동작을 상속받아 사용.\n",
        "\n"
      ],
      "metadata": {
        "id": "b3hFGzrtWJuu"
      }
    },
    {
      "cell_type": "code",
      "source": [
        "# 클래스와 객체\n",
        "class Dog:\n",
        "  def __init__(self, name, age):\n",
        "    self.name = name\n",
        "    self.age = age\n",
        "\n",
        "  def bark(self):\n",
        "    print(\"멍멍!\")\n",
        "\n",
        "# Dog 클래스는 개에 대한 템플릿\n",
        "# __init__은 객체 초기화\n",
        "# bark 메서드는 개가 짖는 행동\n",
        "\n",
        "class Cat(Dog):\n",
        "  def purr(self):\n",
        "    print(\"야옹~\")\n",
        "\n",
        "# Cat 클래스는 Dog 클래스를 상속받아 만든 클래스"
      ],
      "metadata": {
        "id": "5krjI1lmcfCE"
      },
      "execution_count": null,
      "outputs": []
    },
    {
      "cell_type": "code",
      "source": [
        "class Animal :\n",
        "  def __init__(self, name):\n",
        "    self.name = name\n",
        "\n",
        "  def make_sound(self):\n",
        "    pass #추상메서드\n",
        "\n",
        "class Dog(Animal):\n",
        "  def make_sound(self):\n",
        "    return '멍멍!'\n",
        "\n",
        "class Cat(Animal):\n",
        "  def make_sound(self):\n",
        "    return '야옹~'\n",
        "\n",
        "# 객체 생성 및 메서드 호출\n",
        "my_dog = Dog(name = \"Buddy\")\n",
        "my_cat = Cat(name = \"Whiskers\")\n",
        "\n",
        "print(f\"{my_dog.name}: {my_dog.make_sound()}\")\n",
        "print(f\"{my_cat.name}: {my_cat.make_sound()}\")\n",
        "\n",
        "# Animal 클래스를 정의하고 상속받아 Dog Cat 클래스를 만들고\n",
        "# make_sound 메서드는 각 클래스에서 오버라이딩되어 구현.\n"
      ],
      "metadata": {
        "id": "awfbaIpNWBCv",
        "outputId": "315d07bb-c528-43c7-bb09-b142c928cb5f",
        "colab": {
          "base_uri": "https://localhost:8080/"
        }
      },
      "execution_count": null,
      "outputs": [
        {
          "output_type": "stream",
          "name": "stdout",
          "text": [
            "Buddy: 멍멍!\n",
            "Whiskers: 야옹~\n"
          ]
        }
      ]
    },
    {
      "cell_type": "markdown",
      "source": [
        "###모듈\n",
        "파이썬 코드를 담고 있는 파일. 코드를 구조화하고 재사용성을 높일 수 있음.\n",
        "### 패키지\n",
        "모듈들을 담고있는 디렉토리, 패키지를 사용하여 관련 모듈들을 그룹화."
      ],
      "metadata": {
        "id": "CE51YTkNbV-6"
      }
    },
    {
      "cell_type": "code",
      "source": [
        "# 모듈 : calculator.py로 저장\n",
        "\n",
        "def add(x,y):\n",
        "  return x+y\n",
        "def subtract(x,y):\n",
        "  return x-y\n",
        "\n",
        "# 패키지 : shapes\n",
        "# shapes 패키지 안에는 rectangle 모듈과 circle 모듈이 있다고 가정\n",
        "# shapes/rectangle.py 로 저장\n",
        "\n",
        "def area(length, width):\n",
        "  return length*width\n",
        "\n",
        "# shapes/circle.py 로 저장\n",
        "\n",
        "import math\n",
        "\n",
        "def area(radius):\n",
        "  return math.pi * radius **2"
      ],
      "metadata": {
        "id": "5Jofiw1GboRl"
      },
      "execution_count": null,
      "outputs": []
    },
    {
      "cell_type": "code",
      "source": [
        "from calculator import add, substract\n",
        "\n",
        "result_add = add(10,5)\n",
        "result_substract = substract(10,5)\n",
        "\n",
        "print(\"덧셈결과 : \", result_add)\n",
        "print(\"뺄셈결과 : \", result_subtract)\n",
        "\n",
        "# 위의 코딩을 py로 저장했어야 사용할 수 있음"
      ],
      "metadata": {
        "id": "5GtChgGgdBnO"
      },
      "execution_count": null,
      "outputs": []
    },
    {
      "cell_type": "code",
      "source": [
        "# 다양한 예외처리\n",
        "\n",
        "def divide_numbers(num1, num2):\n",
        "    try:\n",
        "        result = num1 / num2\n",
        "        print(f\"나눗셈 결과: {result}\")\n",
        "\n",
        "    except ZeroDivisionError:\n",
        "        print(\"0으로 나눌 수 없습니다.\")\n",
        "\n",
        "    except ValueError:\n",
        "        print(\"올바른 숫자를 입력하세요.\")\n",
        "\n",
        "    except Exception as e:\n",
        "        print(f\"에러 발생: {e}\")\n",
        "\n",
        "    else:\n",
        "        print(\"계산이 성공적으로 완료되었습니다.\")\n",
        "\n",
        "    finally:\n",
        "        print(\"프로그램을 종료합니다.\")\n",
        "\n",
        "# 사용자에게 숫자 입력 받기\n",
        "try:\n",
        "    num1 = float(input(\"첫 번째 숫자를 입력하세요: \"))\n",
        "    num2 = float(input(\"두 번째 숫자를 입력하세요: \"))\n",
        "except ValueError:\n",
        "    print(\"올바른 숫자를 입력하세요.\")\n",
        "else:\n",
        "    # 숫자 입력이 정상적으로 이루어졌을 때만 계산 수행\n",
        "    divide_numbers(num1, num2)"
      ],
      "metadata": {
        "id": "Tdx1Azs0dCEK",
        "outputId": "02f11d5b-4bcd-4168-b398-ba98b4d1d5b5",
        "colab": {
          "base_uri": "https://localhost:8080/"
        }
      },
      "execution_count": null,
      "outputs": [
        {
          "output_type": "stream",
          "name": "stdout",
          "text": [
            "첫 번째 숫자를 입력하세요: 3\n",
            "두 번째 숫자를 입력하세요: 0\n",
            "0으로 나눌 수 없습니다.\n",
            "프로그램을 종료합니다.\n"
          ]
        }
      ]
    },
    {
      "cell_type": "code",
      "source": [
        "# 파일다루기\n",
        "file = open(\"example.txt\",'w')\n",
        "file.write(\"hello, world!\")\n",
        "file.close()\n",
        "\n",
        "# with를 사용한 파일 다루기\n",
        "with open (\"example.txt\",'w') as file:\n",
        "  file.write('hello,world!')\n",
        "\n",
        "with open(\"example.txt\",'r') as file:\n",
        "  content = file.read()\n",
        "  print(content)\n",
        "\n",
        "# 행단위 파일 읽기\n",
        "\n",
        "with open(\"example.txt\", \"r\") as file:\n",
        "    lines = file.readlines()\n",
        "    for line in lines:\n",
        "        print(line.strip())  # 각 줄의 앞뒤 공백 제거"
      ],
      "metadata": {
        "id": "p7Y3FjoedoDT",
        "colab": {
          "base_uri": "https://localhost:8080/"
        },
        "outputId": "859a7a92-d6fe-4e93-8418-65f5e450665c"
      },
      "execution_count": null,
      "outputs": [
        {
          "output_type": "stream",
          "name": "stdout",
          "text": [
            "hello,world!\n",
            "hello,world!\n"
          ]
        }
      ]
    },
    {
      "cell_type": "code",
      "source": [
        "# 사용자 입력 받아 파일에 저장하기\n",
        "user_input = input(\"파일에 저장할 내용을 입력하세요: \")\n",
        "\n",
        "with open(\"user_input.txt\", \"w\") as file:\n",
        "    file.write(user_input)\n",
        "\n",
        "# 파일 읽어서 출력하기\n",
        "with open(\"user_input.txt\", \"r\") as file:\n",
        "    content = file.read()\n",
        "    print(\"파일 내용:\")\n",
        "    print(content)"
      ],
      "metadata": {
        "colab": {
          "base_uri": "https://localhost:8080/"
        },
        "id": "nKKIEm5uTT9B",
        "outputId": "b57b48d7-4353-481e-e3ae-97e86708e242"
      },
      "execution_count": null,
      "outputs": [
        {
          "output_type": "stream",
          "name": "stdout",
          "text": [
            "파일에 저장할 내용을 입력하세요: hi hello\n",
            "파일 내용:\n",
            "hi hello\n"
          ]
        }
      ]
    },
    {
      "cell_type": "code",
      "source": [
        "# 막대그래프 그리기\n",
        "import matplotlib.pyplot as plt\n",
        "\n",
        "# 데이터\n",
        "cate = ['a','b','c','d']\n",
        "value = [ 3,7,1,5]\n",
        "\n",
        "# 막대 그래프\n",
        "plt.bar(cate,  value, color='lightblue', label = 'this is legend')\n",
        "\n",
        "# 그래프에 제목 추가\n",
        "plt.title('Bar Plot')\n",
        "\n",
        "# x축, y축 라벨 추가\n",
        "plt.xlabel('Categories')\n",
        "plt.ylabel('Values')\n",
        "\n",
        "# 범례 추가\n",
        "plt.legend()\n",
        "\n",
        "# 그래프 표시\n",
        "plt.show()\n"
      ],
      "metadata": {
        "id": "Vt71ikk1t2HV",
        "outputId": "a5290ae7-f15f-4e1b-c958-cdbbe36a83d1",
        "colab": {
          "base_uri": "https://localhost:8080/",
          "height": 472
        }
      },
      "execution_count": null,
      "outputs": [
        {
          "output_type": "display_data",
          "data": {
            "text/plain": [
              "<Figure size 640x480 with 1 Axes>"
            ],
            "image/png": "[encoded data removed]"
          },
          "metadata": {}
        }
      ]
    },
    {
      "cell_type": "code",
      "source": [
        "# 산점도 그리기\n",
        "\n",
        "# 데이터\n",
        "x = [1,2,3,4,5,6,7,8,9,10]\n",
        "y = [2,4,6,8,10,12,14,16,18,20]\n",
        "\n",
        "# 산점도 그래프\n",
        "plt.scatter(x,y,color = 'skyblue', marker='8', s=200)\n",
        "\n",
        "# 제목 추가\n",
        "plt.title('Scatter Plot')\n",
        "\n",
        "# x축 y축 라벨 추가\n",
        "plt.xlabel('X-axis')\n",
        "plt.ylabel('Y-axis')\n",
        "\n",
        "# 그래프 표시\n",
        "plt.show()"
      ],
      "metadata": {
        "id": "sen4DnPGwb2f",
        "outputId": "d480669a-ece8-4494-ee02-11d0bbddd913",
        "colab": {
          "base_uri": "https://localhost:8080/",
          "height": 472
        }
      },
      "execution_count": null,
      "outputs": [
        {
          "output_type": "display_data",
          "data": {
            "text/plain": [
              "<Figure size 640x480 with 1 Axes>"
            ],
            "image/png": "[encoded data removed]"
          },
          "metadata": {}
        }
      ]
    }
  ]
}