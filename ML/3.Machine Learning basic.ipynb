{
  "nbformat": 4,
  "nbformat_minor": 0,
  "metadata": {
    "colab": {
      "provenance": [],
      "gpuType": "T4",
      "authorship_tag": "ABX9TyPnU/XYnLgnLFv7IpM21MA9",
      "include_colab_link": true
    },
    "kernelspec": {
      "name": "python3",
      "display_name": "Python 3"
    },
    "language_info": {
      "name": "python"
    },
    "accelerator": "GPU"
  },
  "cells": [
    {
      "cell_type": "markdown",
      "metadata": {
        "id": "view-in-github",
        "colab_type": "text"
      },
      "source": [
        "<a href=\"https://colab.research.google.com/github/i2mmmmm/Study/blob/main/ML/3.Machine%20Learning%20basic.ipynb\" target=\"_parent\"><img src=\"https://colab.research.google.com/assets/colab-badge.svg\" alt=\"Open In Colab\"/></a>"
      ]
    },
    {
      "cell_type": "markdown",
      "source": [
        "###1. 머신러닝 기초 개념:\n",
        "- 머신러의 정의 : 컴퓨터 시스템이 경험을 통해 학습하고, 작업을 수행하도록 하는 기술. 데이터로부터 패턴을 학습하고 이를 사용하여 문제를 해결하는 분야.\n",
        "- 지도 학습, 비지도 학습, 강화 학습:\n",
        " - 지도학습(Supervised Learning) : 훈련 데이터에 레이블이 포함되어 있어, 모델이 입력과 출력 간의 매핑을 학습. ex)분류(Classification), 회귀(Regression) 등.\n",
        " - 비지도학습(Unsupervised Learning) : 훈련 데이터에 레이블이 없으며, 모델은 입력 데이터의 구조나 패턴을 찾아내려고 함. ex)군집화(Clustering), 차원축소(Dimensionality Reduction) 등.\n",
        " - 강화학습(Reinforcement Learning): 에이전트가 환경과 상호작용하며, 어떤 작업을 수행하고 그 결과에 대한 보상 또는 벌점을 받아 학습.\n",
        "\n",
        "###2. 주요 용어 및 용어 해설:\n",
        "- 특징(Feature): 입력 데이터의 속성이나 변수를 의미. ex)스팸 여부 판단에서 사용되는 이메일의 단어들이 특징\n",
        "- 레이블(Label): 지도 학습에서 모델이 예측하려는 결과. ex)스팸 여부 판단에서 '스팸' 혹은 '정상' 이 라벨\n",
        "- 훈련데이터(Training Data): 모델이 학습하는 데에 사용되는 데이터 세트. 특징과 해당 레이블이 포함.\n",
        "- 테스트 데이터(Test Data): 모델이 학습한 후 성능을 평가하기 위해 사용되는 데이터 세트\n"
      ],
      "metadata": {
        "id": "OCgpgJUVMdn0"
      }
    },
    {
      "cell_type": "markdown",
      "source": [
        "##머신러닝과 딥러닝의 차이점\n",
        "###머신러닝(Machine Learning):\n",
        "- 개념 : 머신러닝은 데이터에서 학습하고 패턴을 발견하여 모델을 구축하는 기술\n",
        "- 특징 :\n",
        " - Feature engineering(특징공학)이 중요. 데이터로부터 특징을 추출하고, 이를 모델에 입력하여 학습.\n",
        " - 주로 얕은 학습(Shallow Learning)모델에 사용.\n",
        " - 사람이 수동으로 특징을 선택하거나 추출해야 하는 경우가 많음.\n",
        "- ex) 선형회귀, 결정트리, k-최근접 이웃, 서포트 벡터머신 등\n",
        "\n",
        "###딥러닝(Deep Learning)\n",
        "- 개념 : 딥러닝은 인공 신경망을 사용하여, 복잡한 문제를 해결하는 머신러닝의 한 분야.\n",
        "- 특징 :\n",
        " - 대규모 데이터 세트에서 자동으로 특징을 학습.\n",
        " - 다층 신경망(DNN)과 같은 심층 학습 알고리증을 사용.\n",
        " - 특히 신경망의 깊이가 깊어질수록 복잡한 패턴을 학습할 수 있음.\n",
        "- ex) 심층 신경망, CNN(컨볼루션 신경망), RNN(순환신경망), VAE(변이형오토인코더), GAN(생성적 적대 신경망) 등.\n",
        "\n",
        "###주요 차이점:\n",
        "- 머신러닝은 주로 사람이 정의한 특징을 사용하고, 딥러닝은 특징을 자동적으로 학습함. 딥러닝은 대규모의 데이터와 복잡한 모델을 사용하여 높은 성능을 얻을 수 있지만, 학습에 필요한 계산량이 많음.\n",
        "\n",
        "머신러닝이 다양한 분야에서 활용 중이지만, 딥러닝은 이미지,음성,텍스트 등에서 탁월한 성과를 내고 있으며, 특히 대규모 데이터와 복잡한 문제에 적합.\n",
        "\n",
        "* 머신러닝에서의 비지도 학습 : 군집화, 차원축소"
      ],
      "metadata": {
        "id": "GTwKbTbgQJ75"
      }
    }
  ]
}