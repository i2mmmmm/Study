{
  "nbformat": 4,
  "nbformat_minor": 0,
  "metadata": {
    "colab": {
      "provenance": [],
      "gpuType": "T4",
      "authorship_tag": "ABX9TyN4FFhbRvyeJzIsSKZA9ov/",
      "include_colab_link": true
    },
    "kernelspec": {
      "name": "python3",
      "display_name": "Python 3"
    },
    "language_info": {
      "name": "python"
    },
    "accelerator": "GPU"
  },
  "cells": [
    {
      "cell_type": "markdown",
      "metadata": {
        "id": "view-in-github",
        "colab_type": "text"
      },
      "source": [
        "<a href=\"https://colab.research.google.com/github/i2mmmmm/Study/blob/main/ML/3.Machine%20Learning%20basic.ipynb\" target=\"_parent\"><img src=\"https://colab.research.google.com/assets/colab-badge.svg\" alt=\"Open In Colab\"/></a>"
      ]
    },
    {
      "cell_type": "markdown",
      "source": [
        "###1. 머신러닝 기초 개념:\n",
        "- 머신러의 정의 : 컴퓨터 시스템이 경험을 통해 학습하고, 작업을 수행하도록 하는 기술. 데이터로부터 패턴을 학습하고 이를 사용하여 문제를 해결하는 분야.\n",
        "- 지도 학습, 비지도 학습, 강화 학습:\n",
        " - 지도학습(Supervised Learning) : 훈련 데이터에 레이블이 포함되어 있어, 모델이 입력과 출력 간의 매핑을 학습. ex)분류(Classification), 회귀(Regression) 등.\n",
        " - 비지도학습(Unsupervised Learning) : 훈련 데이터에 레이블이 없으며, 모델은 입력 데이터의 구조나 패턴을 찾아내려고 함. ex)군집화(Clustering), 차원축소(Dimensionality Reduction) 등.\n",
        " - 강화학습(Reinforcement Learning): 에이전트가 환경과 상호작용하며, 어떤 작업을 수행하고 그 결과에 대한 보상 또는 벌점을 받아 학습.\n",
        "\n",
        "###2. 주요 용어 및 용어 해설:\n",
        "- 특징(Feature): 입력 데이터의 속성이나 변수를 의미. ex)스팸 여부 판단에서 사용되는 이메일의 단어들이 특징\n",
        "- 레이블(Label): 지도 학습에서 모델이 예측하려는 결과. ex)스팸 여부 판단에서 '스팸' 혹은 '정상' 이 라벨\n",
        "- 훈련데이터(Training Data): 모델이 학습하는 데에 사용되는 데이터 세트. 특징과 해당 레이블이 포함.\n",
        "- 테스트 데이터(Test Data): 모델이 학습한 후 성능을 평가하기 위해 사용되는 데이터 세트\n"
      ],
      "metadata": {
        "id": "OCgpgJUVMdn0"
      }
    },
    {
      "cell_type": "markdown",
      "source": [
        "##머신러닝과 딥러닝의 차이점\n",
        "###머신러닝(Machine Learning):\n",
        "- 개념 : 머신러닝은 데이터에서 학습하고 패턴을 발견하여 모델을 구축하는 기술\n",
        "- 특징 :\n",
        " - Feature engineering(특징공학)이 중요. 데이터로부터 특징을 추출하고, 이를 모델에 입력하여 학습.\n",
        " - 주로 얕은 학습(Shallow Learning)모델에 사용.\n",
        " - 사람이 수동으로 특징을 선택하거나 추출해야 하는 경우가 많음.\n",
        "- ex) 선형회귀, 결정트리, k-최근접 이웃, 서포트 벡터머신 등\n",
        "\n",
        "###딥러닝(Deep Learning)\n",
        "- 개념 : 딥러닝은 인공 신경망을 사용하여, 복잡한 문제를 해결하는 머신러닝의 한 분야.\n",
        "- 특징 :\n",
        " - 대규모 데이터 세트에서 자동으로 특징을 학습.\n",
        " - 다층 신경망(DNN)과 같은 심층 학습 알고리증을 사용.\n",
        " - 특히 신경망의 깊이가 깊어질수록 복잡한 패턴을 학습할 수 있음.\n",
        "- ex) 심층 신경망, CNN(컨볼루션 신경망), RNN(순환신경망), VAE(변이형오토인코더), GAN(생성적 적대 신경망) 등.\n",
        "\n",
        "###주요 차이점:\n",
        "- 머신러닝은 주로 사람이 정의한 특징을 사용하고, 딥러닝은 특징을 자동적으로 학습함. 딥러닝은 대규모의 데이터와 복잡한 모델을 사용하여 높은 성능을 얻을 수 있지만, 학습에 필요한 계산량이 많음.\n",
        "\n",
        "머신러닝이 다양한 분야에서 활용 중이지만, 딥러닝은 이미지,음성,텍스트 등에서 탁월한 성과를 내고 있으며, 특히 대규모 데이터와 복잡한 문제에 적합.\n",
        "\n",
        "* 머신러닝에서의 비지도 학습 : 군집화, 차원축소"
      ],
      "metadata": {
        "id": "GTwKbTbgQJ75"
      }
    },
    {
      "cell_type": "markdown",
      "source": [
        "##3. 머신러닝 작업 흐름:\n",
        "\n",
        "###3.1 데이터 수집:\n",
        "머신러닝 모델을 학습시키기 위해 필요한 데이터를 수집.\n",
        "\n",
        "###3.2 데이터 전처리:\n",
        "수집한 데이터를 모델에 입력할 수 있는 형태로 가공. 데이터의 결측치 처리, 이상치 처리, 스케일링, 특성 엔지니어링 등\n",
        "\n",
        "###3.3 모델 선택:\n",
        "해결하려는 문제에 따라 적합한 머신러닝 모델을 선택\n",
        "\n",
        "###3.4 모델 학습:\n",
        "선택한 모델을 훈련 데이터로 학습. 모델은 입력 데이터의 패턴을 학습하고, 주어진 특징에 대한 레이블을 예측하도록 최적화\n",
        "\n",
        "###3.5 모델 평가:\n",
        "모델이 학습되었으면, 테스트 데이터를 사용하여 모델의 성능을 평가, 평가 지표는 문제의 종류에 따라 다양하게 사용\n",
        "\n",
        "###3.6 모델 튜닝:\n",
        "모델의 성능이 충분하지 않을 경우, 하이퍼파라미터를 조정하거나 다른 모델을 선택하여 성능을 향상시키는 작업\n",
        "\n",
        "###3.7 예측:\n",
        "최종적으로 학습된 모델을 사용하여 새로운 데이터에 대한 예측"
      ],
      "metadata": {
        "id": "wMMPYEpPVfiE"
      }
    },
    {
      "cell_type": "markdown",
      "source": [
        "##4. 머신러닝 알고리즘의 종류:\n",
        "###4.1 선형 회귀(Linear Regression):\n",
        "종속 변수와 한 개 이상의 독립 변수 간의 선형 관계를 모델링하는 알고리즘. 예측값과 실제 값의 차이를 최소화하는 선을 찾음.\n",
        "\n",
        "###4.2 결정 트리(Decision Trees):\n",
        "트리 구조로 이루어진 모델로, 입력에 대한 의사 결정 규칙을 학습하여 예측.\n",
        "\n",
        "###4.3 랜덤 포레스트(Random Forest):\n",
        "여러 결정 트리를 조합하여 안정적이고 정확한 예측을 수행하는 앙상블 학습 알고리즘.\n",
        "\n",
        "###4.4 k-최근접 이웃(K-Nearest Neighbors):\n",
        "새로운 데이터 포인트와 가장 가까운 k개의 훈련 데이터 포인트를 찾아 다수결로 분류하는 알고리즘.\n",
        "\n",
        "###4.5 서포트 벡터 머신(Support Vector Machines, SVM):\n",
        "데이터를 고차원 공간에 매핑하여 서로 다른 클래스를 가진 데이터를 분리하는 초평면을 찾는 알고리즘.\n",
        "\n",
        "###4.6 신경망(Neural Networks):\n",
        "인간의 뇌 구조를 모방한 인공 신경망을 사용하여 복잡한 패턴을 학습하는 딥러닝 알고리즘."
      ],
      "metadata": {
        "id": "lZW3SsDzWBWV"
      }
    },
    {
      "cell_type": "markdown",
      "source": [
        "###4.1 선형회귀 (Linear Regression)\n",
        "종속 변수와 한 개 이상의 독립 변수 간의 선형 관계를 모델링.\n",
        "\n",
        "y = mx + b\n",
        "\n",
        "-> y 종속변수, x 독립변수, m 기울기(가중치), b y절편"
      ],
      "metadata": {
        "id": "OR474dpAWTFr"
      }
    },
    {
      "cell_type": "code",
      "source": [
        "from sklearn.datasets import load_diabetes\n",
        "from sklearn.model_selection import train_test_split\n",
        "from sklearn.linear_model import LinearRegression\n",
        "from sklearn.metrics import mean_squared_error, r2_score\n",
        "import matplotlib.pyplot as plt\n",
        "import pandas as pd\n",
        "\n",
        "# 데이터 셋은 Scikit-learn의 Diabetes -> 당뇨병 환자의 특성과 당뇨병 진행정도\n",
        "\n",
        "diabetes = load_diabetes()\n",
        "\n",
        "data = pd.DataFrame(data=diabetes.data, columns = diabetes.feature_names)\n",
        "data['target']=diabetes.target\n",
        "\n",
        "data.head()"
      ],
      "metadata": {
        "id": "yQFh6gypWmUK",
        "outputId": "5b75c86d-5fea-4cb0-8ef0-cb884008282c",
        "colab": {
          "base_uri": "https://localhost:8080/",
          "height": 206
        }
      },
      "execution_count": null,
      "outputs": [
        {
          "output_type": "execute_result",
          "data": {
            "text/plain": [
              "        age       sex       bmi        bp        s1        s2        s3  \\\n",
              "0  0.038076  0.050680  0.061696  0.021872 -0.044223 -0.034821 -0.043401   \n",
              "1 -0.001882 -0.044642 -0.051474 -0.026328 -0.008449 -0.019163  0.074412   \n",
              "2  0.085299  0.050680  0.044451 -0.005670 -0.045599 -0.034194 -0.032356   \n",
              "3 -0.089063 -0.044642 -0.011595 -0.036656  0.012191  0.024991 -0.036038   \n",
              "4  0.005383 -0.044642 -0.036385  0.021872  0.003935  0.015596  0.008142   \n",
              "\n",
              "         s4        s5        s6  target  \n",
              "0 -0.002592  0.019907 -0.017646   151.0  \n",
              "1 -0.039493 -0.068332 -0.092204    75.0  \n",
              "2 -0.002592  0.002861 -0.025930   141.0  \n",
              "3  0.034309  0.022688 -0.009362   206.0  \n",
              "4 -0.002592 -0.031988 -0.046641   135.0  "
            ],
            "text/html": [
              "\n",
              "  <div id=\"df-3d620e9a-8360-45ec-b1bd-603c9d88e539\" class=\"colab-df-container\">\n",
              "    <div>\n",
              "<style scoped>\n",
              "    .dataframe tbody tr th:only-of-type {\n",
              "        vertical-align: middle;\n",
              "    }\n",
              "\n",
              "    .dataframe tbody tr th {\n",
              "        vertical-align: top;\n",
              "    }\n",
              "\n",
              "    .dataframe thead th {\n",
              "        text-align: right;\n",
              "    }\n",
              "</style>\n",
              "<table border=\"1\" class=\"dataframe\">\n",
              "  <thead>\n",
              "    <tr style=\"text-align: right;\">\n",
              "      <th></th>\n",
              "      <th>age</th>\n",
              "      <th>sex</th>\n",
              "      <th>bmi</th>\n",
              "      <th>bp</th>\n",
              "      <th>s1</th>\n",
              "      <th>s2</th>\n",
              "      <th>s3</th>\n",
              "      <th>s4</th>\n",
              "      <th>s5</th>\n",
              "      <th>s6</th>\n",
              "      <th>target</th>\n",
              "    </tr>\n",
              "  </thead>\n",
              "  <tbody>\n",
              "    <tr>\n",
              "      <th>0</th>\n",
              "      <td>0.038076</td>\n",
              "      <td>0.050680</td>\n",
              "      <td>0.061696</td>\n",
              "      <td>0.021872</td>\n",
              "      <td>-0.044223</td>\n",
              "      <td>-0.034821</td>\n",
              "      <td>-0.043401</td>\n",
              "      <td>-0.002592</td>\n",
              "      <td>0.019907</td>\n",
              "      <td>-0.017646</td>\n",
              "      <td>151.0</td>\n",
              "    </tr>\n",
              "    <tr>\n",
              "      <th>1</th>\n",
              "      <td>-0.001882</td>\n",
              "      <td>-0.044642</td>\n",
              "      <td>-0.051474</td>\n",
              "      <td>-0.026328</td>\n",
              "      <td>-0.008449</td>\n",
              "      <td>-0.019163</td>\n",
              "      <td>0.074412</td>\n",
              "      <td>-0.039493</td>\n",
              "      <td>-0.068332</td>\n",
              "      <td>-0.092204</td>\n",
              "      <td>75.0</td>\n",
              "    </tr>\n",
              "    <tr>\n",
              "      <th>2</th>\n",
              "      <td>0.085299</td>\n",
              "      <td>0.050680</td>\n",
              "      <td>0.044451</td>\n",
              "      <td>-0.005670</td>\n",
              "      <td>-0.045599</td>\n",
              "      <td>-0.034194</td>\n",
              "      <td>-0.032356</td>\n",
              "      <td>-0.002592</td>\n",
              "      <td>0.002861</td>\n",
              "      <td>-0.025930</td>\n",
              "      <td>141.0</td>\n",
              "    </tr>\n",
              "    <tr>\n",
              "      <th>3</th>\n",
              "      <td>-0.089063</td>\n",
              "      <td>-0.044642</td>\n",
              "      <td>-0.011595</td>\n",
              "      <td>-0.036656</td>\n",
              "      <td>0.012191</td>\n",
              "      <td>0.024991</td>\n",
              "      <td>-0.036038</td>\n",
              "      <td>0.034309</td>\n",
              "      <td>0.022688</td>\n",
              "      <td>-0.009362</td>\n",
              "      <td>206.0</td>\n",
              "    </tr>\n",
              "    <tr>\n",
              "      <th>4</th>\n",
              "      <td>0.005383</td>\n",
              "      <td>-0.044642</td>\n",
              "      <td>-0.036385</td>\n",
              "      <td>0.021872</td>\n",
              "      <td>0.003935</td>\n",
              "      <td>0.015596</td>\n",
              "      <td>0.008142</td>\n",
              "      <td>-0.002592</td>\n",
              "      <td>-0.031988</td>\n",
              "      <td>-0.046641</td>\n",
              "      <td>135.0</td>\n",
              "    </tr>\n",
              "  </tbody>\n",
              "</table>\n",
              "</div>\n",
              "    <div class=\"colab-df-buttons\">\n",
              "\n",
              "  <div class=\"colab-df-container\">\n",
              "    <button class=\"colab-df-convert\" onclick=\"convertToInteractive('df-3d620e9a-8360-45ec-b1bd-603c9d88e539')\"\n",
              "            title=\"Convert this dataframe to an interactive table.\"\n",
              "            style=\"display:none;\">\n",
              "\n",
              "  <svg xmlns=\"http://www.w3.org/2000/svg\" height=\"24px\" viewBox=\"0 -960 960 960\">\n",
              "    <path d=\"M120-120v-720h720v720H120Zm60-500h600v-160H180v160Zm220 220h160v-160H400v160Zm0 220h160v-160H400v160ZM180-400h160v-160H180v160Zm440 0h160v-160H620v160ZM180-180h160v-160H180v160Zm440 0h160v-160H620v160Z\"/>\n",
              "  </svg>\n",
              "    </button>\n",
              "\n",
              "  <style>\n",
              "    .colab-df-container {\n",
              "      display:flex;\n",
              "      gap: 12px;\n",
              "    }\n",
              "\n",
              "    .colab-df-convert {\n",
              "      background-color: #E8F0FE;\n",
              "      border: none;\n",
              "      border-radius: 50%;\n",
              "      cursor: pointer;\n",
              "      display: none;\n",
              "      fill: #1967D2;\n",
              "      height: 32px;\n",
              "      padding: 0 0 0 0;\n",
              "      width: 32px;\n",
              "    }\n",
              "\n",
              "    .colab-df-convert:hover {\n",
              "      background-color: #E2EBFA;\n",
              "      box-shadow: 0px 1px 2px rgba(60, 64, 67, 0.3), 0px 1px 3px 1px rgba(60, 64, 67, 0.15);\n",
              "      fill: #174EA6;\n",
              "    }\n",
              "\n",
              "    .colab-df-buttons div {\n",
              "      margin-bottom: 4px;\n",
              "    }\n",
              "\n",
              "    [theme=dark] .colab-df-convert {\n",
              "      background-color: #3B4455;\n",
              "      fill: #D2E3FC;\n",
              "    }\n",
              "\n",
              "    [theme=dark] .colab-df-convert:hover {\n",
              "      background-color: #434B5C;\n",
              "      box-shadow: 0px 1px 3px 1px rgba(0, 0, 0, 0.15);\n",
              "      filter: drop-shadow(0px 1px 2px rgba(0, 0, 0, 0.3));\n",
              "      fill: #FFFFFF;\n",
              "    }\n",
              "  </style>\n",
              "\n",
              "    <script>\n",
              "      const buttonEl =\n",
              "        document.querySelector('#df-3d620e9a-8360-45ec-b1bd-603c9d88e539 button.colab-df-convert');\n",
              "      buttonEl.style.display =\n",
              "        google.colab.kernel.accessAllowed ? 'block' : 'none';\n",
              "\n",
              "      async function convertToInteractive(key) {\n",
              "        const element = document.querySelector('#df-3d620e9a-8360-45ec-b1bd-603c9d88e539');\n",
              "        const dataTable =\n",
              "          await google.colab.kernel.invokeFunction('convertToInteractive',\n",
              "                                                    [key], {});\n",
              "        if (!dataTable) return;\n",
              "\n",
              "        const docLinkHtml = 'Like what you see? Visit the ' +\n",
              "          '<a target=\"_blank\" href=https://colab.research.google.com/notebooks/data_table.ipynb>data table notebook</a>'\n",
              "          + ' to learn more about interactive tables.';\n",
              "        element.innerHTML = '';\n",
              "        dataTable['output_type'] = 'display_data';\n",
              "        await google.colab.output.renderOutput(dataTable, element);\n",
              "        const docLink = document.createElement('div');\n",
              "        docLink.innerHTML = docLinkHtml;\n",
              "        element.appendChild(docLink);\n",
              "      }\n",
              "    </script>\n",
              "  </div>\n",
              "\n",
              "\n",
              "<div id=\"df-90c2be13-5fa2-4fa1-b667-0af944e3a6dc\">\n",
              "  <button class=\"colab-df-quickchart\" onclick=\"quickchart('df-90c2be13-5fa2-4fa1-b667-0af944e3a6dc')\"\n",
              "            title=\"Suggest charts\"\n",
              "            style=\"display:none;\">\n",
              "\n",
              "<svg xmlns=\"http://www.w3.org/2000/svg\" height=\"24px\"viewBox=\"0 0 24 24\"\n",
              "     width=\"24px\">\n",
              "    <g>\n",
              "        <path d=\"M19 3H5c-1.1 0-2 .9-2 2v14c0 1.1.9 2 2 2h14c1.1 0 2-.9 2-2V5c0-1.1-.9-2-2-2zM9 17H7v-7h2v7zm4 0h-2V7h2v10zm4 0h-2v-4h2v4z\"/>\n",
              "    </g>\n",
              "</svg>\n",
              "  </button>\n",
              "\n",
              "<style>\n",
              "  .colab-df-quickchart {\n",
              "      --bg-color: #E8F0FE;\n",
              "      --fill-color: #1967D2;\n",
              "      --hover-bg-color: #E2EBFA;\n",
              "      --hover-fill-color: #174EA6;\n",
              "      --disabled-fill-color: #AAA;\n",
              "      --disabled-bg-color: #DDD;\n",
              "  }\n",
              "\n",
              "  [theme=dark] .colab-df-quickchart {\n",
              "      --bg-color: #3B4455;\n",
              "      --fill-color: #D2E3FC;\n",
              "      --hover-bg-color: #434B5C;\n",
              "      --hover-fill-color: #FFFFFF;\n",
              "      --disabled-bg-color: #3B4455;\n",
              "      --disabled-fill-color: #666;\n",
              "  }\n",
              "\n",
              "  .colab-df-quickchart {\n",
              "    background-color: var(--bg-color);\n",
              "    border: none;\n",
              "    border-radius: 50%;\n",
              "    cursor: pointer;\n",
              "    display: none;\n",
              "    fill: var(--fill-color);\n",
              "    height: 32px;\n",
              "    padding: 0;\n",
              "    width: 32px;\n",
              "  }\n",
              "\n",
              "  .colab-df-quickchart:hover {\n",
              "    background-color: var(--hover-bg-color);\n",
              "    box-shadow: 0 1px 2px rgba(60, 64, 67, 0.3), 0 1px 3px 1px rgba(60, 64, 67, 0.15);\n",
              "    fill: var(--button-hover-fill-color);\n",
              "  }\n",
              "\n",
              "  .colab-df-quickchart-complete:disabled,\n",
              "  .colab-df-quickchart-complete:disabled:hover {\n",
              "    background-color: var(--disabled-bg-color);\n",
              "    fill: var(--disabled-fill-color);\n",
              "    box-shadow: none;\n",
              "  }\n",
              "\n",
              "  .colab-df-spinner {\n",
              "    border: 2px solid var(--fill-color);\n",
              "    border-color: transparent;\n",
              "    border-bottom-color: var(--fill-color);\n",
              "    animation:\n",
              "      spin 1s steps(1) infinite;\n",
              "  }\n",
              "\n",
              "  @keyframes spin {\n",
              "    0% {\n",
              "      border-color: transparent;\n",
              "      border-bottom-color: var(--fill-color);\n",
              "      border-left-color: var(--fill-color);\n",
              "    }\n",
              "    20% {\n",
              "      border-color: transparent;\n",
              "      border-left-color: var(--fill-color);\n",
              "      border-top-color: var(--fill-color);\n",
              "    }\n",
              "    30% {\n",
              "      border-color: transparent;\n",
              "      border-left-color: var(--fill-color);\n",
              "      border-top-color: var(--fill-color);\n",
              "      border-right-color: var(--fill-color);\n",
              "    }\n",
              "    40% {\n",
              "      border-color: transparent;\n",
              "      border-right-color: var(--fill-color);\n",
              "      border-top-color: var(--fill-color);\n",
              "    }\n",
              "    60% {\n",
              "      border-color: transparent;\n",
              "      border-right-color: var(--fill-color);\n",
              "    }\n",
              "    80% {\n",
              "      border-color: transparent;\n",
              "      border-right-color: var(--fill-color);\n",
              "      border-bottom-color: var(--fill-color);\n",
              "    }\n",
              "    90% {\n",
              "      border-color: transparent;\n",
              "      border-bottom-color: var(--fill-color);\n",
              "    }\n",
              "  }\n",
              "</style>\n",
              "\n",
              "  <script>\n",
              "    async function quickchart(key) {\n",
              "      const quickchartButtonEl =\n",
              "        document.querySelector('#' + key + ' button');\n",
              "      quickchartButtonEl.disabled = true;  // To prevent multiple clicks.\n",
              "      quickchartButtonEl.classList.add('colab-df-spinner');\n",
              "      try {\n",
              "        const charts = await google.colab.kernel.invokeFunction(\n",
              "            'suggestCharts', [key], {});\n",
              "      } catch (error) {\n",
              "        console.error('Error during call to suggestCharts:', error);\n",
              "      }\n",
              "      quickchartButtonEl.classList.remove('colab-df-spinner');\n",
              "      quickchartButtonEl.classList.add('colab-df-quickchart-complete');\n",
              "    }\n",
              "    (() => {\n",
              "      let quickchartButtonEl =\n",
              "        document.querySelector('#df-90c2be13-5fa2-4fa1-b667-0af944e3a6dc button');\n",
              "      quickchartButtonEl.style.display =\n",
              "        google.colab.kernel.accessAllowed ? 'block' : 'none';\n",
              "    })();\n",
              "  </script>\n",
              "</div>\n",
              "\n",
              "    </div>\n",
              "  </div>\n"
            ]
          },
          "metadata": {},
          "execution_count": 2
        }
      ]
    },
    {
      "cell_type": "code",
      "source": [
        "# 독립변수 종속변수 분리\n",
        "X = data['bmi'].values.reshape(-1,1) # bmi : 독립변수\n",
        "y = data['target']\n",
        "\n",
        "# 훈련데이터, 테스트데이터 분리\n",
        "X_train, X_test, y_train, y_test = train_test_split(X,y,test_size=0.2,random_state=42)\n",
        "\n",
        "# 선형회귀모델 초기화\n",
        "model= LinearRegression()\n",
        "\n",
        "# 모델 학습\n",
        "model.fit(X_train, y_train)\n",
        "\n",
        "# 테스트 데이터에 대한 예측\n",
        "y_pred= model.predict(X_test)\n",
        "\n",
        "# 성능 평가\n",
        "mse = mean_squared_error(y_test, y_pred)\n",
        "r2 = r2_score(y_test,y_pred)\n",
        "\n",
        "# 결과 출력\n",
        "print(f'MSE:{mse}')\n",
        "print(f'R-squared:{r2}')"
      ],
      "metadata": {
        "id": "dYUsZx5lgmxK",
        "outputId": "5404bde0-4114-4479-f11b-4e0164f957d3",
        "colab": {
          "base_uri": "https://localhost:8080/"
        }
      },
      "execution_count": null,
      "outputs": [
        {
          "output_type": "stream",
          "name": "stdout",
          "text": [
            "MSE:4061.8259284949268\n",
            "R-squared:0.23335039815872138\n"
          ]
        }
      ]
    },
    {
      "cell_type": "code",
      "source": [
        "# MSE가 상당히 높은 편, 모델이 예측한 값과 실제 값 간의 평균 제곱 오차가 상당히 크다는 것.\n",
        "\n",
        "# R2 값이 0.23이므로, 모델이 종속 변수의 변동성의 약 23%를 설명할 수 있음을 의미.\n",
        "# 꽤나 낮은 설명력."
      ],
      "metadata": {
        "id": "GYs5wcr3iezI"
      },
      "execution_count": null,
      "outputs": []
    },
    {
      "cell_type": "markdown",
      "source": [
        "###성능\n",
        "####1. 평균 제곱 오차(MSE):\n",
        "\n",
        "MSE는 모델이 예측한 값과 실제 값 간의 차이를 제곱하여 평균한 값입니다. MSE가 낮을수록 모델의 예측이 실제 값과 가깝다는 것을 의미합니다. 따라서 MSE가 작을수록 모델의 성능이 좋다고 평가할 수 있습니다.\n",
        "\n",
        "####2. 결정 계수(R-squared,R^2):\n",
        "\n",
        "결정 계수는 모델이 종속 변수의 총 변동성 중에서 설명할 수 있는 변동성의 비율을 나타냅니다. 최대값은 1이고, 모델이 모든 변동성을 설명할 때 1이 됩니다. 따라서 결정 계수가 1에 가까울수록 모델이 데이터를 잘 설명한다고 평가할 수 있습니다.\n"
      ],
      "metadata": {
        "id": "ETCdjFo7iI6d"
      }
    },
    {
      "cell_type": "code",
      "source": [
        "#회귀선 시각화\n",
        "plt.scatter(X_test,y_test,color='black')\n",
        "plt.plot(X_test,y_pred,color='blue',linewidth=3)\n",
        "plt.xlabel(\"BMI\")\n",
        "plt.ylabel('Target')\n",
        "plt.title('Linear Regression Sample')\n",
        "plt.show()"
      ],
      "metadata": {
        "id": "v5BQqOa4hfU2",
        "outputId": "987d381d-c287-4b66-e479-79313ec4e558",
        "colab": {
          "base_uri": "https://localhost:8080/",
          "height": 472
        }
      },
      "execution_count": null,
      "outputs": [
        {
          "output_type": "display_data",
          "data": {
            "text/plain": [
              "<Figure size 640x480 with 1 Axes>"
            ],
            "image/png": "[encoded data removed]"
          },
          "metadata": {}
        }
      ]
    },
    {
      "cell_type": "markdown",
      "source": [
        "###4.2 결정트리\n",
        "\n",
        " 의사 결정 규칙을 학습하여 예측하는 알고리즘\n",
        "\n",
        "####장점\n",
        "- 해석이 쉬움\n",
        "- 범주형 수치형 데이터 처리 가능\n",
        "- 데이터스케일링 정규화 필요하지 않음\n",
        "\n",
        "#### 단점\n",
        "- 과적합되기 쉬움\n",
        "- 작은 변화에도 크게 변함\n",
        "\n",
        "-> 랜덤포레스트, 그래디언트 부스팅 같은 앙상블 사용"
      ],
      "metadata": {
        "id": "SJn0spy3IxdF"
      }
    },
    {
      "cell_type": "code",
      "source": [
        "from sklearn.tree import DecisionTreeRegressor\n",
        "\n",
        "# 의사결정트리\n",
        "tree_model = DecisionTreeRegressor()\n",
        "\n",
        "# 모델 학습\n",
        "tree_model.fit(X_train, y_train)\n",
        "\n",
        "# 테스트 데이터 에측\n",
        "y_tree_pred = tree_model.predict(X_test)\n",
        "\n",
        "# 성능평가\n",
        "tree_mse = mean_squared_error(y_test,y_tree_pred)\n",
        "tree_r2 = r2_score(y_test, y_tree_pred)\n",
        "\n",
        "# 결과 출력\n",
        "print(f'의사결정트리 MSE :{tree_mse}')\n",
        "print(f'의사결정트리 R2 = {tree_r2}')"
      ],
      "metadata": {
        "colab": {
          "base_uri": "https://localhost:8080/"
        },
        "id": "CxC01TiXIwN9",
        "outputId": "36ee482e-8864-4391-9655-f87fe0d06a95"
      },
      "execution_count": null,
      "outputs": [
        {
          "output_type": "stream",
          "name": "stdout",
          "text": [
            "의사결정트리 MSE :4471.594026217228\n",
            "의사결정트리 R2 = 0.15600869162171438\n"
          ]
        }
      ]
    },
    {
      "cell_type": "code",
      "source": [
        "# MSE는 선형회귀보다 높고, R2는 선형회귀보다 낮음\n",
        "# = 선형회귀보다도 안좋은 성능"
      ],
      "metadata": {
        "id": "HmjHaYsuLU5P"
      },
      "execution_count": null,
      "outputs": []
    },
    {
      "cell_type": "markdown",
      "source": [
        "###4.3 랜덤포레스트(Random Forest)\n",
        "\n",
        "여러 개의 결정 트리를 생성하고 각 트리의 예측을 평균내서 예측하는 앙상블 기법. 무작위로 선택된 데이터의 부분 집합을 사용."
      ],
      "metadata": {
        "id": "8Z9nqwK_ZJjK"
      }
    },
    {
      "cell_type": "code",
      "source": [
        "from sklearn.ensemble import RandomForestRegressor\n",
        "\n",
        "# 모델 초기화\n",
        "forest_model = RandomForestRegressor(n_estimators =100, random_state = 42)\n",
        "\n",
        "# 모델 학습\n",
        "forest_model.fit(X_train, y_train)\n",
        "\n",
        "# 예측\n",
        "y_forest_pred = forest_model.predict(X_test)\n",
        "\n",
        "# 성능 평가\n",
        "forest_mse = mean_squared_error(y_test,y_forest_pred)\n",
        "forest_r2 = r2_score(y_test, y_forest_pred)\n",
        "\n",
        "# 결과 출력\n",
        "print(f'Random Forest MSE : {forest_mse}')\n",
        "print(f'Random Forest R2 : {forest_r2}')"
      ],
      "metadata": {
        "id": "ATCtVNYDZIT1",
        "outputId": "feae3375-1274-4163-e2fe-cfb335aa6c96",
        "colab": {
          "base_uri": "https://localhost:8080/"
        }
      },
      "execution_count": null,
      "outputs": [
        {
          "output_type": "stream",
          "name": "stdout",
          "text": [
            "Random Forest MSE : 4293.168013439725\n",
            "Random Forest R2 : 0.18968572113062931\n"
          ]
        }
      ]
    },
    {
      "cell_type": "code",
      "source": [
        "# 하이퍼파라미터 튜닝\n",
        "\n",
        "from sklearn.model_selection import GridSearchCV\n",
        "\n",
        "# 튜닝할 파라미터 정의\n",
        "param_grid = {\n",
        "    'n_estimators': [100, 200, 300],\n",
        "    'max_depth': [None, 10, 20],\n",
        "    'min_samples_split': [2, 5, 10],\n",
        "    'min_samples_leaf': [1, 2, 4]\n",
        "}\n",
        "\n",
        "\n",
        "# RandomForestRegressor 모델 초기화\n",
        "forest_model_tuned = RandomForestRegressor(random_state=42)\n",
        "\n",
        "# 그리드 탐색을 통해 최적의 하이퍼파라미터 탐색\n",
        "grid_search = GridSearchCV(estimator=forest_model_tuned, param_grid=param_grid, cv=5, scoring='neg_mean_squared_error')\n",
        "grid_search.fit(X_train, y_train)\n",
        "\n",
        "# 최적의 하이퍼파라미터 출력\n",
        "print(\"Best Parameters:\", grid_search.best_params_)\n",
        "\n",
        "# 최적 모델\n",
        "best_model = grid_search.best_estimator_\n",
        "\n",
        "# 테스트 데이터에 대한 예측\n",
        "y_forest_tuned_pred = best_model.predict(X_test)\n",
        "\n",
        "# 성능 평가\n",
        "forest_tuned_mse = mean_squared_error(y_test, y_forest_tuned_pred)\n",
        "forest_tuned_r2 = r2_score(y_test, y_forest_tuned_pred)\n",
        "\n",
        "# 결과 출력\n",
        "print(f'Tuned Random Forest Mean Squared Error: {forest_tuned_mse}')\n",
        "print(f'Tuned Random Forest R-squared: {forest_tuned_r2}')"
      ],
      "metadata": {
        "id": "9fs5ELw3a4tm",
        "outputId": "0a2a1337-91b6-4230-f754-e716681c3e1e",
        "colab": {
          "base_uri": "https://localhost:8080/"
        }
      },
      "execution_count": null,
      "outputs": [
        {
          "output_type": "stream",
          "name": "stdout",
          "text": [
            "Best Parameters: {'max_depth': 10, 'min_samples_leaf': 4, 'min_samples_split': 10, 'n_estimators': 100}\n",
            "Tuned Random Forest Mean Squared Error: 4056.3277864814736\n",
            "Tuned Random Forest R-squared: 0.23438814533442132\n"
          ]
        }
      ]
    },
    {
      "cell_type": "markdown",
      "source": [
        "###4.4 최근접 이웃 (K-Nearest Neighbors, KNN)\n",
        "\n",
        "데이터 포인트의 근처에 있는 이웃들의 레이블을 기반으로 예측\n",
        "\n",
        "####특징\n",
        "1. 간단하고 직관적 알고리즘\n",
        "2. 지도학습\n",
        "3. 거리 측정 기반 예측\n",
        "4. 하이퍼파라미터 K 선택 (이웃의 수 = K)"
      ],
      "metadata": {
        "id": "DKjWVwPz9fPe"
      }
    },
    {
      "cell_type": "code",
      "source": [],
      "metadata": {
        "id": "h3bwWJvM9Yt7"
      },
      "execution_count": null,
      "outputs": []
    }
  ]
}