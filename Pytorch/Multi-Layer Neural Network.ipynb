{
  "nbformat": 4,
  "nbformat_minor": 0,
  "metadata": {
    "colab": {
      "provenance": [],
      "gpuType": "T4",
      "authorship_tag": "ABX9TyPy6gwUq+ckWKh3Ek6yHJhk",
      "include_colab_link": true
    },
    "kernelspec": {
      "name": "python3",
      "display_name": "Python 3"
    },
    "language_info": {
      "name": "python"
    },
    "accelerator": "GPU"
  },
  "cells": [
    {
      "cell_type": "markdown",
      "metadata": {
        "id": "view-in-github",
        "colab_type": "text"
      },
      "source": [
        "<a href=\"https://colab.research.google.com/github/i2mmmmm/Study/blob/main/Pytorch/Multi-Layer%20Neural%20Network.ipynb\" target=\"_parent\"><img src=\"https://colab.research.google.com/assets/colab-badge.svg\" alt=\"Open In Colab\"/></a>"
      ]
    },
    {
      "cell_type": "code",
      "source": [
        "# PyTorch에서 다층신경망(Multi-Layer Neural Network) 구축하고 훈련하기\n",
        "# 다층 신경망 : 여러 개의 은닉층을 포함하는 신경망 구조 (더 복잡한 문제를 모델링하기 위해 필요함)\n",
        "\n",
        "# 1. 모델 정의\n",
        "\n",
        "import torch\n",
        "import torch.nn as nn\n",
        "\n",
        "class MultiLayerPerceptron(nn.Module):\n",
        "  def __init__(self, input_size, hidden_size, output_size):\n",
        "    super(MultiLayerPerceptron, self).__init__()\n",
        "\n",
        "    # 첫번째 선형 레이어 (입력->은닉)\n",
        "    self.layer1 = nn.Linear(input_size, hidden_size)\n",
        "    # 활성화 함수 ReLU (Rectified Linear Unit)를 사용 [x<0 f(x)=0, x>=0 f(x)=x]\n",
        "    self.relu = nn.ReLU()\n",
        "    # 두번째 선형 레이어 (은닉->출력)\n",
        "    self.layer2 = nn.Linear(hidden_size, output_size)\n",
        "\n",
        "  def forward(self, x):\n",
        "    # x를 입력 -> 첫번째레이어 -> 활성화함수 -> 두번째레이어\n",
        "    x = self.layer1(x)\n",
        "    x = self.relu(x)\n",
        "    x = self.layer2(x)\n",
        "    return x"
      ],
      "metadata": {
        "id": "_PpGhcFM5Sv5"
      },
      "execution_count": 3,
      "outputs": []
    },
    {
      "cell_type": "code",
      "source": [
        "# 2. 손실 함수와 최적화 함수 정의\n",
        "\n",
        "model = MultiLayerPerceptron(input_size=1, hidden_size=64, output_size=1)\n",
        "criterion = nn.MSELoss()\n",
        "optimizer = torch.optim.SGD(model.parameters(), lr=0.01)"
      ],
      "metadata": {
        "id": "wjKmDAuJ8cIi"
      },
      "execution_count": 4,
      "outputs": []
    },
    {
      "cell_type": "code",
      "source": [
        "# 3. 데이터 준비\n",
        "\n",
        "x_data = torch.tensor([1,2,3,4,5], dtype = torch.float).view(-1,1)\n",
        "y_data = torch.tensor([3,5,7,9,11], dtype = torch.float).view(-1,1)\n",
        "# view(-1,1)을 써서 텐서의 형태로 변환하는 것."
      ],
      "metadata": {
        "id": "VD1uue559GzT"
      },
      "execution_count": 5,
      "outputs": []
    },
    {
      "cell_type": "code",
      "source": [
        "# 4. 모델 훈련\n",
        "\n",
        "num_epochs = 1000\n",
        "for epoch in range(num_epochs):\n",
        "  # Forward Pass\n",
        "  y_pred = model(x_data)\n",
        "\n",
        "  # Loss 계산\n",
        "  loss = criterion(y_pred, y_data)\n",
        "\n",
        "  # Backward Pass 및 최적화\n",
        "  optimizer.zero_grad()\n",
        "  loss.backward()\n",
        "  optimizer.step()\n",
        "\n",
        "  if (epoch+1)%100 == 0:\n",
        "    print(f'Epoch [{epoch+1}/{num_epochs}], Loss: {loss.item():.4f}')"
      ],
      "metadata": {
        "id": "mtuB4lWF9ubS",
        "outputId": "4e2f619c-afd3-4f49-87b9-15dbffd5a30d",
        "colab": {
          "base_uri": "https://localhost:8080/"
        }
      },
      "execution_count": 6,
      "outputs": [
        {
          "output_type": "stream",
          "name": "stdout",
          "text": [
            "Epoch [100/1000], Loss: 0.0023\n",
            "Epoch [200/1000], Loss: 0.0014\n",
            "Epoch [300/1000], Loss: 0.0009\n",
            "Epoch [400/1000], Loss: 0.0005\n",
            "Epoch [500/1000], Loss: 0.0003\n",
            "Epoch [600/1000], Loss: 0.0002\n",
            "Epoch [700/1000], Loss: 0.0001\n",
            "Epoch [800/1000], Loss: 0.0001\n",
            "Epoch [900/1000], Loss: 0.0001\n",
            "Epoch [1000/1000], Loss: 0.0000\n"
          ]
        }
      ]
    },
    {
      "cell_type": "code",
      "source": [
        "# 5. 훈련된 모델로 예측\n",
        "\n",
        "new_x = torch.tensor([6], dtype=torch.float).view(-1,1)\n",
        "predicted_y = model(new_x)\n",
        "print(f'예측값: {predicted_y.item()}')"
      ],
      "metadata": {
        "id": "-KnC6oli-lvC",
        "outputId": "fcedab25-1264-4408-a9cd-e6a2fbeccb19",
        "colab": {
          "base_uri": "https://localhost:8080/"
        }
      },
      "execution_count": 7,
      "outputs": [
        {
          "output_type": "stream",
          "name": "stdout",
          "text": [
            "예측값: 13.021343231201172\n"
          ]
        }
      ]
    }
  ]
}