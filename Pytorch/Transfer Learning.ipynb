{
  "nbformat": 4,
  "nbformat_minor": 0,
  "metadata": {
    "colab": {
      "provenance": [],
      "gpuType": "T4",
      "authorship_tag": "ABX9TyMuDdFKnawrVacZ5nxkpt8q",
      "include_colab_link": true
    },
    "kernelspec": {
      "name": "python3",
      "display_name": "Python 3"
    },
    "language_info": {
      "name": "python"
    },
    "accelerator": "GPU"
  },
  "cells": [
    {
      "cell_type": "markdown",
      "metadata": {
        "id": "view-in-github",
        "colab_type": "text"
      },
      "source": [
        "<a href=\"https://colab.research.google.com/github/i2mmmmm/Study/blob/main/Pytorch/Transfer%20Learning.ipynb\" target=\"_parent\"><img src=\"https://colab.research.google.com/assets/colab-badge.svg\" alt=\"Open In Colab\"/></a>"
      ]
    },
    {
      "cell_type": "markdown",
      "source": [
        "##Transfer Learning(전이 학습)\n",
        "###이미 학습된 모델의 지식을 가져와서 새로운 작업에 활용하는 딥러닝 기법\n",
        "\n",
        "###- 장점\n",
        "1. 데이터 부족 문제 해결 : 작은 규모의 데이터셋에서도 효과적으로 작동할 수 있게 도와줌\n",
        "2. 계산 비용 감소 : 이미 학습된 모델을 사용하여 계산 비용을 감소\n",
        "3. 시간 절약 : 더 빠른 수렴을 도모하므로 학습 시간 단축\n",
        "\n",
        "### - 두가지 방식\n",
        "1. Feature Extractino(특성 추출) : 사전에 학습된 모델 일부를 가져와서 새로운 모델의 특성을 추출하는 방식, 모델의 마지막 부분에 나온 특성을 가져와서 이를 새로운 분류기에 통과시키는 방식\n",
        "2. Fine-tuning(미세 조정) : 사전 학습된 모델을 가져와 일부 층을 세로운 데이터셋에 맞게 세밀하게 조정하는 방식, 일부 층 가중치를 업데이트하여 새로운 작업에 적합하게 만듬.\n",
        "\n"
      ],
      "metadata": {
        "id": "ouxKCbXLO7U3"
      }
    },
    {
      "cell_type": "code",
      "source": [
        "# 오늘의 코딩은 torchvision 라이브러리에서 제공하는 ResNet 모델 가져와서\n",
        "# 새로운 분류 작업을 수행하는 코드\n",
        "\n",
        "import torch\n",
        "import torch.nn as nn\n",
        "import torchvision\n",
        "from torchvision import datasets, transforms\n",
        "\n",
        "# 사전 학습된 ResNet 모델 로딩\n",
        "model = torchvision.models.resnet18(pretrained=True)\n",
        "\n",
        "# 마지막 분류층 변경 (전이 학습)\n",
        "num_classes = 10 # 예시로 10개의 클래스\n",
        "model.fc = nn.Linear(model.fc.in_features, num_classes)\n",
        "\n",
        "# 이미지 변환 및 데이터셋 로딩\n",
        "transform = transforms.Compose([\n",
        "    transforms.Resize((224,224)),\n",
        "    transforms.ToTensor(),\n",
        "    transforms.Normalize((0.5,0.5,0.5),(0.5,0.5,0.5))\n",
        "])\n",
        "train_dataset = datasets.CIFAR10(root='./data', train=True, download=True, transform=transform)\n",
        "test_dataset = datasets.CIFAR10(root='./data', train = False, download=True, transform= transform)\n",
        "\n",
        "train_loader = torch.utils.data.DataLoader(dataset= train_dataset, batch_size=32, shuffle=True)\n",
        "test_loader = torch.utils.data.DataLoader(dataset = test_dataset, batch_size=32, shuffle=False)\n",
        "\n",
        "# 손실 함수 및 옵티마이저 정의\n",
        "criterion = nn.CrossEntropyLoss()\n",
        "optimizer = torch.optim.SGD(model.parameters(), lr=0.001, momentum=0.9)\n",
        "\n",
        "# 전이 학습 모델 학습\n",
        "num_epochs = 5\n",
        "for epoch in range(num_epochs):\n",
        "  model.train()\n",
        "  for images, labels in train_loader:\n",
        "    optimizer.zero_grad()\n",
        "    outputs = model(images)\n",
        "    loss = criterion(outputs, labels)\n",
        "    loss.backward()\n",
        "    optimizer.step()\n",
        "  print(f'Epoch [{epoch+1}/{num_epochs}], Loss: {loss.item()}')\n",
        "\n",
        "# 전이 학습 모델 평가\n",
        "model.eval()\n",
        "correct=0\n",
        "total=0\n",
        "with torch.no_grad():\n",
        "  for images, labels in test_loader:\n",
        "    outputs = model(images)\n",
        "    _, predicted = torch.max(outputs.data, 1)\n",
        "    total += labels.size(0)\n",
        "    correct += (predicted == labels).sum().item()\n",
        "\n",
        "accuracy = correct/total\n",
        "print(f'Accuracy on the test set: {accuracy * 100:.2f}%')\n",
        "\n",
        "\n",
        "\n",
        "\n"
      ],
      "metadata": {
        "id": "Jr-KztTMQG42",
        "outputId": "14892071-842f-482b-bd49-326800c58898",
        "colab": {
          "base_uri": "https://localhost:8080/"
        }
      },
      "execution_count": null,
      "outputs": [
        {
          "output_type": "stream",
          "name": "stderr",
          "text": [
            "/usr/local/lib/python3.10/dist-packages/torchvision/models/_utils.py:208: UserWarning: The parameter 'pretrained' is deprecated since 0.13 and may be removed in the future, please use 'weights' instead.\n",
            "  warnings.warn(\n",
            "/usr/local/lib/python3.10/dist-packages/torchvision/models/_utils.py:223: UserWarning: Arguments other than a weight enum or `None` for 'weights' are deprecated since 0.13 and may be removed in the future. The current behavior is equivalent to passing `weights=ResNet18_Weights.IMAGENET1K_V1`. You can also use `weights=ResNet18_Weights.DEFAULT` to get the most up-to-date weights.\n",
            "  warnings.warn(msg)\n",
            "Downloading: \"https://download.pytorch.org/models/resnet18-f37072fd.pth\" to /root/.cache/torch/hub/checkpoints/resnet18-f37072fd.pth\n",
            "100%|██████████| 44.7M/44.7M [00:00<00:00, 114MB/s]\n"
          ]
        },
        {
          "output_type": "stream",
          "name": "stdout",
          "text": [
            "Downloading https://www.cs.toronto.edu/~kriz/cifar-10-python.tar.gz to ./data/cifar-10-python.tar.gz\n"
          ]
        },
        {
          "output_type": "stream",
          "name": "stderr",
          "text": [
            "100%|██████████| 170498071/170498071 [00:06<00:00, 28002399.47it/s]\n"
          ]
        },
        {
          "output_type": "stream",
          "name": "stdout",
          "text": [
            "Extracting ./data/cifar-10-python.tar.gz to ./data\n",
            "Files already downloaded and verified\n"
          ]
        }
      ]
    }
  ]
}