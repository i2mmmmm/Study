{
  "nbformat": 4,
  "nbformat_minor": 0,
  "metadata": {
    "colab": {
      "provenance": [],
      "gpuType": "T4",
      "authorship_tag": "ABX9TyP3uS1IPndBqR/CAWDOq/hb",
      "include_colab_link": true
    },
    "kernelspec": {
      "name": "python3",
      "display_name": "Python 3"
    },
    "language_info": {
      "name": "python"
    },
    "accelerator": "GPU"
  },
  "cells": [
    {
      "cell_type": "markdown",
      "metadata": {
        "id": "view-in-github",
        "colab_type": "text"
      },
      "source": [
        "<a href=\"https://colab.research.google.com/github/i2mmmmm/Study/blob/main/Pytorch/LinearRegressionModel.ipynb\" target=\"_parent\"><img src=\"https://colab.research.google.com/assets/colab-badge.svg\" alt=\"Open In Colab\"/></a>"
      ]
    },
    {
      "cell_type": "code",
      "source": [
        "# torch 활용해서 선형 회귀 모델 만들고 훈련시켜보기\n",
        "\n",
        "import torch\n",
        "import torch.nn as nn\n",
        "import torch.optim as optim\n",
        "\n",
        "# 데이터 생성\n",
        "# 예제 데이터 : y=2x+1\n",
        "\n",
        "x_data = torch.tensor([1,2,3,4,5],dtype = torch.float).view(-1,1)\n",
        "y_data = torch.tensor([3,5,7,9,11],dtype = torch.float).view(-1,1)"
      ],
      "metadata": {
        "id": "CuL5TgDoYJBA"
      },
      "execution_count": null,
      "outputs": []
    },
    {
      "cell_type": "code",
      "source": [
        "# 모델 정의\n",
        "class LinearRegressionModel(nn.Module):\n",
        "  def __init__(self):\n",
        "    super(LinearRegressionModel, self).__init__()\n",
        "    self.linear = nn.Linear(1,1)  # 입력, 출력 차원 : 1\n",
        "\n",
        "  def forward(self, x):\n",
        "    return self.linear(x)\n",
        "\n",
        "model = LinearRegressionModel()"
      ],
      "metadata": {
        "id": "7OUATroxccaC"
      },
      "execution_count": null,
      "outputs": []
    },
    {
      "cell_type": "code",
      "source": [
        "# 손실함수, 최적화 함수 정의\n",
        "\n",
        "# 모델을 훈련하기 위해서는 손실함수와 최적화함수를 지정해야하는데\n",
        "# 여기에서는 손실 -> 평균제곱오차, 최적화 -> 확률적 경사하강법 을 사용함.\n",
        "\n",
        "criterion = nn.MSELoss() # 평균제곱오차손실함수\n",
        "optimizer = optim.SGD(model.parameters(), lr= 0.01) # 확률적 경사 하강법 최적화\n"
      ],
      "metadata": {
        "id": "ZtSPaMNRc5MI"
      },
      "execution_count": null,
      "outputs": []
    },
    {
      "cell_type": "code",
      "source": [
        "# 모델 훈련\n",
        "num_epochs = 1000\n",
        "for epoch in range(num_epochs):\n",
        "  # Forward Pass\n",
        "  y_pred = model(x_data)\n",
        "\n",
        "  # Loss 계산\n",
        "  loss = criterion(y_pred, y_data)\n",
        "\n",
        "  # Backward Pass 및 최적화\n",
        "  optimizer.zero_grad()\n",
        "  loss.backward()\n",
        "  optimizer.step()\n",
        "\n",
        "  if (epoch +1)%100 == 0:\n",
        "    print(f'Epoch [{epoch+1}/{num_epochs}, Loss:{loss.item():.4f}]')"
      ],
      "metadata": {
        "id": "47-DYYtTdMgF",
        "outputId": "c9e301bc-f608-4a31-e70c-ba7935180d25",
        "colab": {
          "base_uri": "https://localhost:8080/"
        }
      },
      "execution_count": null,
      "outputs": [
        {
          "output_type": "stream",
          "name": "stdout",
          "text": [
            "Epoch [100/1000, Loss:0.0572]\n",
            "Epoch [200/1000, Loss:0.0291]\n",
            "Epoch [300/1000, Loss:0.0148]\n",
            "Epoch [400/1000, Loss:0.0075]\n",
            "Epoch [500/1000, Loss:0.0038]\n",
            "Epoch [600/1000, Loss:0.0019]\n",
            "Epoch [700/1000, Loss:0.0010]\n",
            "Epoch [800/1000, Loss:0.0005]\n",
            "Epoch [900/1000, Loss:0.0003]\n",
            "Epoch [1000/1000, Loss:0.0001]\n"
          ]
        }
      ]
    },
    {
      "cell_type": "code",
      "source": [
        "# 훈련된 모델을 사용하여 새로운 데이터 예측\n",
        "new_x = torch.tensor([6.0], dtype=torch.float32).view(-1, 1)\n",
        "predicted_y = model(new_x)\n",
        "print(f'예측값: {predicted_y.item()}')"
      ],
      "metadata": {
        "id": "2JLO6vd5d5D6",
        "outputId": "c439604e-44a2-4611-c3e6-07815e81daf7",
        "colab": {
          "base_uri": "https://localhost:8080/"
        }
      },
      "execution_count": null,
      "outputs": [
        {
          "output_type": "stream",
          "name": "stdout",
          "text": [
            "예측값: 13.01755142211914\n"
          ]
        }
      ]
    }
  ]
}