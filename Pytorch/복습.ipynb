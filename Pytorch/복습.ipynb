{
  "nbformat": 4,
  "nbformat_minor": 0,
  "metadata": {
    "colab": {
      "provenance": [],
      "gpuType": "T4",
      "authorship_tag": "ABX9TyMemS8Xy6xdQb9F/6L6T9N3",
      "include_colab_link": true
    },
    "kernelspec": {
      "name": "python3",
      "display_name": "Python 3"
    },
    "language_info": {
      "name": "python"
    },
    "accelerator": "GPU"
  },
  "cells": [
    {
      "cell_type": "markdown",
      "metadata": {
        "id": "view-in-github",
        "colab_type": "text"
      },
      "source": [
        "<a href=\"https://colab.research.google.com/github/i2mmmmm/Study/blob/main/Pytorch/%EB%B3%B5%EC%8A%B5.ipynb\" target=\"_parent\"><img src=\"https://colab.research.google.com/assets/colab-badge.svg\" alt=\"Open In Colab\"/></a>"
      ]
    },
    {
      "cell_type": "markdown",
      "source": [
        "###복습\n",
        "1. 간단한 선형회귀모델 (y=2x+1)\n",
        "2. 평균제곱오차 손실함수 (회귀에서 일반적으로 쓰는 실제값과 예측값 사이의 제곱을 최소화하는 함수)\n",
        "3. 확률적 경사하강법(SGD) 사용 최적화 설정\n",
        "4. 1000번 에포크동안 모델 학습\n",
        "5. 학습된 모델로 새로운 데이터 예측, 출력"
      ],
      "metadata": {
        "id": "TXSmgLfZSaWL"
      }
    },
    {
      "cell_type": "code",
      "source": [
        "\n",
        "\n",
        "import torch\n",
        "import torch.nn as nn\n",
        "import torch.optim as optim\n",
        "\n",
        "# 간단한 데이터셋 생성\n",
        "x_data = torch.rand((100,1))*10\n",
        "y_data = 2 * x_data + 1 + torch.randn((100,1))\n",
        "\n",
        "# 모델 정의\n",
        "class SimpleLinearRegression(nn.Module):\n",
        "  def __init__(self):\n",
        "    super(SimpleLinearRegression, self).__init__()\n",
        "    self.linear = nn.Linear(1,1)\n",
        "\n",
        "  def forward(self,x):\n",
        "    return self.linear(x)\n",
        "\n",
        "# 모델, 손실함수, 옵티마이저 세팅\n",
        "model = SimpleLinearRegression()\n",
        "criterion = nn.MSELoss()\n",
        "optimizer = optim.SGD(model.parameters(), lr = 0.01)\n",
        "\n",
        "# 학습\n",
        "for epoch in range(1000):\n",
        "  # 순전파\n",
        "  y_pred  = model(x_data)\n",
        "  # 손실계산\n",
        "  loss = criterion (y_pred, y_data)\n",
        "\n",
        "  # 역전파, 옵티마이저로 모델 가중치 업데이트\n",
        "  optimizer.zero_grad()\n",
        "  loss.backward()\n",
        "  optimizer.step()\n",
        "\n",
        "  # 100번의 에포크마다 손실 출력\n",
        "  if (epoch+1)%100 == 0:\n",
        "    print(f'Epoch [{epoch+1}/1000], Loss: {loss.item():.4f}')\n",
        "\n",
        "# 학습된 모델을 사용하여 예측\n",
        "with torch.no_grad():\n",
        "  new_x = torch.tensor([[5.0]])\n",
        "  prediction = model(new_x)\n",
        "  print(f'Prediction after training: {prediction.item():.4f}')"
      ],
      "metadata": {
        "id": "fHQjfFtdhyU9",
        "outputId": "73b16607-0468-4006-9517-346e71677fb8",
        "colab": {
          "base_uri": "https://localhost:8080/"
        }
      },
      "execution_count": 2,
      "outputs": [
        {
          "output_type": "stream",
          "name": "stdout",
          "text": [
            "Epoch [100/1000], Loss: 1.0939\n",
            "Epoch [200/1000], Loss: 1.0938\n",
            "Epoch [300/1000], Loss: 1.0937\n",
            "Epoch [400/1000], Loss: 1.0937\n",
            "Epoch [500/1000], Loss: 1.0936\n",
            "Epoch [600/1000], Loss: 1.0936\n",
            "Epoch [700/1000], Loss: 1.0936\n",
            "Epoch [800/1000], Loss: 1.0936\n",
            "Epoch [900/1000], Loss: 1.0936\n",
            "Epoch [1000/1000], Loss: 1.0936\n",
            "Prediction after training: 11.0949\n"
          ]
        }
      ]
    }
  ]
}