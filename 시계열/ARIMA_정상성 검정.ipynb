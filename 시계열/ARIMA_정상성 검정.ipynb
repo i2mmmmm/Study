{
  "nbformat": 4,
  "nbformat_minor": 0,
  "metadata": {
    "colab": {
      "provenance": [],
      "authorship_tag": "ABX9TyOH4VWwSvjxbPRly9JJpAM4",
      "include_colab_link": true
    },
    "kernelspec": {
      "name": "python3",
      "display_name": "Python 3"
    },
    "language_info": {
      "name": "python"
    }
  },
  "cells": [
    {
      "cell_type": "markdown",
      "metadata": {
        "id": "view-in-github",
        "colab_type": "text"
      },
      "source": [
        "<a href=\"https://colab.research.google.com/github/i2mmmmm/Study/blob/main/%EC%8B%9C%EA%B3%84%EC%97%B4/ARIMA_%EC%A0%95%EC%83%81%EC%84%B1%20%EA%B2%80%EC%A0%95.ipynb\" target=\"_parent\"><img src=\"https://colab.research.google.com/assets/colab-badge.svg\" alt=\"Open In Colab\"/></a>"
      ]
    },
    {
      "cell_type": "code",
      "execution_count": null,
      "metadata": {
        "id": "8Fy6N9fZMvEQ"
      },
      "outputs": [],
      "source": [
        "# train 데이터에서 datetime이 2001년과 2002년인 데이터 필터링\n",
        "train_0102 = train[(train['datetime'].dt.year == 2001) | (train['datetime'].dt.year == 2002)]\n",
        "\n",
        "# train 데이터에서 datetime이 2003년인 데이터 필터링 (test 데이터 역할)\n",
        "test_03 = train[train['datetime'].dt.year == 2003]\n",
        "\n",
        "# test 데이터에서 'target' 컬럼 삭제 (선택 사항)\n",
        "# test_03.drop(columns=['target'], inplace=True)  # 주석 해제하여 사용\n",
        "\n",
        "# 시간 순으로 정렬\n",
        "train_0102 = train_0102.sort_values('datetime')\n",
        "test_03 = test_03.sort_values('datetime')\n",
        "\n",
        "def check_stationarity(data):\n",
        "    result = adfuller(data)\n",
        "    print('ADF Statistic:', result[0])\n",
        "    print('p-value:', result[1])\n",
        "    print('Critical Values:')\n",
        "    for key, value in result[4].items():\n",
        "        print(f'\\t{key}: {value}')\n",
        "\n",
        "# 'target' 값의 정상성 검정\n",
        "check_stationarity(train_0102['target'])"
      ]
    },
    {
      "cell_type": "markdown",
      "source": [
        "###결과\n",
        "\n",
        "ADF Statistic: -19.40789485405884  \n",
        "p-value: 0.0  \n",
        "Critical Values:  \n",
        "-\t1%: -3.4304855170831177  \n",
        "-\t5%: -2.8615998957199116  \n",
        "-\t10%: -2.5668018805190784  \n",
        "\n",
        "###결과 해석\n",
        "1. ADF Statistic (ADF 통계량)  \n",
        "음수인 경우, 검정 통계량이 임계값보다 작거나 같음을 나타냄 일반적으로 더 **낮을수록 좋고**, 이 값이 크면 시계열 데이터가 정상성을 갖추지 않는 경향이 있다\n",
        "\n",
        "2. p-value (p-값)  \n",
        "p-value가 유의수준보다 작으면 귀무가설 기각 = 시계열 데이터가 **정상성을 가진다**고 주장할 수 있다.  \n",
        "지금은 0.0으로 나왔기 때문에 매우 낮아서 귀무가설을 거의 확실하게 기각할 수 있다.\n",
        "\n",
        "3. Critical Values (임계값):  \n",
        "ADF 통계량 임계값보다 작아야 **정상성 가설 채택**.  \n",
        " 임계값 1%, 5%, 10% 을 확인하기 위해 print 한 것.\n",
        "\n",
        "**-> 지금은 1% 임계값 -3.43 보다 -19.40이 더 작으므로 정상성을 가진다고 볼 수 있다!**"
      ],
      "metadata": {
        "id": "yNibN34PNPsj"
      }
    }
  ]
}